{
  "nbformat": 4,
  "nbformat_minor": 0,
  "metadata": {
    "colab": {
      "provenance": []
    },
    "kernelspec": {
      "name": "python3",
      "display_name": "Python 3"
    },
    "language_info": {
      "name": "python"
    }
  },
  "cells": [
    {
      "cell_type": "markdown",
      "source": [
        "# Graph Coloring Problem - Proyecto Final\n",
        "## Inteligencia computacional\n",
        "### A01275416 - Donaldo Alfredo Garrido Islas\n",
        "\n",
        "\n",
        "El Problema de Coloreado de Gráficos (Graph Coloring Problem) consiste en asignar colores a ciertos elementos de un grafo sujeto a ciertas restricciones. En este código se usa un algoritmo genético para resolver el problema y encontrar el número mínimo de colores requeridos para colorear un grafo.\n",
        "\n",
        "La coloración de grafos es una asignación de etiquetas, tradicionalmente llamadas \"colores\", a los vértices de un gráfo sujeto a la condición de que no se asigne la misma etiqueta/color a dos vértices incidentes con un borde. El menor número de colores necesarios para colorear un grafo G se conoce como su número cromático. Una coloración que utiliza como máximo n colores se denomina n-coloración. Un grafo al que se le puede asignar una n-coloración es n-coloreable."
      ],
      "metadata": {
        "id": "i1nPSjAdQ2wf"
      }
    },
    {
      "cell_type": "markdown",
      "source": [
        "El algoritmo inicia con  con un tope máximo de colores *k*, cuande se encuentra una coloración válida con esta cantidad de colores, se decrementa la cantida de colores a *k-1*. El proceso es repetido hasta que no es posible encontrar una coloración válida para el número dado de colores."
      ],
      "metadata": {
        "id": "GHhmm64aexYl"
      }
    },
    {
      "cell_type": "code",
      "source": [
        "# Instalamos librería para visualización de grafos\n",
        "!pip install networkx"
      ],
      "metadata": {
        "colab": {
          "base_uri": "https://localhost:8080/"
        },
        "id": "eRfbXkSxDED7",
        "outputId": "4dfcb491-9635-4c5f-fe95-9507ba147b82"
      },
      "execution_count": 1,
      "outputs": [
        {
          "output_type": "stream",
          "name": "stdout",
          "text": [
            "Looking in indexes: https://pypi.org/simple, https://us-python.pkg.dev/colab-wheels/public/simple/\n",
            "Requirement already satisfied: networkx in /usr/local/lib/python3.7/dist-packages (2.6.3)\n"
          ]
        }
      ]
    },
    {
      "cell_type": "code",
      "source": [
        "# Importamos las librerías necesarias\n",
        "import numpy as np\n",
        "import pandas as pd\n",
        "import random\n",
        "\n",
        "import plotly.graph_objects as go\n",
        "import plotly.express as px\n",
        "\n",
        "from array import *"
      ],
      "metadata": {
        "id": "YOiduDBTRCfn"
      },
      "execution_count": 2,
      "outputs": []
    },
    {
      "cell_type": "code",
      "source": [
        "# Creamos los grafos\n",
        "\n",
        "n = 20\n",
        "grafos = []\n",
        "\n",
        "for ii in range(n):\n",
        "  vertices = []\n",
        "  for jj in range(n):\n",
        "    vertices.append(random.randint(0,1))\n",
        "  grafos.append(vertices)"
      ],
      "metadata": {
        "id": "QgQT-2IiXjTM"
      },
      "execution_count": 3,
      "outputs": []
    },
    {
      "cell_type": "code",
      "source": [
        "# Hacemos simétrica la matriz de conexiones\n",
        "for ii in range(n):\n",
        "  for jj in range(ii, n):\n",
        "    grafos[ii][jj] = grafos[jj][ii] "
      ],
      "metadata": {
        "id": "HzFYXWfYjP8j"
      },
      "execution_count": 4,
      "outputs": []
    },
    {
      "cell_type": "code",
      "source": [
        "for ii in range(n):\n",
        "  grafos[ii][ii] = 0"
      ],
      "metadata": {
        "id": "8t1BtUgNjqTM"
      },
      "execution_count": 5,
      "outputs": []
    },
    {
      "cell_type": "code",
      "source": [
        "for grafo in grafos:\n",
        "\tprint(grafo)"
      ],
      "metadata": {
        "colab": {
          "base_uri": "https://localhost:8080/"
        },
        "id": "dO_YkOITBeD7",
        "outputId": "d0d70dcc-0921-46ee-f86d-305d09ed24ee"
      },
      "execution_count": 6,
      "outputs": [
        {
          "output_type": "stream",
          "name": "stdout",
          "text": [
            "[0, 1, 1, 1, 1, 0, 0, 1, 1, 1, 1, 0, 0, 1, 1, 1, 0, 1, 0, 0]\n",
            "[1, 0, 1, 1, 0, 0, 0, 1, 0, 0, 0, 0, 1, 0, 1, 1, 1, 1, 1, 0]\n",
            "[1, 1, 0, 1, 1, 0, 0, 0, 0, 1, 0, 1, 0, 1, 1, 1, 1, 0, 1, 1]\n",
            "[1, 1, 1, 0, 0, 1, 1, 1, 1, 1, 1, 0, 0, 0, 1, 1, 0, 1, 1, 0]\n",
            "[1, 0, 1, 0, 0, 1, 1, 1, 1, 0, 0, 0, 1, 1, 1, 0, 1, 0, 1, 1]\n",
            "[0, 0, 0, 1, 1, 0, 1, 0, 0, 1, 1, 1, 0, 0, 1, 1, 1, 0, 0, 1]\n",
            "[0, 0, 0, 1, 1, 1, 0, 0, 1, 0, 0, 0, 1, 0, 1, 1, 0, 1, 1, 0]\n",
            "[1, 1, 0, 1, 1, 0, 0, 0, 1, 1, 1, 0, 0, 0, 1, 1, 1, 1, 1, 1]\n",
            "[1, 0, 0, 1, 1, 0, 1, 1, 0, 1, 0, 0, 0, 1, 0, 0, 1, 0, 1, 1]\n",
            "[1, 0, 1, 1, 0, 1, 0, 1, 1, 0, 0, 0, 1, 1, 0, 0, 1, 0, 1, 0]\n",
            "[1, 0, 0, 1, 0, 1, 0, 1, 0, 0, 0, 0, 1, 0, 1, 1, 1, 1, 0, 1]\n",
            "[0, 0, 1, 0, 0, 1, 0, 0, 0, 0, 0, 0, 1, 0, 0, 0, 0, 1, 1, 1]\n",
            "[0, 1, 0, 0, 1, 0, 1, 0, 0, 1, 1, 1, 0, 0, 0, 0, 1, 0, 0, 0]\n",
            "[1, 0, 1, 0, 1, 0, 0, 0, 1, 1, 0, 0, 0, 0, 1, 1, 1, 1, 0, 1]\n",
            "[1, 1, 1, 1, 1, 1, 1, 1, 0, 0, 1, 0, 0, 1, 0, 0, 1, 0, 0, 0]\n",
            "[1, 1, 1, 1, 0, 1, 1, 1, 0, 0, 1, 0, 0, 1, 0, 0, 0, 0, 0, 1]\n",
            "[0, 1, 1, 0, 1, 1, 0, 1, 1, 1, 1, 0, 1, 1, 1, 0, 0, 1, 0, 1]\n",
            "[1, 1, 0, 1, 0, 0, 1, 1, 0, 0, 1, 1, 0, 1, 0, 0, 1, 0, 0, 0]\n",
            "[0, 1, 1, 1, 1, 0, 1, 1, 1, 1, 0, 1, 0, 0, 0, 0, 0, 0, 0, 1]\n",
            "[0, 0, 1, 0, 1, 1, 0, 1, 1, 0, 1, 1, 0, 1, 0, 1, 1, 0, 1, 0]\n"
          ]
        }
      ]
    },
    {
      "cell_type": "markdown",
      "source": [
        "## Diagrama de los grafos"
      ],
      "metadata": {
        "id": "NdyheCfFxYr2"
      }
    },
    {
      "cell_type": "code",
      "source": [
        "node_list = list(range(n))\n",
        "from_list = []\n",
        "to_list = []\n",
        "\n",
        "for ii in range(n):\n",
        "  for jj in range(ii,n):\n",
        "    if grafos[ii][jj] == 1:\n",
        "      from_list.append(ii)\n",
        "      to_list.append(jj)"
      ],
      "metadata": {
        "id": "TkFBOxnNxfYt"
      },
      "execution_count": 7,
      "outputs": []
    },
    {
      "cell_type": "code",
      "source": [
        "# Importamos la librería para los grafos\n",
        "import networkx as nx\n",
        "import plotly.graph_objs as go\n",
        "G = nx.Graph()"
      ],
      "metadata": {
        "id": "J0dkNmBWxgdu"
      },
      "execution_count": 8,
      "outputs": []
    },
    {
      "cell_type": "code",
      "source": [
        "lst_color = []\n",
        "for i in range(len(node_list)):\n",
        "  G.add_node(node_list[i])\n",
        "  lst_color.append('#888')\n",
        "\n",
        "\n",
        "for i in range(len(from_list)):\n",
        "  G.add_edges_from([(from_list[i], to_list[i])])"
      ],
      "metadata": {
        "id": "f6PcV6czxpf-"
      },
      "execution_count": 9,
      "outputs": []
    },
    {
      "cell_type": "code",
      "source": [
        "# Plantilla para grafo circulares (mejor visualización)\n",
        "pos = nx.circular_layout(G)\n",
        "for m, p in pos.items():\n",
        "    G.nodes[m]['pos'] = p"
      ],
      "metadata": {
        "id": "zJC89JtMxrqx"
      },
      "execution_count": 10,
      "outputs": []
    },
    {
      "cell_type": "code",
      "source": [
        "# Creamos la traza de las aristas\n",
        "edge_trace = go.Scatter(\n",
        "    x=[],\n",
        "    y=[],\n",
        "    line=dict(width=0.5, color='#888'),\n",
        "    hoverinfo='none',\n",
        "    mode='lines')\n",
        "for edge in G.edges():\n",
        "    x0, y0 = G.nodes[edge[0]]['pos']\n",
        "    x1, y1 = G.nodes[edge[1]]['pos']\n",
        "    edge_trace['x'] += tuple([x0, x1, None])\n",
        "    edge_trace['y'] += tuple([y0, y1, None])"
      ],
      "metadata": {
        "id": "D7l_bMeLxtgn"
      },
      "execution_count": 11,
      "outputs": []
    },
    {
      "cell_type": "code",
      "source": [
        "# Creamos la traza de los nodos\n",
        "node_trace = go.Scatter(\n",
        "    x=[],\n",
        "    y=[],\n",
        "    text=[],\n",
        "    mode='markers+text',\n",
        "    hoverinfo='text',\n",
        "    # Aquí va el color de los nodos\n",
        "    marker=dict(\n",
        "        showscale=False,\n",
        "        reversescale=False,\n",
        "        color=lst_color,\n",
        "        size=37,\n",
        "        colorbar=dict(\n",
        "            thickness=1,\n",
        "            title='Node Connections',\n",
        "            xanchor='left',\n",
        "            titleside='right'\n",
        "        ),\n",
        "        line=dict(width=0)))\n",
        "for node in G.nodes():\n",
        "    x, y = G.nodes[node]['pos']\n",
        "    node_trace['x'] += tuple([x])\n",
        "    node_trace['y'] += tuple([y])\n",
        "\n",
        "for node, adjacencies in enumerate(G.adjacency()):\n",
        "    node_trace['marker']['color'] += tuple([len(adjacencies[1])])\n",
        "    node_info = adjacencies[0]\n",
        "    node_trace['text'] += tuple([node_info])"
      ],
      "metadata": {
        "id": "Lv_H6B3YxvdP"
      },
      "execution_count": 12,
      "outputs": []
    },
    {
      "cell_type": "code",
      "source": [
        "# Graficamos el grafo sin colorear\n",
        "title = \"Grafo orifinal sin colorear ({} nodos)\".format(n)\n",
        "fig = go.Figure(data=[edge_trace, node_trace],\n",
        "            layout=go.Layout(\n",
        "            title=title, width=700, height=600,\n",
        "            titlefont=dict(size=16),\n",
        "            showlegend=False,\n",
        "            hovermode='closest',\n",
        "            margin=dict(b=21, l=5, r=5, t=40),\n",
        "            xaxis=dict(showgrid=False, zeroline=False,\n",
        "                       showticklabels=False, mirror=True),\n",
        "            yaxis=dict(showgrid=False, zeroline=False,\n",
        "showticklabels=False, mirror=True)))\n",
        "fig.show()"
      ],
      "metadata": {
        "colab": {
          "base_uri": "https://localhost:8080/",
          "height": 617
        },
        "id": "njtNz-VNxyQX",
        "outputId": "4c88e369-2b27-4460-cec0-c8cd94ce8e2a"
      },
      "execution_count": 13,
      "outputs": [
        {
          "output_type": "display_data",
          "data": {
            "text/html": [
              "<html>\n",
              "<head><meta charset=\"utf-8\" /></head>\n",
              "<body>\n",
              "    <div>            <script src=\"https://cdnjs.cloudflare.com/ajax/libs/mathjax/2.7.5/MathJax.js?config=TeX-AMS-MML_SVG\"></script><script type=\"text/javascript\">if (window.MathJax) {MathJax.Hub.Config({SVG: {font: \"STIX-Web\"}});}</script>                <script type=\"text/javascript\">window.PlotlyConfig = {MathJaxConfig: 'local'};</script>\n",
              "        <script src=\"https://cdn.plot.ly/plotly-2.8.3.min.js\"></script>                <div id=\"0b3092d1-b598-410e-b6d3-6d033f48bc62\" class=\"plotly-graph-div\" style=\"height:600px; width:700px;\"></div>            <script type=\"text/javascript\">                                    window.PLOTLYENV=window.PLOTLYENV || {};                                    if (document.getElementById(\"0b3092d1-b598-410e-b6d3-6d033f48bc62\")) {                    Plotly.newPlot(                        \"0b3092d1-b598-410e-b6d3-6d033f48bc62\",                        [{\"hoverinfo\":\"none\",\"line\":{\"color\":\"#888\",\"width\":0.5},\"mode\":\"lines\",\"x\":[0.9999999882774899,0.9510565289413768,null,0.9999999882774899,0.8090169934023742,null,0.9999999882774899,0.587785237752862,null,0.9999999882774899,0.30901697025596997,null,0.9999999882774899,-0.5877852345742114,null,0.9999999882774899,-0.8090169902237235,null,0.9999999882774899,-0.9510564661580821,null,0.9999999882774899,-0.9999999850988393,null,0.9999999882774899,-0.5877850557602794,null,0.9999999882774899,-0.3090171160889292,null,0.9999999882774899,1.3514205841015913e-08,null,0.9999999882774899,0.5877850589389301,null,0.9510565289413768,0.8090169934023742,null,0.9510565289413768,0.587785237752862,null,0.9510565289413768,-0.5877852345742114,null,0.9510565289413768,-0.8090169306190795,null,0.9510565289413768,-0.3090171160889292,null,0.9510565289413768,1.3514205841015913e-08,null,0.9510565289413768,0.3090171192675799,null,0.9510565289413768,0.5877850589389301,null,0.9510565289413768,0.8090169337977302,null,0.8090169934023742,0.587785237752862,null,0.8090169934023742,0.30901697025596997,null,0.8090169934023742,-0.9510564661580821,null,0.8090169934023742,-0.9510565257627261,null,0.8090169934023742,-0.5877850557602794,null,0.8090169934023742,-0.3090171160889292,null,0.8090169934023742,1.3514205841015913e-08,null,0.8090169934023742,0.3090171192675799,null,0.8090169934023742,0.8090169337977302,null,0.8090169934023742,0.9510565289413768,null,0.587785237752862,-4.212206234360422e-08,null,0.587785237752862,-0.3090170266819632,null,0.587785237752862,-0.5877852345742114,null,0.587785237752862,-0.8090169902237235,null,0.587785237752862,-0.9510564661580821,null,0.587785237752862,-0.9999999850988393,null,0.587785237752862,-0.3090171160889292,null,0.587785237752862,1.3514205841015913e-08,null,0.587785237752862,0.5877850589389301,null,0.587785237752862,0.8090169337977302,null,0.30901697025596997,-4.212206234360422e-08,null,0.30901697025596997,-0.3090170266819632,null,0.30901697025596997,-0.5877852345742114,null,0.30901697025596997,-0.8090169902237235,null,0.30901697025596997,-0.8090169306190795,null,0.30901697025596997,-0.5877850557602794,null,0.30901697025596997,-0.3090171160889292,null,0.30901697025596997,0.3090171192675799,null,0.30901697025596997,0.8090169337977302,null,0.30901697025596997,0.9510565289413768,null,-4.212206234360422e-08,-0.3090170266819632,null,-4.212206234360422e-08,-0.9510564661580821,null,-4.212206234360422e-08,-0.9999999850988393,null,-4.212206234360422e-08,-0.9510565257627261,null,-4.212206234360422e-08,-0.3090171160889292,null,-4.212206234360422e-08,1.3514205841015913e-08,null,-4.212206234360422e-08,0.3090171192675799,null,-4.212206234360422e-08,0.9510565289413768,null,-0.3090170266819632,-0.8090169902237235,null,-0.3090170266819632,-0.8090169306190795,null,-0.3090170266819632,-0.3090171160889292,null,-0.3090170266819632,1.3514205841015913e-08,null,-0.3090170266819632,0.5877850589389301,null,-0.3090170266819632,0.8090169337977302,null,-0.5877852345742114,-0.8090169902237235,null,-0.5877852345742114,-0.9510564661580821,null,-0.5877852345742114,-0.9999999850988393,null,-0.5877852345742114,-0.3090171160889292,null,-0.5877852345742114,1.3514205841015913e-08,null,-0.5877852345742114,0.3090171192675799,null,-0.5877852345742114,0.5877850589389301,null,-0.5877852345742114,0.8090169337977302,null,-0.5877852345742114,0.9510565289413768,null,-0.8090169902237235,-0.9510564661580821,null,-0.8090169902237235,-0.5877850557602794,null,-0.8090169902237235,0.3090171192675799,null,-0.8090169902237235,0.8090169337977302,null,-0.8090169902237235,0.9510565289413768,null,-0.9510564661580821,-0.8090169306190795,null,-0.9510564661580821,-0.5877850557602794,null,-0.9510564661580821,0.3090171192675799,null,-0.9510564661580821,0.8090169337977302,null,-0.9999999850988393,-0.8090169306190795,null,-0.9999999850988393,-0.3090171160889292,null,-0.9999999850988393,1.3514205841015913e-08,null,-0.9999999850988393,0.3090171192675799,null,-0.9999999850988393,0.5877850589389301,null,-0.9999999850988393,0.9510565289413768,null,-0.9510565257627261,-0.8090169306190795,null,-0.9510565257627261,0.5877850589389301,null,-0.9510565257627261,0.8090169337977302,null,-0.9510565257627261,0.9510565289413768,null,-0.8090169306190795,0.3090171192675799,null,-0.5877850557602794,-0.3090171160889292,null,-0.5877850557602794,1.3514205841015913e-08,null,-0.5877850557602794,0.3090171192675799,null,-0.5877850557602794,0.5877850589389301,null,-0.5877850557602794,0.9510565289413768,null,-0.3090171160889292,0.3090171192675799,null,1.3514205841015913e-08,0.9510565289413768,null,0.3090171192675799,0.5877850589389301,null,0.3090171192675799,0.9510565289413768,null,0.8090169337977302,0.9510565289413768,null],\"y\":[1.3311835367777423e-08,0.30901701178080193,null,1.3311835367777423e-08,0.587785249475372,null,1.3311835367777423e-08,0.8090170051248842,null,1.3311835367777423e-08,0.9510565406638868,null,1.3311835367777423e-08,0.8090170051248842,null,1.3311835367777423e-08,0.587785249475372,null,1.3311835367777423e-08,0.30901704158312393,null,1.3311835367777423e-08,-7.411094004194081e-08,null,1.3311835367777423e-08,-0.8090170977105015,null,1.3311835367777423e-08,-0.9510564544355722,null,1.3311835367777423e-08,-0.9999999733763293,null,1.3311835367777423e-08,-0.8090170977105015,null,0.30901701178080193,0.587785249475372,null,0.30901701178080193,0.8090170051248842,null,0.30901701178080193,0.8090170051248842,null,0.30901701178080193,-0.5877852824563453,null,0.30901701178080193,-0.9510564544355722,null,0.30901701178080193,-0.9999999733763293,null,0.30901701178080193,-0.9510564544355722,null,0.30901701178080193,-0.8090170977105015,null,0.30901701178080193,-0.5877852824563453,null,0.587785249475372,0.8090170051248842,null,0.587785249475372,0.9510565406638868,null,0.587785249475372,0.30901704158312393,null,0.587785249475372,-0.3090169553548092,null,0.587785249475372,-0.8090170977105015,null,0.587785249475372,-0.9510564544355722,null,0.587785249475372,-0.9999999733763293,null,0.587785249475372,-0.9510564544355722,null,0.587785249475372,-0.5877852824563453,null,0.587785249475372,-0.3090169255524872,null,0.8090170051248842,1.0,null,0.8090170051248842,0.9510564810592429,null,0.8090170051248842,0.8090170051248842,null,0.8090170051248842,0.587785249475372,null,0.8090170051248842,0.30901704158312393,null,0.8090170051248842,-7.411094004194081e-08,null,0.8090170051248842,-0.9510564544355722,null,0.8090170051248842,-0.9999999733763293,null,0.8090170051248842,-0.8090170977105015,null,0.8090170051248842,-0.5877852824563453,null,0.9510565406638868,1.0,null,0.9510565406638868,0.9510564810592429,null,0.9510565406638868,0.8090170051248842,null,0.9510565406638868,0.587785249475372,null,0.9510565406638868,-0.5877852824563453,null,0.9510565406638868,-0.8090170977105015,null,0.9510565406638868,-0.9510564544355722,null,0.9510565406638868,-0.9510564544355722,null,0.9510565406638868,-0.5877852824563453,null,0.9510565406638868,-0.3090169255524872,null,1.0,0.9510564810592429,null,1.0,0.30901704158312393,null,1.0,-7.411094004194081e-08,null,1.0,-0.3090169553548092,null,1.0,-0.9510564544355722,null,1.0,-0.9999999733763293,null,1.0,-0.9510564544355722,null,1.0,-0.3090169255524872,null,0.9510564810592429,0.587785249475372,null,0.9510564810592429,-0.5877852824563453,null,0.9510564810592429,-0.9510564544355722,null,0.9510564810592429,-0.9999999733763293,null,0.9510564810592429,-0.8090170977105015,null,0.9510564810592429,-0.5877852824563453,null,0.8090170051248842,0.587785249475372,null,0.8090170051248842,0.30901704158312393,null,0.8090170051248842,-7.411094004194081e-08,null,0.8090170051248842,-0.9510564544355722,null,0.8090170051248842,-0.9999999733763293,null,0.8090170051248842,-0.9510564544355722,null,0.8090170051248842,-0.8090170977105015,null,0.8090170051248842,-0.5877852824563453,null,0.8090170051248842,-0.3090169255524872,null,0.587785249475372,0.30901704158312393,null,0.587785249475372,-0.8090170977105015,null,0.587785249475372,-0.9510564544355722,null,0.587785249475372,-0.5877852824563453,null,0.587785249475372,-0.3090169255524872,null,0.30901704158312393,-0.5877852824563453,null,0.30901704158312393,-0.8090170977105015,null,0.30901704158312393,-0.9510564544355722,null,0.30901704158312393,-0.5877852824563453,null,-7.411094004194081e-08,-0.5877852824563453,null,-7.411094004194081e-08,-0.9510564544355722,null,-7.411094004194081e-08,-0.9999999733763293,null,-7.411094004194081e-08,-0.9510564544355722,null,-7.411094004194081e-08,-0.8090170977105015,null,-7.411094004194081e-08,-0.3090169255524872,null,-0.3090169553548092,-0.5877852824563453,null,-0.3090169553548092,-0.8090170977105015,null,-0.3090169553548092,-0.5877852824563453,null,-0.3090169553548092,-0.3090169255524872,null,-0.5877852824563453,-0.9510564544355722,null,-0.8090170977105015,-0.9510564544355722,null,-0.8090170977105015,-0.9999999733763293,null,-0.8090170977105015,-0.9510564544355722,null,-0.8090170977105015,-0.8090170977105015,null,-0.8090170977105015,-0.3090169255524872,null,-0.9510564544355722,-0.9510564544355722,null,-0.9999999733763293,-0.3090169255524872,null,-0.9510564544355722,-0.8090170977105015,null,-0.9510564544355722,-0.3090169255524872,null,-0.5877852824563453,-0.3090169255524872,null],\"type\":\"scatter\"},{\"hoverinfo\":\"text\",\"marker\":{\"color\":[\"#888\",\"#888\",\"#888\",\"#888\",\"#888\",\"#888\",\"#888\",\"#888\",\"#888\",\"#888\",\"#888\",\"#888\",\"#888\",\"#888\",\"#888\",\"#888\",\"#888\",\"#888\",\"#888\",\"#888\",12,10,12,13,12,10,9,13,10,10,10,6,7,10,11,10,13,9,10,11],\"colorbar\":{\"thickness\":1,\"title\":{\"side\":\"right\",\"text\":\"Node Connections\"},\"xanchor\":\"left\"},\"line\":{\"width\":0},\"reversescale\":false,\"showscale\":false,\"size\":37},\"mode\":\"markers+text\",\"text\":[\"0\",\"1\",\"2\",\"3\",\"4\",\"5\",\"6\",\"7\",\"8\",\"9\",\"10\",\"11\",\"12\",\"13\",\"14\",\"15\",\"16\",\"17\",\"18\",\"19\"],\"x\":[0.9999999882774899,0.9510565289413768,0.8090169934023742,0.587785237752862,0.30901697025596997,-4.212206234360422e-08,-0.3090170266819632,-0.5877852345742114,-0.8090169902237235,-0.9510564661580821,-0.9999999850988393,-0.9510565257627261,-0.8090169306190795,-0.5877850557602794,-0.3090171160889292,1.3514205841015913e-08,0.3090171192675799,0.5877850589389301,0.8090169337977302,0.9510565289413768],\"y\":[1.3311835367777423e-08,0.30901701178080193,0.587785249475372,0.8090170051248842,0.9510565406638868,1.0,0.9510564810592429,0.8090170051248842,0.587785249475372,0.30901704158312393,-7.411094004194081e-08,-0.3090169553548092,-0.5877852824563453,-0.8090170977105015,-0.9510564544355722,-0.9999999733763293,-0.9510564544355722,-0.8090170977105015,-0.5877852824563453,-0.3090169255524872],\"type\":\"scatter\"}],                        {\"height\":600,\"hovermode\":\"closest\",\"margin\":{\"b\":21,\"l\":5,\"r\":5,\"t\":40},\"showlegend\":false,\"title\":{\"font\":{\"size\":16},\"text\":\"Grafo orifinal sin colorear (20 nodos)\"},\"width\":700,\"xaxis\":{\"mirror\":true,\"showgrid\":false,\"showticklabels\":false,\"zeroline\":false},\"yaxis\":{\"mirror\":true,\"showgrid\":false,\"showticklabels\":false,\"zeroline\":false},\"template\":{\"data\":{\"bar\":[{\"error_x\":{\"color\":\"#2a3f5f\"},\"error_y\":{\"color\":\"#2a3f5f\"},\"marker\":{\"line\":{\"color\":\"#E5ECF6\",\"width\":0.5},\"pattern\":{\"fillmode\":\"overlay\",\"size\":10,\"solidity\":0.2}},\"type\":\"bar\"}],\"barpolar\":[{\"marker\":{\"line\":{\"color\":\"#E5ECF6\",\"width\":0.5},\"pattern\":{\"fillmode\":\"overlay\",\"size\":10,\"solidity\":0.2}},\"type\":\"barpolar\"}],\"carpet\":[{\"aaxis\":{\"endlinecolor\":\"#2a3f5f\",\"gridcolor\":\"white\",\"linecolor\":\"white\",\"minorgridcolor\":\"white\",\"startlinecolor\":\"#2a3f5f\"},\"baxis\":{\"endlinecolor\":\"#2a3f5f\",\"gridcolor\":\"white\",\"linecolor\":\"white\",\"minorgridcolor\":\"white\",\"startlinecolor\":\"#2a3f5f\"},\"type\":\"carpet\"}],\"choropleth\":[{\"colorbar\":{\"outlinewidth\":0,\"ticks\":\"\"},\"type\":\"choropleth\"}],\"contour\":[{\"colorbar\":{\"outlinewidth\":0,\"ticks\":\"\"},\"colorscale\":[[0.0,\"#0d0887\"],[0.1111111111111111,\"#46039f\"],[0.2222222222222222,\"#7201a8\"],[0.3333333333333333,\"#9c179e\"],[0.4444444444444444,\"#bd3786\"],[0.5555555555555556,\"#d8576b\"],[0.6666666666666666,\"#ed7953\"],[0.7777777777777778,\"#fb9f3a\"],[0.8888888888888888,\"#fdca26\"],[1.0,\"#f0f921\"]],\"type\":\"contour\"}],\"contourcarpet\":[{\"colorbar\":{\"outlinewidth\":0,\"ticks\":\"\"},\"type\":\"contourcarpet\"}],\"heatmap\":[{\"colorbar\":{\"outlinewidth\":0,\"ticks\":\"\"},\"colorscale\":[[0.0,\"#0d0887\"],[0.1111111111111111,\"#46039f\"],[0.2222222222222222,\"#7201a8\"],[0.3333333333333333,\"#9c179e\"],[0.4444444444444444,\"#bd3786\"],[0.5555555555555556,\"#d8576b\"],[0.6666666666666666,\"#ed7953\"],[0.7777777777777778,\"#fb9f3a\"],[0.8888888888888888,\"#fdca26\"],[1.0,\"#f0f921\"]],\"type\":\"heatmap\"}],\"heatmapgl\":[{\"colorbar\":{\"outlinewidth\":0,\"ticks\":\"\"},\"colorscale\":[[0.0,\"#0d0887\"],[0.1111111111111111,\"#46039f\"],[0.2222222222222222,\"#7201a8\"],[0.3333333333333333,\"#9c179e\"],[0.4444444444444444,\"#bd3786\"],[0.5555555555555556,\"#d8576b\"],[0.6666666666666666,\"#ed7953\"],[0.7777777777777778,\"#fb9f3a\"],[0.8888888888888888,\"#fdca26\"],[1.0,\"#f0f921\"]],\"type\":\"heatmapgl\"}],\"histogram\":[{\"marker\":{\"pattern\":{\"fillmode\":\"overlay\",\"size\":10,\"solidity\":0.2}},\"type\":\"histogram\"}],\"histogram2d\":[{\"colorbar\":{\"outlinewidth\":0,\"ticks\":\"\"},\"colorscale\":[[0.0,\"#0d0887\"],[0.1111111111111111,\"#46039f\"],[0.2222222222222222,\"#7201a8\"],[0.3333333333333333,\"#9c179e\"],[0.4444444444444444,\"#bd3786\"],[0.5555555555555556,\"#d8576b\"],[0.6666666666666666,\"#ed7953\"],[0.7777777777777778,\"#fb9f3a\"],[0.8888888888888888,\"#fdca26\"],[1.0,\"#f0f921\"]],\"type\":\"histogram2d\"}],\"histogram2dcontour\":[{\"colorbar\":{\"outlinewidth\":0,\"ticks\":\"\"},\"colorscale\":[[0.0,\"#0d0887\"],[0.1111111111111111,\"#46039f\"],[0.2222222222222222,\"#7201a8\"],[0.3333333333333333,\"#9c179e\"],[0.4444444444444444,\"#bd3786\"],[0.5555555555555556,\"#d8576b\"],[0.6666666666666666,\"#ed7953\"],[0.7777777777777778,\"#fb9f3a\"],[0.8888888888888888,\"#fdca26\"],[1.0,\"#f0f921\"]],\"type\":\"histogram2dcontour\"}],\"mesh3d\":[{\"colorbar\":{\"outlinewidth\":0,\"ticks\":\"\"},\"type\":\"mesh3d\"}],\"parcoords\":[{\"line\":{\"colorbar\":{\"outlinewidth\":0,\"ticks\":\"\"}},\"type\":\"parcoords\"}],\"pie\":[{\"automargin\":true,\"type\":\"pie\"}],\"scatter\":[{\"marker\":{\"colorbar\":{\"outlinewidth\":0,\"ticks\":\"\"}},\"type\":\"scatter\"}],\"scatter3d\":[{\"line\":{\"colorbar\":{\"outlinewidth\":0,\"ticks\":\"\"}},\"marker\":{\"colorbar\":{\"outlinewidth\":0,\"ticks\":\"\"}},\"type\":\"scatter3d\"}],\"scattercarpet\":[{\"marker\":{\"colorbar\":{\"outlinewidth\":0,\"ticks\":\"\"}},\"type\":\"scattercarpet\"}],\"scattergeo\":[{\"marker\":{\"colorbar\":{\"outlinewidth\":0,\"ticks\":\"\"}},\"type\":\"scattergeo\"}],\"scattergl\":[{\"marker\":{\"colorbar\":{\"outlinewidth\":0,\"ticks\":\"\"}},\"type\":\"scattergl\"}],\"scattermapbox\":[{\"marker\":{\"colorbar\":{\"outlinewidth\":0,\"ticks\":\"\"}},\"type\":\"scattermapbox\"}],\"scatterpolar\":[{\"marker\":{\"colorbar\":{\"outlinewidth\":0,\"ticks\":\"\"}},\"type\":\"scatterpolar\"}],\"scatterpolargl\":[{\"marker\":{\"colorbar\":{\"outlinewidth\":0,\"ticks\":\"\"}},\"type\":\"scatterpolargl\"}],\"scatterternary\":[{\"marker\":{\"colorbar\":{\"outlinewidth\":0,\"ticks\":\"\"}},\"type\":\"scatterternary\"}],\"surface\":[{\"colorbar\":{\"outlinewidth\":0,\"ticks\":\"\"},\"colorscale\":[[0.0,\"#0d0887\"],[0.1111111111111111,\"#46039f\"],[0.2222222222222222,\"#7201a8\"],[0.3333333333333333,\"#9c179e\"],[0.4444444444444444,\"#bd3786\"],[0.5555555555555556,\"#d8576b\"],[0.6666666666666666,\"#ed7953\"],[0.7777777777777778,\"#fb9f3a\"],[0.8888888888888888,\"#fdca26\"],[1.0,\"#f0f921\"]],\"type\":\"surface\"}],\"table\":[{\"cells\":{\"fill\":{\"color\":\"#EBF0F8\"},\"line\":{\"color\":\"white\"}},\"header\":{\"fill\":{\"color\":\"#C8D4E3\"},\"line\":{\"color\":\"white\"}},\"type\":\"table\"}]},\"layout\":{\"annotationdefaults\":{\"arrowcolor\":\"#2a3f5f\",\"arrowhead\":0,\"arrowwidth\":1},\"autotypenumbers\":\"strict\",\"coloraxis\":{\"colorbar\":{\"outlinewidth\":0,\"ticks\":\"\"}},\"colorscale\":{\"diverging\":[[0,\"#8e0152\"],[0.1,\"#c51b7d\"],[0.2,\"#de77ae\"],[0.3,\"#f1b6da\"],[0.4,\"#fde0ef\"],[0.5,\"#f7f7f7\"],[0.6,\"#e6f5d0\"],[0.7,\"#b8e186\"],[0.8,\"#7fbc41\"],[0.9,\"#4d9221\"],[1,\"#276419\"]],\"sequential\":[[0.0,\"#0d0887\"],[0.1111111111111111,\"#46039f\"],[0.2222222222222222,\"#7201a8\"],[0.3333333333333333,\"#9c179e\"],[0.4444444444444444,\"#bd3786\"],[0.5555555555555556,\"#d8576b\"],[0.6666666666666666,\"#ed7953\"],[0.7777777777777778,\"#fb9f3a\"],[0.8888888888888888,\"#fdca26\"],[1.0,\"#f0f921\"]],\"sequentialminus\":[[0.0,\"#0d0887\"],[0.1111111111111111,\"#46039f\"],[0.2222222222222222,\"#7201a8\"],[0.3333333333333333,\"#9c179e\"],[0.4444444444444444,\"#bd3786\"],[0.5555555555555556,\"#d8576b\"],[0.6666666666666666,\"#ed7953\"],[0.7777777777777778,\"#fb9f3a\"],[0.8888888888888888,\"#fdca26\"],[1.0,\"#f0f921\"]]},\"colorway\":[\"#636efa\",\"#EF553B\",\"#00cc96\",\"#ab63fa\",\"#FFA15A\",\"#19d3f3\",\"#FF6692\",\"#B6E880\",\"#FF97FF\",\"#FECB52\"],\"font\":{\"color\":\"#2a3f5f\"},\"geo\":{\"bgcolor\":\"white\",\"lakecolor\":\"white\",\"landcolor\":\"#E5ECF6\",\"showlakes\":true,\"showland\":true,\"subunitcolor\":\"white\"},\"hoverlabel\":{\"align\":\"left\"},\"hovermode\":\"closest\",\"mapbox\":{\"style\":\"light\"},\"paper_bgcolor\":\"white\",\"plot_bgcolor\":\"#E5ECF6\",\"polar\":{\"angularaxis\":{\"gridcolor\":\"white\",\"linecolor\":\"white\",\"ticks\":\"\"},\"bgcolor\":\"#E5ECF6\",\"radialaxis\":{\"gridcolor\":\"white\",\"linecolor\":\"white\",\"ticks\":\"\"}},\"scene\":{\"xaxis\":{\"backgroundcolor\":\"#E5ECF6\",\"gridcolor\":\"white\",\"gridwidth\":2,\"linecolor\":\"white\",\"showbackground\":true,\"ticks\":\"\",\"zerolinecolor\":\"white\"},\"yaxis\":{\"backgroundcolor\":\"#E5ECF6\",\"gridcolor\":\"white\",\"gridwidth\":2,\"linecolor\":\"white\",\"showbackground\":true,\"ticks\":\"\",\"zerolinecolor\":\"white\"},\"zaxis\":{\"backgroundcolor\":\"#E5ECF6\",\"gridcolor\":\"white\",\"gridwidth\":2,\"linecolor\":\"white\",\"showbackground\":true,\"ticks\":\"\",\"zerolinecolor\":\"white\"}},\"shapedefaults\":{\"line\":{\"color\":\"#2a3f5f\"}},\"ternary\":{\"aaxis\":{\"gridcolor\":\"white\",\"linecolor\":\"white\",\"ticks\":\"\"},\"baxis\":{\"gridcolor\":\"white\",\"linecolor\":\"white\",\"ticks\":\"\"},\"bgcolor\":\"#E5ECF6\",\"caxis\":{\"gridcolor\":\"white\",\"linecolor\":\"white\",\"ticks\":\"\"}},\"title\":{\"x\":0.05},\"xaxis\":{\"automargin\":true,\"gridcolor\":\"white\",\"linecolor\":\"white\",\"ticks\":\"\",\"title\":{\"standoff\":15},\"zerolinecolor\":\"white\",\"zerolinewidth\":2},\"yaxis\":{\"automargin\":true,\"gridcolor\":\"white\",\"linecolor\":\"white\",\"ticks\":\"\",\"title\":{\"standoff\":15},\"zerolinecolor\":\"white\",\"zerolinewidth\":2}}}},                        {\"responsive\": true}                    ).then(function(){\n",
              "                            \n",
              "var gd = document.getElementById('0b3092d1-b598-410e-b6d3-6d033f48bc62');\n",
              "var x = new MutationObserver(function (mutations, observer) {{\n",
              "        var display = window.getComputedStyle(gd).display;\n",
              "        if (!display || display === 'none') {{\n",
              "            console.log([gd, 'removed!']);\n",
              "            Plotly.purge(gd);\n",
              "            observer.disconnect();\n",
              "        }}\n",
              "}});\n",
              "\n",
              "// Listen for the removal of the full notebook cells\n",
              "var notebookContainer = gd.closest('#notebook-container');\n",
              "if (notebookContainer) {{\n",
              "    x.observe(notebookContainer, {childList: true});\n",
              "}}\n",
              "\n",
              "// Listen for the clearing of the current output cell\n",
              "var outputEl = gd.closest('.output');\n",
              "if (outputEl) {{\n",
              "    x.observe(outputEl, {childList: true});\n",
              "}}\n",
              "\n",
              "                        })                };                            </script>        </div>\n",
              "</body>\n",
              "</html>"
            ]
          },
          "metadata": {}
        }
      ]
    },
    {
      "cell_type": "markdown",
      "source": [
        "## Algoritmo Genético para recolver el porblema"
      ],
      "metadata": {
        "id": "P2QY7T9exzig"
      }
    },
    {
      "cell_type": "code",
      "source": [
        "max_colors = 1\n",
        "\n",
        "for ii in range(n):\n",
        "  if sum(grafos[ii]) > max_colors:\n",
        "    max_colors = sum(grafos[ii])+1\n",
        "max_colors"
      ],
      "metadata": {
        "colab": {
          "base_uri": "https://localhost:8080/"
        },
        "id": "q4o8XKzWkCJj",
        "outputId": "f63dbc86-9a82-4e34-c024-6384e5dd3d1e"
      },
      "execution_count": 14,
      "outputs": [
        {
          "output_type": "execute_result",
          "data": {
            "text/plain": [
              "13"
            ]
          },
          "metadata": {},
          "execution_count": 14
        }
      ]
    },
    {
      "cell_type": "code",
      "source": [
        "# Definición de funciones\n",
        "\n",
        "# Función para la creación de individuos\n",
        "def individuals_creation_Func(n_colores, n):\n",
        "  indiv = []\n",
        "\n",
        "  for ii in range(n):\n",
        "    indiv.append(random.randint(1,n_colores))\n",
        "\n",
        "  return indiv\n",
        "\n",
        "\n",
        "# Función para los pesos\n",
        "def fitness_Func(grafo, individuo, n):\n",
        "  fitness = 0\n",
        "\n",
        "  for ii in range(n):\n",
        "    for jj in range(ii, n):\n",
        "      if individuo[ii] == individuo[jj] and grafo[ii][jj]==1:\n",
        "        fitness += 1\n",
        "\n",
        "  return fitness\n",
        "\n",
        "\n",
        "# Función para el cruce\n",
        "def cruce_Func(padre_1, padre_2, n):\n",
        "  hijo_1 = []\n",
        "  hijo_2 = []\n",
        "  posicion_cruce = random.randint(2,n-2) # Revisar, creo que se puede con 1, n-1\n",
        "  \n",
        "  for ii in range(posicion_cruce+1):\n",
        "    hijo_1.append(padre_1[ii])\n",
        "    hijo_2.append(padre_2[ii])\n",
        "\n",
        "  for jj in range(posicion_cruce+1, n):\n",
        "    hijo_1.append(padre_2[jj])\n",
        "    hijo_2.append(padre_1[jj])\n",
        "\n",
        "  return hijo_1, hijo_2\n",
        "\n",
        "\n",
        "# Función para la mutación\n",
        "def mutacion_Func(p, individuo, n_colores):\n",
        "  n_random = random.uniform(0, 1)\n",
        "  if n_random <= p:\n",
        "    posicion = random.randint(0, n-1)\n",
        "    individuo[posicion] = random.randint(1, n_colores)\n",
        "  return individuo\n",
        "\n",
        "# Función para la selección\n",
        "# Se usa una selección de rueda de ruleta\n",
        "def seleccion_Func(poblacion, grafo, n):\n",
        "  fitness_tot = 0\n",
        "  fitness_cum = []\n",
        "  fitness_cum_sum = 0\n",
        "\n",
        "  for pop in poblacion:\n",
        "    fitness_tot += 1/(1+fitness_Func(grafo, pop, n))\n",
        "\n",
        "  for ii in range(len(poblacion)):\n",
        "    fitness_cum_sum += 1 / (1+fitness_Func(grafo, poblacion[ii], n))/fitness_tot\n",
        "    fitness_cum.append(fitness_cum_sum)\n",
        "\n",
        "  new_poblacion = []\n",
        "\n",
        "  for ii in range(len(poblacion)):\n",
        "    ruleta = random.uniform(0, 1)\n",
        "    for jj in range(len(poblacion)):\n",
        "      if ruleta <= fitness_cum[jj]:\n",
        "        new_poblacion.append(poblacion[jj])\n",
        "        break\n",
        "  return new_poblacion\n",
        "\n"
      ],
      "metadata": {
        "id": "BYUxIZjDqA0G"
      },
      "execution_count": 15,
      "outputs": []
    },
    {
      "cell_type": "code",
      "source": [
        "num_colors = max_colors\n",
        "generacion_hist = np.array([])\n",
        "fit_hist = np.array([])"
      ],
      "metadata": {
        "id": "8wT8jTZlkaU8"
      },
      "execution_count": 16,
      "outputs": []
    },
    {
      "cell_type": "code",
      "source": [
        "best_color_number = 0\n",
        "\n",
        "cut_point = 200\n",
        "\n",
        "hall_Fame = []\n",
        "\n",
        "\n",
        "while best_color_number==0 and num_colors>0:\n",
        "  pop_size = 200\n",
        "  generacion = 0\n",
        "  poblacion = []\n",
        "\n",
        "\n",
        "  # Creamos la población\n",
        "  for ii in range(pop_size):\n",
        "    individual = individuals_creation_Func(num_colors, n)\n",
        "    poblacion.append(individual)\n",
        "\n",
        "  mejor_fitness = fitness_Func(grafos, poblacion[0], n)\n",
        "  #print(mejor_fitness)\n",
        "  fittest_individual = poblacion[0]\n",
        "\n",
        "  #print(poblacion)\n",
        "\n",
        "  gen = 0\n",
        "\n",
        "  while mejor_fitness != 0 and gen != 10000:\n",
        "    gen += 1\n",
        "    # Aplicamos la selección\n",
        "    poblacion = seleccion_Func(poblacion, grafos, n)\n",
        "    random.shuffle(poblacion)\n",
        "\n",
        "    new_pop = []\n",
        "\n",
        "    for ii in range(0, pop_size-1, 2):\n",
        "      hijo1, hijo2 = cruce_Func(poblacion[ii], poblacion[ii+1], n)\n",
        "\n",
        "      new_pop.append(hijo1)\n",
        "      new_pop.append(hijo2)\n",
        "\n",
        "    for ind in new_pop:\n",
        "      if gen < cut_point:\n",
        "        p = 0.5\n",
        "      else:\n",
        "        p = 0.25\n",
        "      ind = mutacion_Func(p, ind, num_colors)\n",
        "\n",
        "    poblacion = new_pop\n",
        "    mejor_fitness = fitness_Func(grafos, poblacion[0], n)\n",
        "    fittest_individual = poblacion[0]\n",
        "\n",
        "    for ind in poblacion:\n",
        "      if fitness_Func(grafos, ind, n) < mejor_fitness:\n",
        "        mejor_fitness = fitness_Func(grafos, ind, n)\n",
        "        fittest_individual = ind\n",
        "\n",
        "    enunc_Control = 'Generación: {},   Mejor Fitness: {},   Individuo: {}'\n",
        "    if gen % 10 == 0:\n",
        "      \n",
        "      print(enunc_Control.format(gen, mejor_fitness, fittest_individual))\n",
        "\n",
        "\n",
        "    generacion_hist = np.append(generacion_hist, gen)\n",
        "    fit_hist = np.append(fit_hist, mejor_fitness)\n",
        "    \n",
        "    if gen >= 1200:\n",
        "      break\n",
        "\n",
        "  enunc_no_Colors = 'Usando {} colores'\n",
        "  enunc_Cromatico = 'El número cromático de este grafo es {}'\n",
        "\n",
        "  print(enunc_no_Colors.format(num_colors))\n",
        "  print(enunc_Control.format(gen, mejor_fitness, fittest_individual))\n",
        "  print('\\n')\n",
        "\n",
        "  hall_Fame.append(fittest_individual)\n",
        "\n",
        "  if mejor_fitness != 0:\n",
        "    best_color_number = 1\n",
        "\n",
        "    cromatic_num = num_colors+1\n",
        "    print(enunc_Cromatico.format(cromatic_num))\n",
        "  else:\n",
        "    generacion_hist = np.append(generacion_hist, gen)\n",
        "    fit_hist = np.append(fit_hist, mejor_fitness)\n",
        "    \n",
        "\n",
        "\n",
        "    fig = go.Figure(data=go.Scatter(x=generacion_hist, y=fit_hist))\n",
        "    fig.update_layout(title='Fitness usando {} colores'.format(num_colors),\n",
        "                   xaxis_title='Generación',\n",
        "                   yaxis_title='Mejor Fitness',\n",
        "                   width=500, height=400)\n",
        "    fig.show()\n",
        "\n",
        "    print('\\n \\n')\n",
        "    generacion_hist = np.array([])\n",
        "    fit_hist = np.array([])\n",
        "    num_colors -= 1\n"
      ],
      "metadata": {
        "colab": {
          "base_uri": "https://localhost:8080/",
          "height": 1000
        },
        "id": "5gzUUvBJpfyE",
        "outputId": "90156a74-0843-4131-b7a1-41eed9586111"
      },
      "execution_count": 17,
      "outputs": [
        {
          "output_type": "stream",
          "name": "stdout",
          "text": [
            "Usando 13 colores\n",
            "Generación: 9,   Mejor Fitness: 0,   Individuo: [12, 11, 7, 9, 5, 2, 6, 6, 7, 10, 5, 8, 7, 6, 10, 1, 13, 10, 12, 10]\n",
            "\n",
            "\n"
          ]
        },
        {
          "output_type": "display_data",
          "data": {
            "text/html": [
              "<html>\n",
              "<head><meta charset=\"utf-8\" /></head>\n",
              "<body>\n",
              "    <div>            <script src=\"https://cdnjs.cloudflare.com/ajax/libs/mathjax/2.7.5/MathJax.js?config=TeX-AMS-MML_SVG\"></script><script type=\"text/javascript\">if (window.MathJax) {MathJax.Hub.Config({SVG: {font: \"STIX-Web\"}});}</script>                <script type=\"text/javascript\">window.PlotlyConfig = {MathJaxConfig: 'local'};</script>\n",
              "        <script src=\"https://cdn.plot.ly/plotly-2.8.3.min.js\"></script>                <div id=\"e69afa3a-e020-469e-82b8-68bfcc4132c9\" class=\"plotly-graph-div\" style=\"height:400px; width:500px;\"></div>            <script type=\"text/javascript\">                                    window.PLOTLYENV=window.PLOTLYENV || {};                                    if (document.getElementById(\"e69afa3a-e020-469e-82b8-68bfcc4132c9\")) {                    Plotly.newPlot(                        \"e69afa3a-e020-469e-82b8-68bfcc4132c9\",                        [{\"x\":[1.0,2.0,3.0,4.0,5.0,6.0,7.0,8.0,9.0,9.0],\"y\":[1.0,1.0,1.0,1.0,2.0,1.0,2.0,1.0,0.0,0.0],\"type\":\"scatter\"}],                        {\"template\":{\"data\":{\"bar\":[{\"error_x\":{\"color\":\"#2a3f5f\"},\"error_y\":{\"color\":\"#2a3f5f\"},\"marker\":{\"line\":{\"color\":\"#E5ECF6\",\"width\":0.5},\"pattern\":{\"fillmode\":\"overlay\",\"size\":10,\"solidity\":0.2}},\"type\":\"bar\"}],\"barpolar\":[{\"marker\":{\"line\":{\"color\":\"#E5ECF6\",\"width\":0.5},\"pattern\":{\"fillmode\":\"overlay\",\"size\":10,\"solidity\":0.2}},\"type\":\"barpolar\"}],\"carpet\":[{\"aaxis\":{\"endlinecolor\":\"#2a3f5f\",\"gridcolor\":\"white\",\"linecolor\":\"white\",\"minorgridcolor\":\"white\",\"startlinecolor\":\"#2a3f5f\"},\"baxis\":{\"endlinecolor\":\"#2a3f5f\",\"gridcolor\":\"white\",\"linecolor\":\"white\",\"minorgridcolor\":\"white\",\"startlinecolor\":\"#2a3f5f\"},\"type\":\"carpet\"}],\"choropleth\":[{\"colorbar\":{\"outlinewidth\":0,\"ticks\":\"\"},\"type\":\"choropleth\"}],\"contour\":[{\"colorbar\":{\"outlinewidth\":0,\"ticks\":\"\"},\"colorscale\":[[0.0,\"#0d0887\"],[0.1111111111111111,\"#46039f\"],[0.2222222222222222,\"#7201a8\"],[0.3333333333333333,\"#9c179e\"],[0.4444444444444444,\"#bd3786\"],[0.5555555555555556,\"#d8576b\"],[0.6666666666666666,\"#ed7953\"],[0.7777777777777778,\"#fb9f3a\"],[0.8888888888888888,\"#fdca26\"],[1.0,\"#f0f921\"]],\"type\":\"contour\"}],\"contourcarpet\":[{\"colorbar\":{\"outlinewidth\":0,\"ticks\":\"\"},\"type\":\"contourcarpet\"}],\"heatmap\":[{\"colorbar\":{\"outlinewidth\":0,\"ticks\":\"\"},\"colorscale\":[[0.0,\"#0d0887\"],[0.1111111111111111,\"#46039f\"],[0.2222222222222222,\"#7201a8\"],[0.3333333333333333,\"#9c179e\"],[0.4444444444444444,\"#bd3786\"],[0.5555555555555556,\"#d8576b\"],[0.6666666666666666,\"#ed7953\"],[0.7777777777777778,\"#fb9f3a\"],[0.8888888888888888,\"#fdca26\"],[1.0,\"#f0f921\"]],\"type\":\"heatmap\"}],\"heatmapgl\":[{\"colorbar\":{\"outlinewidth\":0,\"ticks\":\"\"},\"colorscale\":[[0.0,\"#0d0887\"],[0.1111111111111111,\"#46039f\"],[0.2222222222222222,\"#7201a8\"],[0.3333333333333333,\"#9c179e\"],[0.4444444444444444,\"#bd3786\"],[0.5555555555555556,\"#d8576b\"],[0.6666666666666666,\"#ed7953\"],[0.7777777777777778,\"#fb9f3a\"],[0.8888888888888888,\"#fdca26\"],[1.0,\"#f0f921\"]],\"type\":\"heatmapgl\"}],\"histogram\":[{\"marker\":{\"pattern\":{\"fillmode\":\"overlay\",\"size\":10,\"solidity\":0.2}},\"type\":\"histogram\"}],\"histogram2d\":[{\"colorbar\":{\"outlinewidth\":0,\"ticks\":\"\"},\"colorscale\":[[0.0,\"#0d0887\"],[0.1111111111111111,\"#46039f\"],[0.2222222222222222,\"#7201a8\"],[0.3333333333333333,\"#9c179e\"],[0.4444444444444444,\"#bd3786\"],[0.5555555555555556,\"#d8576b\"],[0.6666666666666666,\"#ed7953\"],[0.7777777777777778,\"#fb9f3a\"],[0.8888888888888888,\"#fdca26\"],[1.0,\"#f0f921\"]],\"type\":\"histogram2d\"}],\"histogram2dcontour\":[{\"colorbar\":{\"outlinewidth\":0,\"ticks\":\"\"},\"colorscale\":[[0.0,\"#0d0887\"],[0.1111111111111111,\"#46039f\"],[0.2222222222222222,\"#7201a8\"],[0.3333333333333333,\"#9c179e\"],[0.4444444444444444,\"#bd3786\"],[0.5555555555555556,\"#d8576b\"],[0.6666666666666666,\"#ed7953\"],[0.7777777777777778,\"#fb9f3a\"],[0.8888888888888888,\"#fdca26\"],[1.0,\"#f0f921\"]],\"type\":\"histogram2dcontour\"}],\"mesh3d\":[{\"colorbar\":{\"outlinewidth\":0,\"ticks\":\"\"},\"type\":\"mesh3d\"}],\"parcoords\":[{\"line\":{\"colorbar\":{\"outlinewidth\":0,\"ticks\":\"\"}},\"type\":\"parcoords\"}],\"pie\":[{\"automargin\":true,\"type\":\"pie\"}],\"scatter\":[{\"marker\":{\"colorbar\":{\"outlinewidth\":0,\"ticks\":\"\"}},\"type\":\"scatter\"}],\"scatter3d\":[{\"line\":{\"colorbar\":{\"outlinewidth\":0,\"ticks\":\"\"}},\"marker\":{\"colorbar\":{\"outlinewidth\":0,\"ticks\":\"\"}},\"type\":\"scatter3d\"}],\"scattercarpet\":[{\"marker\":{\"colorbar\":{\"outlinewidth\":0,\"ticks\":\"\"}},\"type\":\"scattercarpet\"}],\"scattergeo\":[{\"marker\":{\"colorbar\":{\"outlinewidth\":0,\"ticks\":\"\"}},\"type\":\"scattergeo\"}],\"scattergl\":[{\"marker\":{\"colorbar\":{\"outlinewidth\":0,\"ticks\":\"\"}},\"type\":\"scattergl\"}],\"scattermapbox\":[{\"marker\":{\"colorbar\":{\"outlinewidth\":0,\"ticks\":\"\"}},\"type\":\"scattermapbox\"}],\"scatterpolar\":[{\"marker\":{\"colorbar\":{\"outlinewidth\":0,\"ticks\":\"\"}},\"type\":\"scatterpolar\"}],\"scatterpolargl\":[{\"marker\":{\"colorbar\":{\"outlinewidth\":0,\"ticks\":\"\"}},\"type\":\"scatterpolargl\"}],\"scatterternary\":[{\"marker\":{\"colorbar\":{\"outlinewidth\":0,\"ticks\":\"\"}},\"type\":\"scatterternary\"}],\"surface\":[{\"colorbar\":{\"outlinewidth\":0,\"ticks\":\"\"},\"colorscale\":[[0.0,\"#0d0887\"],[0.1111111111111111,\"#46039f\"],[0.2222222222222222,\"#7201a8\"],[0.3333333333333333,\"#9c179e\"],[0.4444444444444444,\"#bd3786\"],[0.5555555555555556,\"#d8576b\"],[0.6666666666666666,\"#ed7953\"],[0.7777777777777778,\"#fb9f3a\"],[0.8888888888888888,\"#fdca26\"],[1.0,\"#f0f921\"]],\"type\":\"surface\"}],\"table\":[{\"cells\":{\"fill\":{\"color\":\"#EBF0F8\"},\"line\":{\"color\":\"white\"}},\"header\":{\"fill\":{\"color\":\"#C8D4E3\"},\"line\":{\"color\":\"white\"}},\"type\":\"table\"}]},\"layout\":{\"annotationdefaults\":{\"arrowcolor\":\"#2a3f5f\",\"arrowhead\":0,\"arrowwidth\":1},\"autotypenumbers\":\"strict\",\"coloraxis\":{\"colorbar\":{\"outlinewidth\":0,\"ticks\":\"\"}},\"colorscale\":{\"diverging\":[[0,\"#8e0152\"],[0.1,\"#c51b7d\"],[0.2,\"#de77ae\"],[0.3,\"#f1b6da\"],[0.4,\"#fde0ef\"],[0.5,\"#f7f7f7\"],[0.6,\"#e6f5d0\"],[0.7,\"#b8e186\"],[0.8,\"#7fbc41\"],[0.9,\"#4d9221\"],[1,\"#276419\"]],\"sequential\":[[0.0,\"#0d0887\"],[0.1111111111111111,\"#46039f\"],[0.2222222222222222,\"#7201a8\"],[0.3333333333333333,\"#9c179e\"],[0.4444444444444444,\"#bd3786\"],[0.5555555555555556,\"#d8576b\"],[0.6666666666666666,\"#ed7953\"],[0.7777777777777778,\"#fb9f3a\"],[0.8888888888888888,\"#fdca26\"],[1.0,\"#f0f921\"]],\"sequentialminus\":[[0.0,\"#0d0887\"],[0.1111111111111111,\"#46039f\"],[0.2222222222222222,\"#7201a8\"],[0.3333333333333333,\"#9c179e\"],[0.4444444444444444,\"#bd3786\"],[0.5555555555555556,\"#d8576b\"],[0.6666666666666666,\"#ed7953\"],[0.7777777777777778,\"#fb9f3a\"],[0.8888888888888888,\"#fdca26\"],[1.0,\"#f0f921\"]]},\"colorway\":[\"#636efa\",\"#EF553B\",\"#00cc96\",\"#ab63fa\",\"#FFA15A\",\"#19d3f3\",\"#FF6692\",\"#B6E880\",\"#FF97FF\",\"#FECB52\"],\"font\":{\"color\":\"#2a3f5f\"},\"geo\":{\"bgcolor\":\"white\",\"lakecolor\":\"white\",\"landcolor\":\"#E5ECF6\",\"showlakes\":true,\"showland\":true,\"subunitcolor\":\"white\"},\"hoverlabel\":{\"align\":\"left\"},\"hovermode\":\"closest\",\"mapbox\":{\"style\":\"light\"},\"paper_bgcolor\":\"white\",\"plot_bgcolor\":\"#E5ECF6\",\"polar\":{\"angularaxis\":{\"gridcolor\":\"white\",\"linecolor\":\"white\",\"ticks\":\"\"},\"bgcolor\":\"#E5ECF6\",\"radialaxis\":{\"gridcolor\":\"white\",\"linecolor\":\"white\",\"ticks\":\"\"}},\"scene\":{\"xaxis\":{\"backgroundcolor\":\"#E5ECF6\",\"gridcolor\":\"white\",\"gridwidth\":2,\"linecolor\":\"white\",\"showbackground\":true,\"ticks\":\"\",\"zerolinecolor\":\"white\"},\"yaxis\":{\"backgroundcolor\":\"#E5ECF6\",\"gridcolor\":\"white\",\"gridwidth\":2,\"linecolor\":\"white\",\"showbackground\":true,\"ticks\":\"\",\"zerolinecolor\":\"white\"},\"zaxis\":{\"backgroundcolor\":\"#E5ECF6\",\"gridcolor\":\"white\",\"gridwidth\":2,\"linecolor\":\"white\",\"showbackground\":true,\"ticks\":\"\",\"zerolinecolor\":\"white\"}},\"shapedefaults\":{\"line\":{\"color\":\"#2a3f5f\"}},\"ternary\":{\"aaxis\":{\"gridcolor\":\"white\",\"linecolor\":\"white\",\"ticks\":\"\"},\"baxis\":{\"gridcolor\":\"white\",\"linecolor\":\"white\",\"ticks\":\"\"},\"bgcolor\":\"#E5ECF6\",\"caxis\":{\"gridcolor\":\"white\",\"linecolor\":\"white\",\"ticks\":\"\"}},\"title\":{\"x\":0.05},\"xaxis\":{\"automargin\":true,\"gridcolor\":\"white\",\"linecolor\":\"white\",\"ticks\":\"\",\"title\":{\"standoff\":15},\"zerolinecolor\":\"white\",\"zerolinewidth\":2},\"yaxis\":{\"automargin\":true,\"gridcolor\":\"white\",\"linecolor\":\"white\",\"ticks\":\"\",\"title\":{\"standoff\":15},\"zerolinecolor\":\"white\",\"zerolinewidth\":2}}},\"title\":{\"text\":\"Fitness usando 13 colores\"},\"xaxis\":{\"title\":{\"text\":\"Generaci\\u00f3n\"}},\"yaxis\":{\"title\":{\"text\":\"Mejor Fitness\"}},\"width\":500,\"height\":400},                        {\"responsive\": true}                    ).then(function(){\n",
              "                            \n",
              "var gd = document.getElementById('e69afa3a-e020-469e-82b8-68bfcc4132c9');\n",
              "var x = new MutationObserver(function (mutations, observer) {{\n",
              "        var display = window.getComputedStyle(gd).display;\n",
              "        if (!display || display === 'none') {{\n",
              "            console.log([gd, 'removed!']);\n",
              "            Plotly.purge(gd);\n",
              "            observer.disconnect();\n",
              "        }}\n",
              "}});\n",
              "\n",
              "// Listen for the removal of the full notebook cells\n",
              "var notebookContainer = gd.closest('#notebook-container');\n",
              "if (notebookContainer) {{\n",
              "    x.observe(notebookContainer, {childList: true});\n",
              "}}\n",
              "\n",
              "// Listen for the clearing of the current output cell\n",
              "var outputEl = gd.closest('.output');\n",
              "if (outputEl) {{\n",
              "    x.observe(outputEl, {childList: true});\n",
              "}}\n",
              "\n",
              "                        })                };                            </script>        </div>\n",
              "</body>\n",
              "</html>"
            ]
          },
          "metadata": {}
        },
        {
          "output_type": "stream",
          "name": "stdout",
          "text": [
            "\n",
            " \n",
            "\n",
            "Generación: 10,   Mejor Fitness: 1,   Individuo: [9, 2, 6, 11, 10, 8, 2, 8, 4, 2, 10, 3, 11, 1, 12, 4, 5, 6, 6, 2]\n",
            "Usando 12 colores\n",
            "Generación: 16,   Mejor Fitness: 0,   Individuo: [1, 4, 8, 12, 6, 8, 10, 8, 4, 2, 10, 10, 5, 12, 3, 2, 1, 6, 1, 5]\n",
            "\n",
            "\n"
          ]
        },
        {
          "output_type": "display_data",
          "data": {
            "text/html": [
              "<html>\n",
              "<head><meta charset=\"utf-8\" /></head>\n",
              "<body>\n",
              "    <div>            <script src=\"https://cdnjs.cloudflare.com/ajax/libs/mathjax/2.7.5/MathJax.js?config=TeX-AMS-MML_SVG\"></script><script type=\"text/javascript\">if (window.MathJax) {MathJax.Hub.Config({SVG: {font: \"STIX-Web\"}});}</script>                <script type=\"text/javascript\">window.PlotlyConfig = {MathJaxConfig: 'local'};</script>\n",
              "        <script src=\"https://cdn.plot.ly/plotly-2.8.3.min.js\"></script>                <div id=\"fb471012-0925-4884-adc9-d1ffafc3d50d\" class=\"plotly-graph-div\" style=\"height:400px; width:500px;\"></div>            <script type=\"text/javascript\">                                    window.PLOTLYENV=window.PLOTLYENV || {};                                    if (document.getElementById(\"fb471012-0925-4884-adc9-d1ffafc3d50d\")) {                    Plotly.newPlot(                        \"fb471012-0925-4884-adc9-d1ffafc3d50d\",                        [{\"x\":[1.0,2.0,3.0,4.0,5.0,6.0,7.0,8.0,9.0,10.0,11.0,12.0,13.0,14.0,15.0,16.0,16.0],\"y\":[2.0,2.0,3.0,3.0,2.0,2.0,1.0,1.0,2.0,1.0,1.0,1.0,1.0,1.0,1.0,0.0,0.0],\"type\":\"scatter\"}],                        {\"template\":{\"data\":{\"bar\":[{\"error_x\":{\"color\":\"#2a3f5f\"},\"error_y\":{\"color\":\"#2a3f5f\"},\"marker\":{\"line\":{\"color\":\"#E5ECF6\",\"width\":0.5},\"pattern\":{\"fillmode\":\"overlay\",\"size\":10,\"solidity\":0.2}},\"type\":\"bar\"}],\"barpolar\":[{\"marker\":{\"line\":{\"color\":\"#E5ECF6\",\"width\":0.5},\"pattern\":{\"fillmode\":\"overlay\",\"size\":10,\"solidity\":0.2}},\"type\":\"barpolar\"}],\"carpet\":[{\"aaxis\":{\"endlinecolor\":\"#2a3f5f\",\"gridcolor\":\"white\",\"linecolor\":\"white\",\"minorgridcolor\":\"white\",\"startlinecolor\":\"#2a3f5f\"},\"baxis\":{\"endlinecolor\":\"#2a3f5f\",\"gridcolor\":\"white\",\"linecolor\":\"white\",\"minorgridcolor\":\"white\",\"startlinecolor\":\"#2a3f5f\"},\"type\":\"carpet\"}],\"choropleth\":[{\"colorbar\":{\"outlinewidth\":0,\"ticks\":\"\"},\"type\":\"choropleth\"}],\"contour\":[{\"colorbar\":{\"outlinewidth\":0,\"ticks\":\"\"},\"colorscale\":[[0.0,\"#0d0887\"],[0.1111111111111111,\"#46039f\"],[0.2222222222222222,\"#7201a8\"],[0.3333333333333333,\"#9c179e\"],[0.4444444444444444,\"#bd3786\"],[0.5555555555555556,\"#d8576b\"],[0.6666666666666666,\"#ed7953\"],[0.7777777777777778,\"#fb9f3a\"],[0.8888888888888888,\"#fdca26\"],[1.0,\"#f0f921\"]],\"type\":\"contour\"}],\"contourcarpet\":[{\"colorbar\":{\"outlinewidth\":0,\"ticks\":\"\"},\"type\":\"contourcarpet\"}],\"heatmap\":[{\"colorbar\":{\"outlinewidth\":0,\"ticks\":\"\"},\"colorscale\":[[0.0,\"#0d0887\"],[0.1111111111111111,\"#46039f\"],[0.2222222222222222,\"#7201a8\"],[0.3333333333333333,\"#9c179e\"],[0.4444444444444444,\"#bd3786\"],[0.5555555555555556,\"#d8576b\"],[0.6666666666666666,\"#ed7953\"],[0.7777777777777778,\"#fb9f3a\"],[0.8888888888888888,\"#fdca26\"],[1.0,\"#f0f921\"]],\"type\":\"heatmap\"}],\"heatmapgl\":[{\"colorbar\":{\"outlinewidth\":0,\"ticks\":\"\"},\"colorscale\":[[0.0,\"#0d0887\"],[0.1111111111111111,\"#46039f\"],[0.2222222222222222,\"#7201a8\"],[0.3333333333333333,\"#9c179e\"],[0.4444444444444444,\"#bd3786\"],[0.5555555555555556,\"#d8576b\"],[0.6666666666666666,\"#ed7953\"],[0.7777777777777778,\"#fb9f3a\"],[0.8888888888888888,\"#fdca26\"],[1.0,\"#f0f921\"]],\"type\":\"heatmapgl\"}],\"histogram\":[{\"marker\":{\"pattern\":{\"fillmode\":\"overlay\",\"size\":10,\"solidity\":0.2}},\"type\":\"histogram\"}],\"histogram2d\":[{\"colorbar\":{\"outlinewidth\":0,\"ticks\":\"\"},\"colorscale\":[[0.0,\"#0d0887\"],[0.1111111111111111,\"#46039f\"],[0.2222222222222222,\"#7201a8\"],[0.3333333333333333,\"#9c179e\"],[0.4444444444444444,\"#bd3786\"],[0.5555555555555556,\"#d8576b\"],[0.6666666666666666,\"#ed7953\"],[0.7777777777777778,\"#fb9f3a\"],[0.8888888888888888,\"#fdca26\"],[1.0,\"#f0f921\"]],\"type\":\"histogram2d\"}],\"histogram2dcontour\":[{\"colorbar\":{\"outlinewidth\":0,\"ticks\":\"\"},\"colorscale\":[[0.0,\"#0d0887\"],[0.1111111111111111,\"#46039f\"],[0.2222222222222222,\"#7201a8\"],[0.3333333333333333,\"#9c179e\"],[0.4444444444444444,\"#bd3786\"],[0.5555555555555556,\"#d8576b\"],[0.6666666666666666,\"#ed7953\"],[0.7777777777777778,\"#fb9f3a\"],[0.8888888888888888,\"#fdca26\"],[1.0,\"#f0f921\"]],\"type\":\"histogram2dcontour\"}],\"mesh3d\":[{\"colorbar\":{\"outlinewidth\":0,\"ticks\":\"\"},\"type\":\"mesh3d\"}],\"parcoords\":[{\"line\":{\"colorbar\":{\"outlinewidth\":0,\"ticks\":\"\"}},\"type\":\"parcoords\"}],\"pie\":[{\"automargin\":true,\"type\":\"pie\"}],\"scatter\":[{\"marker\":{\"colorbar\":{\"outlinewidth\":0,\"ticks\":\"\"}},\"type\":\"scatter\"}],\"scatter3d\":[{\"line\":{\"colorbar\":{\"outlinewidth\":0,\"ticks\":\"\"}},\"marker\":{\"colorbar\":{\"outlinewidth\":0,\"ticks\":\"\"}},\"type\":\"scatter3d\"}],\"scattercarpet\":[{\"marker\":{\"colorbar\":{\"outlinewidth\":0,\"ticks\":\"\"}},\"type\":\"scattercarpet\"}],\"scattergeo\":[{\"marker\":{\"colorbar\":{\"outlinewidth\":0,\"ticks\":\"\"}},\"type\":\"scattergeo\"}],\"scattergl\":[{\"marker\":{\"colorbar\":{\"outlinewidth\":0,\"ticks\":\"\"}},\"type\":\"scattergl\"}],\"scattermapbox\":[{\"marker\":{\"colorbar\":{\"outlinewidth\":0,\"ticks\":\"\"}},\"type\":\"scattermapbox\"}],\"scatterpolar\":[{\"marker\":{\"colorbar\":{\"outlinewidth\":0,\"ticks\":\"\"}},\"type\":\"scatterpolar\"}],\"scatterpolargl\":[{\"marker\":{\"colorbar\":{\"outlinewidth\":0,\"ticks\":\"\"}},\"type\":\"scatterpolargl\"}],\"scatterternary\":[{\"marker\":{\"colorbar\":{\"outlinewidth\":0,\"ticks\":\"\"}},\"type\":\"scatterternary\"}],\"surface\":[{\"colorbar\":{\"outlinewidth\":0,\"ticks\":\"\"},\"colorscale\":[[0.0,\"#0d0887\"],[0.1111111111111111,\"#46039f\"],[0.2222222222222222,\"#7201a8\"],[0.3333333333333333,\"#9c179e\"],[0.4444444444444444,\"#bd3786\"],[0.5555555555555556,\"#d8576b\"],[0.6666666666666666,\"#ed7953\"],[0.7777777777777778,\"#fb9f3a\"],[0.8888888888888888,\"#fdca26\"],[1.0,\"#f0f921\"]],\"type\":\"surface\"}],\"table\":[{\"cells\":{\"fill\":{\"color\":\"#EBF0F8\"},\"line\":{\"color\":\"white\"}},\"header\":{\"fill\":{\"color\":\"#C8D4E3\"},\"line\":{\"color\":\"white\"}},\"type\":\"table\"}]},\"layout\":{\"annotationdefaults\":{\"arrowcolor\":\"#2a3f5f\",\"arrowhead\":0,\"arrowwidth\":1},\"autotypenumbers\":\"strict\",\"coloraxis\":{\"colorbar\":{\"outlinewidth\":0,\"ticks\":\"\"}},\"colorscale\":{\"diverging\":[[0,\"#8e0152\"],[0.1,\"#c51b7d\"],[0.2,\"#de77ae\"],[0.3,\"#f1b6da\"],[0.4,\"#fde0ef\"],[0.5,\"#f7f7f7\"],[0.6,\"#e6f5d0\"],[0.7,\"#b8e186\"],[0.8,\"#7fbc41\"],[0.9,\"#4d9221\"],[1,\"#276419\"]],\"sequential\":[[0.0,\"#0d0887\"],[0.1111111111111111,\"#46039f\"],[0.2222222222222222,\"#7201a8\"],[0.3333333333333333,\"#9c179e\"],[0.4444444444444444,\"#bd3786\"],[0.5555555555555556,\"#d8576b\"],[0.6666666666666666,\"#ed7953\"],[0.7777777777777778,\"#fb9f3a\"],[0.8888888888888888,\"#fdca26\"],[1.0,\"#f0f921\"]],\"sequentialminus\":[[0.0,\"#0d0887\"],[0.1111111111111111,\"#46039f\"],[0.2222222222222222,\"#7201a8\"],[0.3333333333333333,\"#9c179e\"],[0.4444444444444444,\"#bd3786\"],[0.5555555555555556,\"#d8576b\"],[0.6666666666666666,\"#ed7953\"],[0.7777777777777778,\"#fb9f3a\"],[0.8888888888888888,\"#fdca26\"],[1.0,\"#f0f921\"]]},\"colorway\":[\"#636efa\",\"#EF553B\",\"#00cc96\",\"#ab63fa\",\"#FFA15A\",\"#19d3f3\",\"#FF6692\",\"#B6E880\",\"#FF97FF\",\"#FECB52\"],\"font\":{\"color\":\"#2a3f5f\"},\"geo\":{\"bgcolor\":\"white\",\"lakecolor\":\"white\",\"landcolor\":\"#E5ECF6\",\"showlakes\":true,\"showland\":true,\"subunitcolor\":\"white\"},\"hoverlabel\":{\"align\":\"left\"},\"hovermode\":\"closest\",\"mapbox\":{\"style\":\"light\"},\"paper_bgcolor\":\"white\",\"plot_bgcolor\":\"#E5ECF6\",\"polar\":{\"angularaxis\":{\"gridcolor\":\"white\",\"linecolor\":\"white\",\"ticks\":\"\"},\"bgcolor\":\"#E5ECF6\",\"radialaxis\":{\"gridcolor\":\"white\",\"linecolor\":\"white\",\"ticks\":\"\"}},\"scene\":{\"xaxis\":{\"backgroundcolor\":\"#E5ECF6\",\"gridcolor\":\"white\",\"gridwidth\":2,\"linecolor\":\"white\",\"showbackground\":true,\"ticks\":\"\",\"zerolinecolor\":\"white\"},\"yaxis\":{\"backgroundcolor\":\"#E5ECF6\",\"gridcolor\":\"white\",\"gridwidth\":2,\"linecolor\":\"white\",\"showbackground\":true,\"ticks\":\"\",\"zerolinecolor\":\"white\"},\"zaxis\":{\"backgroundcolor\":\"#E5ECF6\",\"gridcolor\":\"white\",\"gridwidth\":2,\"linecolor\":\"white\",\"showbackground\":true,\"ticks\":\"\",\"zerolinecolor\":\"white\"}},\"shapedefaults\":{\"line\":{\"color\":\"#2a3f5f\"}},\"ternary\":{\"aaxis\":{\"gridcolor\":\"white\",\"linecolor\":\"white\",\"ticks\":\"\"},\"baxis\":{\"gridcolor\":\"white\",\"linecolor\":\"white\",\"ticks\":\"\"},\"bgcolor\":\"#E5ECF6\",\"caxis\":{\"gridcolor\":\"white\",\"linecolor\":\"white\",\"ticks\":\"\"}},\"title\":{\"x\":0.05},\"xaxis\":{\"automargin\":true,\"gridcolor\":\"white\",\"linecolor\":\"white\",\"ticks\":\"\",\"title\":{\"standoff\":15},\"zerolinecolor\":\"white\",\"zerolinewidth\":2},\"yaxis\":{\"automargin\":true,\"gridcolor\":\"white\",\"linecolor\":\"white\",\"ticks\":\"\",\"title\":{\"standoff\":15},\"zerolinecolor\":\"white\",\"zerolinewidth\":2}}},\"title\":{\"text\":\"Fitness usando 12 colores\"},\"xaxis\":{\"title\":{\"text\":\"Generaci\\u00f3n\"}},\"yaxis\":{\"title\":{\"text\":\"Mejor Fitness\"}},\"width\":500,\"height\":400},                        {\"responsive\": true}                    ).then(function(){\n",
              "                            \n",
              "var gd = document.getElementById('fb471012-0925-4884-adc9-d1ffafc3d50d');\n",
              "var x = new MutationObserver(function (mutations, observer) {{\n",
              "        var display = window.getComputedStyle(gd).display;\n",
              "        if (!display || display === 'none') {{\n",
              "            console.log([gd, 'removed!']);\n",
              "            Plotly.purge(gd);\n",
              "            observer.disconnect();\n",
              "        }}\n",
              "}});\n",
              "\n",
              "// Listen for the removal of the full notebook cells\n",
              "var notebookContainer = gd.closest('#notebook-container');\n",
              "if (notebookContainer) {{\n",
              "    x.observe(notebookContainer, {childList: true});\n",
              "}}\n",
              "\n",
              "// Listen for the clearing of the current output cell\n",
              "var outputEl = gd.closest('.output');\n",
              "if (outputEl) {{\n",
              "    x.observe(outputEl, {childList: true});\n",
              "}}\n",
              "\n",
              "                        })                };                            </script>        </div>\n",
              "</body>\n",
              "</html>"
            ]
          },
          "metadata": {}
        },
        {
          "output_type": "stream",
          "name": "stdout",
          "text": [
            "\n",
            " \n",
            "\n",
            "Generación: 10,   Mejor Fitness: 2,   Individuo: [10, 9, 6, 4, 3, 2, 1, 11, 8, 1, 3, 3, 6, 6, 7, 7, 4, 8, 4, 1]\n",
            "Usando 11 colores\n",
            "Generación: 18,   Mejor Fitness: 0,   Individuo: [10, 9, 11, 8, 3, 10, 1, 6, 2, 5, 9, 4, 2, 6, 7, 7, 4, 7, 7, 5]\n",
            "\n",
            "\n"
          ]
        },
        {
          "output_type": "display_data",
          "data": {
            "text/html": [
              "<html>\n",
              "<head><meta charset=\"utf-8\" /></head>\n",
              "<body>\n",
              "    <div>            <script src=\"https://cdnjs.cloudflare.com/ajax/libs/mathjax/2.7.5/MathJax.js?config=TeX-AMS-MML_SVG\"></script><script type=\"text/javascript\">if (window.MathJax) {MathJax.Hub.Config({SVG: {font: \"STIX-Web\"}});}</script>                <script type=\"text/javascript\">window.PlotlyConfig = {MathJaxConfig: 'local'};</script>\n",
              "        <script src=\"https://cdn.plot.ly/plotly-2.8.3.min.js\"></script>                <div id=\"02c1e9b3-7d5e-4647-8fd9-e5580e0a5739\" class=\"plotly-graph-div\" style=\"height:400px; width:500px;\"></div>            <script type=\"text/javascript\">                                    window.PLOTLYENV=window.PLOTLYENV || {};                                    if (document.getElementById(\"02c1e9b3-7d5e-4647-8fd9-e5580e0a5739\")) {                    Plotly.newPlot(                        \"02c1e9b3-7d5e-4647-8fd9-e5580e0a5739\",                        [{\"x\":[1.0,2.0,3.0,4.0,5.0,6.0,7.0,8.0,9.0,10.0,11.0,12.0,13.0,14.0,15.0,16.0,17.0,18.0,18.0],\"y\":[3.0,2.0,2.0,3.0,3.0,2.0,3.0,3.0,2.0,2.0,2.0,2.0,1.0,1.0,1.0,1.0,1.0,0.0,0.0],\"type\":\"scatter\"}],                        {\"template\":{\"data\":{\"bar\":[{\"error_x\":{\"color\":\"#2a3f5f\"},\"error_y\":{\"color\":\"#2a3f5f\"},\"marker\":{\"line\":{\"color\":\"#E5ECF6\",\"width\":0.5},\"pattern\":{\"fillmode\":\"overlay\",\"size\":10,\"solidity\":0.2}},\"type\":\"bar\"}],\"barpolar\":[{\"marker\":{\"line\":{\"color\":\"#E5ECF6\",\"width\":0.5},\"pattern\":{\"fillmode\":\"overlay\",\"size\":10,\"solidity\":0.2}},\"type\":\"barpolar\"}],\"carpet\":[{\"aaxis\":{\"endlinecolor\":\"#2a3f5f\",\"gridcolor\":\"white\",\"linecolor\":\"white\",\"minorgridcolor\":\"white\",\"startlinecolor\":\"#2a3f5f\"},\"baxis\":{\"endlinecolor\":\"#2a3f5f\",\"gridcolor\":\"white\",\"linecolor\":\"white\",\"minorgridcolor\":\"white\",\"startlinecolor\":\"#2a3f5f\"},\"type\":\"carpet\"}],\"choropleth\":[{\"colorbar\":{\"outlinewidth\":0,\"ticks\":\"\"},\"type\":\"choropleth\"}],\"contour\":[{\"colorbar\":{\"outlinewidth\":0,\"ticks\":\"\"},\"colorscale\":[[0.0,\"#0d0887\"],[0.1111111111111111,\"#46039f\"],[0.2222222222222222,\"#7201a8\"],[0.3333333333333333,\"#9c179e\"],[0.4444444444444444,\"#bd3786\"],[0.5555555555555556,\"#d8576b\"],[0.6666666666666666,\"#ed7953\"],[0.7777777777777778,\"#fb9f3a\"],[0.8888888888888888,\"#fdca26\"],[1.0,\"#f0f921\"]],\"type\":\"contour\"}],\"contourcarpet\":[{\"colorbar\":{\"outlinewidth\":0,\"ticks\":\"\"},\"type\":\"contourcarpet\"}],\"heatmap\":[{\"colorbar\":{\"outlinewidth\":0,\"ticks\":\"\"},\"colorscale\":[[0.0,\"#0d0887\"],[0.1111111111111111,\"#46039f\"],[0.2222222222222222,\"#7201a8\"],[0.3333333333333333,\"#9c179e\"],[0.4444444444444444,\"#bd3786\"],[0.5555555555555556,\"#d8576b\"],[0.6666666666666666,\"#ed7953\"],[0.7777777777777778,\"#fb9f3a\"],[0.8888888888888888,\"#fdca26\"],[1.0,\"#f0f921\"]],\"type\":\"heatmap\"}],\"heatmapgl\":[{\"colorbar\":{\"outlinewidth\":0,\"ticks\":\"\"},\"colorscale\":[[0.0,\"#0d0887\"],[0.1111111111111111,\"#46039f\"],[0.2222222222222222,\"#7201a8\"],[0.3333333333333333,\"#9c179e\"],[0.4444444444444444,\"#bd3786\"],[0.5555555555555556,\"#d8576b\"],[0.6666666666666666,\"#ed7953\"],[0.7777777777777778,\"#fb9f3a\"],[0.8888888888888888,\"#fdca26\"],[1.0,\"#f0f921\"]],\"type\":\"heatmapgl\"}],\"histogram\":[{\"marker\":{\"pattern\":{\"fillmode\":\"overlay\",\"size\":10,\"solidity\":0.2}},\"type\":\"histogram\"}],\"histogram2d\":[{\"colorbar\":{\"outlinewidth\":0,\"ticks\":\"\"},\"colorscale\":[[0.0,\"#0d0887\"],[0.1111111111111111,\"#46039f\"],[0.2222222222222222,\"#7201a8\"],[0.3333333333333333,\"#9c179e\"],[0.4444444444444444,\"#bd3786\"],[0.5555555555555556,\"#d8576b\"],[0.6666666666666666,\"#ed7953\"],[0.7777777777777778,\"#fb9f3a\"],[0.8888888888888888,\"#fdca26\"],[1.0,\"#f0f921\"]],\"type\":\"histogram2d\"}],\"histogram2dcontour\":[{\"colorbar\":{\"outlinewidth\":0,\"ticks\":\"\"},\"colorscale\":[[0.0,\"#0d0887\"],[0.1111111111111111,\"#46039f\"],[0.2222222222222222,\"#7201a8\"],[0.3333333333333333,\"#9c179e\"],[0.4444444444444444,\"#bd3786\"],[0.5555555555555556,\"#d8576b\"],[0.6666666666666666,\"#ed7953\"],[0.7777777777777778,\"#fb9f3a\"],[0.8888888888888888,\"#fdca26\"],[1.0,\"#f0f921\"]],\"type\":\"histogram2dcontour\"}],\"mesh3d\":[{\"colorbar\":{\"outlinewidth\":0,\"ticks\":\"\"},\"type\":\"mesh3d\"}],\"parcoords\":[{\"line\":{\"colorbar\":{\"outlinewidth\":0,\"ticks\":\"\"}},\"type\":\"parcoords\"}],\"pie\":[{\"automargin\":true,\"type\":\"pie\"}],\"scatter\":[{\"marker\":{\"colorbar\":{\"outlinewidth\":0,\"ticks\":\"\"}},\"type\":\"scatter\"}],\"scatter3d\":[{\"line\":{\"colorbar\":{\"outlinewidth\":0,\"ticks\":\"\"}},\"marker\":{\"colorbar\":{\"outlinewidth\":0,\"ticks\":\"\"}},\"type\":\"scatter3d\"}],\"scattercarpet\":[{\"marker\":{\"colorbar\":{\"outlinewidth\":0,\"ticks\":\"\"}},\"type\":\"scattercarpet\"}],\"scattergeo\":[{\"marker\":{\"colorbar\":{\"outlinewidth\":0,\"ticks\":\"\"}},\"type\":\"scattergeo\"}],\"scattergl\":[{\"marker\":{\"colorbar\":{\"outlinewidth\":0,\"ticks\":\"\"}},\"type\":\"scattergl\"}],\"scattermapbox\":[{\"marker\":{\"colorbar\":{\"outlinewidth\":0,\"ticks\":\"\"}},\"type\":\"scattermapbox\"}],\"scatterpolar\":[{\"marker\":{\"colorbar\":{\"outlinewidth\":0,\"ticks\":\"\"}},\"type\":\"scatterpolar\"}],\"scatterpolargl\":[{\"marker\":{\"colorbar\":{\"outlinewidth\":0,\"ticks\":\"\"}},\"type\":\"scatterpolargl\"}],\"scatterternary\":[{\"marker\":{\"colorbar\":{\"outlinewidth\":0,\"ticks\":\"\"}},\"type\":\"scatterternary\"}],\"surface\":[{\"colorbar\":{\"outlinewidth\":0,\"ticks\":\"\"},\"colorscale\":[[0.0,\"#0d0887\"],[0.1111111111111111,\"#46039f\"],[0.2222222222222222,\"#7201a8\"],[0.3333333333333333,\"#9c179e\"],[0.4444444444444444,\"#bd3786\"],[0.5555555555555556,\"#d8576b\"],[0.6666666666666666,\"#ed7953\"],[0.7777777777777778,\"#fb9f3a\"],[0.8888888888888888,\"#fdca26\"],[1.0,\"#f0f921\"]],\"type\":\"surface\"}],\"table\":[{\"cells\":{\"fill\":{\"color\":\"#EBF0F8\"},\"line\":{\"color\":\"white\"}},\"header\":{\"fill\":{\"color\":\"#C8D4E3\"},\"line\":{\"color\":\"white\"}},\"type\":\"table\"}]},\"layout\":{\"annotationdefaults\":{\"arrowcolor\":\"#2a3f5f\",\"arrowhead\":0,\"arrowwidth\":1},\"autotypenumbers\":\"strict\",\"coloraxis\":{\"colorbar\":{\"outlinewidth\":0,\"ticks\":\"\"}},\"colorscale\":{\"diverging\":[[0,\"#8e0152\"],[0.1,\"#c51b7d\"],[0.2,\"#de77ae\"],[0.3,\"#f1b6da\"],[0.4,\"#fde0ef\"],[0.5,\"#f7f7f7\"],[0.6,\"#e6f5d0\"],[0.7,\"#b8e186\"],[0.8,\"#7fbc41\"],[0.9,\"#4d9221\"],[1,\"#276419\"]],\"sequential\":[[0.0,\"#0d0887\"],[0.1111111111111111,\"#46039f\"],[0.2222222222222222,\"#7201a8\"],[0.3333333333333333,\"#9c179e\"],[0.4444444444444444,\"#bd3786\"],[0.5555555555555556,\"#d8576b\"],[0.6666666666666666,\"#ed7953\"],[0.7777777777777778,\"#fb9f3a\"],[0.8888888888888888,\"#fdca26\"],[1.0,\"#f0f921\"]],\"sequentialminus\":[[0.0,\"#0d0887\"],[0.1111111111111111,\"#46039f\"],[0.2222222222222222,\"#7201a8\"],[0.3333333333333333,\"#9c179e\"],[0.4444444444444444,\"#bd3786\"],[0.5555555555555556,\"#d8576b\"],[0.6666666666666666,\"#ed7953\"],[0.7777777777777778,\"#fb9f3a\"],[0.8888888888888888,\"#fdca26\"],[1.0,\"#f0f921\"]]},\"colorway\":[\"#636efa\",\"#EF553B\",\"#00cc96\",\"#ab63fa\",\"#FFA15A\",\"#19d3f3\",\"#FF6692\",\"#B6E880\",\"#FF97FF\",\"#FECB52\"],\"font\":{\"color\":\"#2a3f5f\"},\"geo\":{\"bgcolor\":\"white\",\"lakecolor\":\"white\",\"landcolor\":\"#E5ECF6\",\"showlakes\":true,\"showland\":true,\"subunitcolor\":\"white\"},\"hoverlabel\":{\"align\":\"left\"},\"hovermode\":\"closest\",\"mapbox\":{\"style\":\"light\"},\"paper_bgcolor\":\"white\",\"plot_bgcolor\":\"#E5ECF6\",\"polar\":{\"angularaxis\":{\"gridcolor\":\"white\",\"linecolor\":\"white\",\"ticks\":\"\"},\"bgcolor\":\"#E5ECF6\",\"radialaxis\":{\"gridcolor\":\"white\",\"linecolor\":\"white\",\"ticks\":\"\"}},\"scene\":{\"xaxis\":{\"backgroundcolor\":\"#E5ECF6\",\"gridcolor\":\"white\",\"gridwidth\":2,\"linecolor\":\"white\",\"showbackground\":true,\"ticks\":\"\",\"zerolinecolor\":\"white\"},\"yaxis\":{\"backgroundcolor\":\"#E5ECF6\",\"gridcolor\":\"white\",\"gridwidth\":2,\"linecolor\":\"white\",\"showbackground\":true,\"ticks\":\"\",\"zerolinecolor\":\"white\"},\"zaxis\":{\"backgroundcolor\":\"#E5ECF6\",\"gridcolor\":\"white\",\"gridwidth\":2,\"linecolor\":\"white\",\"showbackground\":true,\"ticks\":\"\",\"zerolinecolor\":\"white\"}},\"shapedefaults\":{\"line\":{\"color\":\"#2a3f5f\"}},\"ternary\":{\"aaxis\":{\"gridcolor\":\"white\",\"linecolor\":\"white\",\"ticks\":\"\"},\"baxis\":{\"gridcolor\":\"white\",\"linecolor\":\"white\",\"ticks\":\"\"},\"bgcolor\":\"#E5ECF6\",\"caxis\":{\"gridcolor\":\"white\",\"linecolor\":\"white\",\"ticks\":\"\"}},\"title\":{\"x\":0.05},\"xaxis\":{\"automargin\":true,\"gridcolor\":\"white\",\"linecolor\":\"white\",\"ticks\":\"\",\"title\":{\"standoff\":15},\"zerolinecolor\":\"white\",\"zerolinewidth\":2},\"yaxis\":{\"automargin\":true,\"gridcolor\":\"white\",\"linecolor\":\"white\",\"ticks\":\"\",\"title\":{\"standoff\":15},\"zerolinecolor\":\"white\",\"zerolinewidth\":2}}},\"title\":{\"text\":\"Fitness usando 11 colores\"},\"xaxis\":{\"title\":{\"text\":\"Generaci\\u00f3n\"}},\"yaxis\":{\"title\":{\"text\":\"Mejor Fitness\"}},\"width\":500,\"height\":400},                        {\"responsive\": true}                    ).then(function(){\n",
              "                            \n",
              "var gd = document.getElementById('02c1e9b3-7d5e-4647-8fd9-e5580e0a5739');\n",
              "var x = new MutationObserver(function (mutations, observer) {{\n",
              "        var display = window.getComputedStyle(gd).display;\n",
              "        if (!display || display === 'none') {{\n",
              "            console.log([gd, 'removed!']);\n",
              "            Plotly.purge(gd);\n",
              "            observer.disconnect();\n",
              "        }}\n",
              "}});\n",
              "\n",
              "// Listen for the removal of the full notebook cells\n",
              "var notebookContainer = gd.closest('#notebook-container');\n",
              "if (notebookContainer) {{\n",
              "    x.observe(notebookContainer, {childList: true});\n",
              "}}\n",
              "\n",
              "// Listen for the clearing of the current output cell\n",
              "var outputEl = gd.closest('.output');\n",
              "if (outputEl) {{\n",
              "    x.observe(outputEl, {childList: true});\n",
              "}}\n",
              "\n",
              "                        })                };                            </script>        </div>\n",
              "</body>\n",
              "</html>"
            ]
          },
          "metadata": {}
        },
        {
          "output_type": "stream",
          "name": "stdout",
          "text": [
            "\n",
            " \n",
            "\n",
            "Generación: 10,   Mejor Fitness: 3,   Individuo: [7, 1, 2, 3, 8, 5, 7, 4, 1, 9, 1, 1, 5, 1, 6, 6, 4, 6, 10, 10]\n",
            "Generación: 20,   Mejor Fitness: 2,   Individuo: [3, 8, 5, 10, 9, 8, 7, 4, 1, 9, 1, 1, 5, 1, 6, 2, 2, 6, 7, 3]\n",
            "Usando 10 colores\n",
            "Generación: 23,   Mejor Fitness: 0,   Individuo: [7, 1, 2, 8, 8, 10, 7, 5, 2, 4, 2, 7, 3, 10, 3, 3, 9, 4, 6, 4]\n",
            "\n",
            "\n"
          ]
        },
        {
          "output_type": "display_data",
          "data": {
            "text/html": [
              "<html>\n",
              "<head><meta charset=\"utf-8\" /></head>\n",
              "<body>\n",
              "    <div>            <script src=\"https://cdnjs.cloudflare.com/ajax/libs/mathjax/2.7.5/MathJax.js?config=TeX-AMS-MML_SVG\"></script><script type=\"text/javascript\">if (window.MathJax) {MathJax.Hub.Config({SVG: {font: \"STIX-Web\"}});}</script>                <script type=\"text/javascript\">window.PlotlyConfig = {MathJaxConfig: 'local'};</script>\n",
              "        <script src=\"https://cdn.plot.ly/plotly-2.8.3.min.js\"></script>                <div id=\"3541a078-5dc3-4585-8ccb-65d9be70fc43\" class=\"plotly-graph-div\" style=\"height:400px; width:500px;\"></div>            <script type=\"text/javascript\">                                    window.PLOTLYENV=window.PLOTLYENV || {};                                    if (document.getElementById(\"3541a078-5dc3-4585-8ccb-65d9be70fc43\")) {                    Plotly.newPlot(                        \"3541a078-5dc3-4585-8ccb-65d9be70fc43\",                        [{\"x\":[1.0,2.0,3.0,4.0,5.0,6.0,7.0,8.0,9.0,10.0,11.0,12.0,13.0,14.0,15.0,16.0,17.0,18.0,19.0,20.0,21.0,22.0,23.0,23.0],\"y\":[4.0,3.0,3.0,3.0,3.0,3.0,3.0,2.0,3.0,3.0,3.0,1.0,2.0,2.0,1.0,2.0,2.0,1.0,2.0,2.0,1.0,1.0,0.0,0.0],\"type\":\"scatter\"}],                        {\"template\":{\"data\":{\"bar\":[{\"error_x\":{\"color\":\"#2a3f5f\"},\"error_y\":{\"color\":\"#2a3f5f\"},\"marker\":{\"line\":{\"color\":\"#E5ECF6\",\"width\":0.5},\"pattern\":{\"fillmode\":\"overlay\",\"size\":10,\"solidity\":0.2}},\"type\":\"bar\"}],\"barpolar\":[{\"marker\":{\"line\":{\"color\":\"#E5ECF6\",\"width\":0.5},\"pattern\":{\"fillmode\":\"overlay\",\"size\":10,\"solidity\":0.2}},\"type\":\"barpolar\"}],\"carpet\":[{\"aaxis\":{\"endlinecolor\":\"#2a3f5f\",\"gridcolor\":\"white\",\"linecolor\":\"white\",\"minorgridcolor\":\"white\",\"startlinecolor\":\"#2a3f5f\"},\"baxis\":{\"endlinecolor\":\"#2a3f5f\",\"gridcolor\":\"white\",\"linecolor\":\"white\",\"minorgridcolor\":\"white\",\"startlinecolor\":\"#2a3f5f\"},\"type\":\"carpet\"}],\"choropleth\":[{\"colorbar\":{\"outlinewidth\":0,\"ticks\":\"\"},\"type\":\"choropleth\"}],\"contour\":[{\"colorbar\":{\"outlinewidth\":0,\"ticks\":\"\"},\"colorscale\":[[0.0,\"#0d0887\"],[0.1111111111111111,\"#46039f\"],[0.2222222222222222,\"#7201a8\"],[0.3333333333333333,\"#9c179e\"],[0.4444444444444444,\"#bd3786\"],[0.5555555555555556,\"#d8576b\"],[0.6666666666666666,\"#ed7953\"],[0.7777777777777778,\"#fb9f3a\"],[0.8888888888888888,\"#fdca26\"],[1.0,\"#f0f921\"]],\"type\":\"contour\"}],\"contourcarpet\":[{\"colorbar\":{\"outlinewidth\":0,\"ticks\":\"\"},\"type\":\"contourcarpet\"}],\"heatmap\":[{\"colorbar\":{\"outlinewidth\":0,\"ticks\":\"\"},\"colorscale\":[[0.0,\"#0d0887\"],[0.1111111111111111,\"#46039f\"],[0.2222222222222222,\"#7201a8\"],[0.3333333333333333,\"#9c179e\"],[0.4444444444444444,\"#bd3786\"],[0.5555555555555556,\"#d8576b\"],[0.6666666666666666,\"#ed7953\"],[0.7777777777777778,\"#fb9f3a\"],[0.8888888888888888,\"#fdca26\"],[1.0,\"#f0f921\"]],\"type\":\"heatmap\"}],\"heatmapgl\":[{\"colorbar\":{\"outlinewidth\":0,\"ticks\":\"\"},\"colorscale\":[[0.0,\"#0d0887\"],[0.1111111111111111,\"#46039f\"],[0.2222222222222222,\"#7201a8\"],[0.3333333333333333,\"#9c179e\"],[0.4444444444444444,\"#bd3786\"],[0.5555555555555556,\"#d8576b\"],[0.6666666666666666,\"#ed7953\"],[0.7777777777777778,\"#fb9f3a\"],[0.8888888888888888,\"#fdca26\"],[1.0,\"#f0f921\"]],\"type\":\"heatmapgl\"}],\"histogram\":[{\"marker\":{\"pattern\":{\"fillmode\":\"overlay\",\"size\":10,\"solidity\":0.2}},\"type\":\"histogram\"}],\"histogram2d\":[{\"colorbar\":{\"outlinewidth\":0,\"ticks\":\"\"},\"colorscale\":[[0.0,\"#0d0887\"],[0.1111111111111111,\"#46039f\"],[0.2222222222222222,\"#7201a8\"],[0.3333333333333333,\"#9c179e\"],[0.4444444444444444,\"#bd3786\"],[0.5555555555555556,\"#d8576b\"],[0.6666666666666666,\"#ed7953\"],[0.7777777777777778,\"#fb9f3a\"],[0.8888888888888888,\"#fdca26\"],[1.0,\"#f0f921\"]],\"type\":\"histogram2d\"}],\"histogram2dcontour\":[{\"colorbar\":{\"outlinewidth\":0,\"ticks\":\"\"},\"colorscale\":[[0.0,\"#0d0887\"],[0.1111111111111111,\"#46039f\"],[0.2222222222222222,\"#7201a8\"],[0.3333333333333333,\"#9c179e\"],[0.4444444444444444,\"#bd3786\"],[0.5555555555555556,\"#d8576b\"],[0.6666666666666666,\"#ed7953\"],[0.7777777777777778,\"#fb9f3a\"],[0.8888888888888888,\"#fdca26\"],[1.0,\"#f0f921\"]],\"type\":\"histogram2dcontour\"}],\"mesh3d\":[{\"colorbar\":{\"outlinewidth\":0,\"ticks\":\"\"},\"type\":\"mesh3d\"}],\"parcoords\":[{\"line\":{\"colorbar\":{\"outlinewidth\":0,\"ticks\":\"\"}},\"type\":\"parcoords\"}],\"pie\":[{\"automargin\":true,\"type\":\"pie\"}],\"scatter\":[{\"marker\":{\"colorbar\":{\"outlinewidth\":0,\"ticks\":\"\"}},\"type\":\"scatter\"}],\"scatter3d\":[{\"line\":{\"colorbar\":{\"outlinewidth\":0,\"ticks\":\"\"}},\"marker\":{\"colorbar\":{\"outlinewidth\":0,\"ticks\":\"\"}},\"type\":\"scatter3d\"}],\"scattercarpet\":[{\"marker\":{\"colorbar\":{\"outlinewidth\":0,\"ticks\":\"\"}},\"type\":\"scattercarpet\"}],\"scattergeo\":[{\"marker\":{\"colorbar\":{\"outlinewidth\":0,\"ticks\":\"\"}},\"type\":\"scattergeo\"}],\"scattergl\":[{\"marker\":{\"colorbar\":{\"outlinewidth\":0,\"ticks\":\"\"}},\"type\":\"scattergl\"}],\"scattermapbox\":[{\"marker\":{\"colorbar\":{\"outlinewidth\":0,\"ticks\":\"\"}},\"type\":\"scattermapbox\"}],\"scatterpolar\":[{\"marker\":{\"colorbar\":{\"outlinewidth\":0,\"ticks\":\"\"}},\"type\":\"scatterpolar\"}],\"scatterpolargl\":[{\"marker\":{\"colorbar\":{\"outlinewidth\":0,\"ticks\":\"\"}},\"type\":\"scatterpolargl\"}],\"scatterternary\":[{\"marker\":{\"colorbar\":{\"outlinewidth\":0,\"ticks\":\"\"}},\"type\":\"scatterternary\"}],\"surface\":[{\"colorbar\":{\"outlinewidth\":0,\"ticks\":\"\"},\"colorscale\":[[0.0,\"#0d0887\"],[0.1111111111111111,\"#46039f\"],[0.2222222222222222,\"#7201a8\"],[0.3333333333333333,\"#9c179e\"],[0.4444444444444444,\"#bd3786\"],[0.5555555555555556,\"#d8576b\"],[0.6666666666666666,\"#ed7953\"],[0.7777777777777778,\"#fb9f3a\"],[0.8888888888888888,\"#fdca26\"],[1.0,\"#f0f921\"]],\"type\":\"surface\"}],\"table\":[{\"cells\":{\"fill\":{\"color\":\"#EBF0F8\"},\"line\":{\"color\":\"white\"}},\"header\":{\"fill\":{\"color\":\"#C8D4E3\"},\"line\":{\"color\":\"white\"}},\"type\":\"table\"}]},\"layout\":{\"annotationdefaults\":{\"arrowcolor\":\"#2a3f5f\",\"arrowhead\":0,\"arrowwidth\":1},\"autotypenumbers\":\"strict\",\"coloraxis\":{\"colorbar\":{\"outlinewidth\":0,\"ticks\":\"\"}},\"colorscale\":{\"diverging\":[[0,\"#8e0152\"],[0.1,\"#c51b7d\"],[0.2,\"#de77ae\"],[0.3,\"#f1b6da\"],[0.4,\"#fde0ef\"],[0.5,\"#f7f7f7\"],[0.6,\"#e6f5d0\"],[0.7,\"#b8e186\"],[0.8,\"#7fbc41\"],[0.9,\"#4d9221\"],[1,\"#276419\"]],\"sequential\":[[0.0,\"#0d0887\"],[0.1111111111111111,\"#46039f\"],[0.2222222222222222,\"#7201a8\"],[0.3333333333333333,\"#9c179e\"],[0.4444444444444444,\"#bd3786\"],[0.5555555555555556,\"#d8576b\"],[0.6666666666666666,\"#ed7953\"],[0.7777777777777778,\"#fb9f3a\"],[0.8888888888888888,\"#fdca26\"],[1.0,\"#f0f921\"]],\"sequentialminus\":[[0.0,\"#0d0887\"],[0.1111111111111111,\"#46039f\"],[0.2222222222222222,\"#7201a8\"],[0.3333333333333333,\"#9c179e\"],[0.4444444444444444,\"#bd3786\"],[0.5555555555555556,\"#d8576b\"],[0.6666666666666666,\"#ed7953\"],[0.7777777777777778,\"#fb9f3a\"],[0.8888888888888888,\"#fdca26\"],[1.0,\"#f0f921\"]]},\"colorway\":[\"#636efa\",\"#EF553B\",\"#00cc96\",\"#ab63fa\",\"#FFA15A\",\"#19d3f3\",\"#FF6692\",\"#B6E880\",\"#FF97FF\",\"#FECB52\"],\"font\":{\"color\":\"#2a3f5f\"},\"geo\":{\"bgcolor\":\"white\",\"lakecolor\":\"white\",\"landcolor\":\"#E5ECF6\",\"showlakes\":true,\"showland\":true,\"subunitcolor\":\"white\"},\"hoverlabel\":{\"align\":\"left\"},\"hovermode\":\"closest\",\"mapbox\":{\"style\":\"light\"},\"paper_bgcolor\":\"white\",\"plot_bgcolor\":\"#E5ECF6\",\"polar\":{\"angularaxis\":{\"gridcolor\":\"white\",\"linecolor\":\"white\",\"ticks\":\"\"},\"bgcolor\":\"#E5ECF6\",\"radialaxis\":{\"gridcolor\":\"white\",\"linecolor\":\"white\",\"ticks\":\"\"}},\"scene\":{\"xaxis\":{\"backgroundcolor\":\"#E5ECF6\",\"gridcolor\":\"white\",\"gridwidth\":2,\"linecolor\":\"white\",\"showbackground\":true,\"ticks\":\"\",\"zerolinecolor\":\"white\"},\"yaxis\":{\"backgroundcolor\":\"#E5ECF6\",\"gridcolor\":\"white\",\"gridwidth\":2,\"linecolor\":\"white\",\"showbackground\":true,\"ticks\":\"\",\"zerolinecolor\":\"white\"},\"zaxis\":{\"backgroundcolor\":\"#E5ECF6\",\"gridcolor\":\"white\",\"gridwidth\":2,\"linecolor\":\"white\",\"showbackground\":true,\"ticks\":\"\",\"zerolinecolor\":\"white\"}},\"shapedefaults\":{\"line\":{\"color\":\"#2a3f5f\"}},\"ternary\":{\"aaxis\":{\"gridcolor\":\"white\",\"linecolor\":\"white\",\"ticks\":\"\"},\"baxis\":{\"gridcolor\":\"white\",\"linecolor\":\"white\",\"ticks\":\"\"},\"bgcolor\":\"#E5ECF6\",\"caxis\":{\"gridcolor\":\"white\",\"linecolor\":\"white\",\"ticks\":\"\"}},\"title\":{\"x\":0.05},\"xaxis\":{\"automargin\":true,\"gridcolor\":\"white\",\"linecolor\":\"white\",\"ticks\":\"\",\"title\":{\"standoff\":15},\"zerolinecolor\":\"white\",\"zerolinewidth\":2},\"yaxis\":{\"automargin\":true,\"gridcolor\":\"white\",\"linecolor\":\"white\",\"ticks\":\"\",\"title\":{\"standoff\":15},\"zerolinecolor\":\"white\",\"zerolinewidth\":2}}},\"title\":{\"text\":\"Fitness usando 10 colores\"},\"xaxis\":{\"title\":{\"text\":\"Generaci\\u00f3n\"}},\"yaxis\":{\"title\":{\"text\":\"Mejor Fitness\"}},\"width\":500,\"height\":400},                        {\"responsive\": true}                    ).then(function(){\n",
              "                            \n",
              "var gd = document.getElementById('3541a078-5dc3-4585-8ccb-65d9be70fc43');\n",
              "var x = new MutationObserver(function (mutations, observer) {{\n",
              "        var display = window.getComputedStyle(gd).display;\n",
              "        if (!display || display === 'none') {{\n",
              "            console.log([gd, 'removed!']);\n",
              "            Plotly.purge(gd);\n",
              "            observer.disconnect();\n",
              "        }}\n",
              "}});\n",
              "\n",
              "// Listen for the removal of the full notebook cells\n",
              "var notebookContainer = gd.closest('#notebook-container');\n",
              "if (notebookContainer) {{\n",
              "    x.observe(notebookContainer, {childList: true});\n",
              "}}\n",
              "\n",
              "// Listen for the clearing of the current output cell\n",
              "var outputEl = gd.closest('.output');\n",
              "if (outputEl) {{\n",
              "    x.observe(outputEl, {childList: true});\n",
              "}}\n",
              "\n",
              "                        })                };                            </script>        </div>\n",
              "</body>\n",
              "</html>"
            ]
          },
          "metadata": {}
        },
        {
          "output_type": "stream",
          "name": "stdout",
          "text": [
            "\n",
            " \n",
            "\n",
            "Generación: 10,   Mejor Fitness: 1,   Individuo: [8, 7, 4, 1, 2, 9, 5, 5, 9, 7, 7, 1, 3, 6, 3, 9, 8, 3, 8, 3]\n",
            "Generación: 20,   Mejor Fitness: 1,   Individuo: [5, 6, 7, 4, 2, 9, 6, 7, 9, 3, 7, 1, 4, 6, 1, 1, 8, 3, 8, 3]\n",
            "Generación: 30,   Mejor Fitness: 3,   Individuo: [1, 7, 9, 8, 2, 9, 6, 7, 9, 2, 2, 5, 4, 6, 3, 5, 5, 2, 5, 1]\n",
            "Usando 9 colores\n",
            "Generación: 37,   Mejor Fitness: 0,   Individuo: [1, 6, 7, 8, 2, 9, 7, 7, 9, 2, 2, 2, 4, 6, 3, 3, 8, 3, 4, 1]\n",
            "\n",
            "\n"
          ]
        },
        {
          "output_type": "display_data",
          "data": {
            "text/html": [
              "<html>\n",
              "<head><meta charset=\"utf-8\" /></head>\n",
              "<body>\n",
              "    <div>            <script src=\"https://cdnjs.cloudflare.com/ajax/libs/mathjax/2.7.5/MathJax.js?config=TeX-AMS-MML_SVG\"></script><script type=\"text/javascript\">if (window.MathJax) {MathJax.Hub.Config({SVG: {font: \"STIX-Web\"}});}</script>                <script type=\"text/javascript\">window.PlotlyConfig = {MathJaxConfig: 'local'};</script>\n",
              "        <script src=\"https://cdn.plot.ly/plotly-2.8.3.min.js\"></script>                <div id=\"7bdf097e-62bf-4827-92a8-37a74b4b444d\" class=\"plotly-graph-div\" style=\"height:400px; width:500px;\"></div>            <script type=\"text/javascript\">                                    window.PLOTLYENV=window.PLOTLYENV || {};                                    if (document.getElementById(\"7bdf097e-62bf-4827-92a8-37a74b4b444d\")) {                    Plotly.newPlot(                        \"7bdf097e-62bf-4827-92a8-37a74b4b444d\",                        [{\"x\":[1.0,2.0,3.0,4.0,5.0,6.0,7.0,8.0,9.0,10.0,11.0,12.0,13.0,14.0,15.0,16.0,17.0,18.0,19.0,20.0,21.0,22.0,23.0,24.0,25.0,26.0,27.0,28.0,29.0,30.0,31.0,32.0,33.0,34.0,35.0,36.0,37.0,37.0],\"y\":[4.0,4.0,4.0,4.0,4.0,4.0,4.0,3.0,2.0,1.0,1.0,2.0,2.0,3.0,3.0,3.0,2.0,3.0,3.0,1.0,3.0,3.0,2.0,2.0,2.0,1.0,2.0,2.0,2.0,3.0,2.0,1.0,1.0,1.0,2.0,1.0,0.0,0.0],\"type\":\"scatter\"}],                        {\"template\":{\"data\":{\"bar\":[{\"error_x\":{\"color\":\"#2a3f5f\"},\"error_y\":{\"color\":\"#2a3f5f\"},\"marker\":{\"line\":{\"color\":\"#E5ECF6\",\"width\":0.5},\"pattern\":{\"fillmode\":\"overlay\",\"size\":10,\"solidity\":0.2}},\"type\":\"bar\"}],\"barpolar\":[{\"marker\":{\"line\":{\"color\":\"#E5ECF6\",\"width\":0.5},\"pattern\":{\"fillmode\":\"overlay\",\"size\":10,\"solidity\":0.2}},\"type\":\"barpolar\"}],\"carpet\":[{\"aaxis\":{\"endlinecolor\":\"#2a3f5f\",\"gridcolor\":\"white\",\"linecolor\":\"white\",\"minorgridcolor\":\"white\",\"startlinecolor\":\"#2a3f5f\"},\"baxis\":{\"endlinecolor\":\"#2a3f5f\",\"gridcolor\":\"white\",\"linecolor\":\"white\",\"minorgridcolor\":\"white\",\"startlinecolor\":\"#2a3f5f\"},\"type\":\"carpet\"}],\"choropleth\":[{\"colorbar\":{\"outlinewidth\":0,\"ticks\":\"\"},\"type\":\"choropleth\"}],\"contour\":[{\"colorbar\":{\"outlinewidth\":0,\"ticks\":\"\"},\"colorscale\":[[0.0,\"#0d0887\"],[0.1111111111111111,\"#46039f\"],[0.2222222222222222,\"#7201a8\"],[0.3333333333333333,\"#9c179e\"],[0.4444444444444444,\"#bd3786\"],[0.5555555555555556,\"#d8576b\"],[0.6666666666666666,\"#ed7953\"],[0.7777777777777778,\"#fb9f3a\"],[0.8888888888888888,\"#fdca26\"],[1.0,\"#f0f921\"]],\"type\":\"contour\"}],\"contourcarpet\":[{\"colorbar\":{\"outlinewidth\":0,\"ticks\":\"\"},\"type\":\"contourcarpet\"}],\"heatmap\":[{\"colorbar\":{\"outlinewidth\":0,\"ticks\":\"\"},\"colorscale\":[[0.0,\"#0d0887\"],[0.1111111111111111,\"#46039f\"],[0.2222222222222222,\"#7201a8\"],[0.3333333333333333,\"#9c179e\"],[0.4444444444444444,\"#bd3786\"],[0.5555555555555556,\"#d8576b\"],[0.6666666666666666,\"#ed7953\"],[0.7777777777777778,\"#fb9f3a\"],[0.8888888888888888,\"#fdca26\"],[1.0,\"#f0f921\"]],\"type\":\"heatmap\"}],\"heatmapgl\":[{\"colorbar\":{\"outlinewidth\":0,\"ticks\":\"\"},\"colorscale\":[[0.0,\"#0d0887\"],[0.1111111111111111,\"#46039f\"],[0.2222222222222222,\"#7201a8\"],[0.3333333333333333,\"#9c179e\"],[0.4444444444444444,\"#bd3786\"],[0.5555555555555556,\"#d8576b\"],[0.6666666666666666,\"#ed7953\"],[0.7777777777777778,\"#fb9f3a\"],[0.8888888888888888,\"#fdca26\"],[1.0,\"#f0f921\"]],\"type\":\"heatmapgl\"}],\"histogram\":[{\"marker\":{\"pattern\":{\"fillmode\":\"overlay\",\"size\":10,\"solidity\":0.2}},\"type\":\"histogram\"}],\"histogram2d\":[{\"colorbar\":{\"outlinewidth\":0,\"ticks\":\"\"},\"colorscale\":[[0.0,\"#0d0887\"],[0.1111111111111111,\"#46039f\"],[0.2222222222222222,\"#7201a8\"],[0.3333333333333333,\"#9c179e\"],[0.4444444444444444,\"#bd3786\"],[0.5555555555555556,\"#d8576b\"],[0.6666666666666666,\"#ed7953\"],[0.7777777777777778,\"#fb9f3a\"],[0.8888888888888888,\"#fdca26\"],[1.0,\"#f0f921\"]],\"type\":\"histogram2d\"}],\"histogram2dcontour\":[{\"colorbar\":{\"outlinewidth\":0,\"ticks\":\"\"},\"colorscale\":[[0.0,\"#0d0887\"],[0.1111111111111111,\"#46039f\"],[0.2222222222222222,\"#7201a8\"],[0.3333333333333333,\"#9c179e\"],[0.4444444444444444,\"#bd3786\"],[0.5555555555555556,\"#d8576b\"],[0.6666666666666666,\"#ed7953\"],[0.7777777777777778,\"#fb9f3a\"],[0.8888888888888888,\"#fdca26\"],[1.0,\"#f0f921\"]],\"type\":\"histogram2dcontour\"}],\"mesh3d\":[{\"colorbar\":{\"outlinewidth\":0,\"ticks\":\"\"},\"type\":\"mesh3d\"}],\"parcoords\":[{\"line\":{\"colorbar\":{\"outlinewidth\":0,\"ticks\":\"\"}},\"type\":\"parcoords\"}],\"pie\":[{\"automargin\":true,\"type\":\"pie\"}],\"scatter\":[{\"marker\":{\"colorbar\":{\"outlinewidth\":0,\"ticks\":\"\"}},\"type\":\"scatter\"}],\"scatter3d\":[{\"line\":{\"colorbar\":{\"outlinewidth\":0,\"ticks\":\"\"}},\"marker\":{\"colorbar\":{\"outlinewidth\":0,\"ticks\":\"\"}},\"type\":\"scatter3d\"}],\"scattercarpet\":[{\"marker\":{\"colorbar\":{\"outlinewidth\":0,\"ticks\":\"\"}},\"type\":\"scattercarpet\"}],\"scattergeo\":[{\"marker\":{\"colorbar\":{\"outlinewidth\":0,\"ticks\":\"\"}},\"type\":\"scattergeo\"}],\"scattergl\":[{\"marker\":{\"colorbar\":{\"outlinewidth\":0,\"ticks\":\"\"}},\"type\":\"scattergl\"}],\"scattermapbox\":[{\"marker\":{\"colorbar\":{\"outlinewidth\":0,\"ticks\":\"\"}},\"type\":\"scattermapbox\"}],\"scatterpolar\":[{\"marker\":{\"colorbar\":{\"outlinewidth\":0,\"ticks\":\"\"}},\"type\":\"scatterpolar\"}],\"scatterpolargl\":[{\"marker\":{\"colorbar\":{\"outlinewidth\":0,\"ticks\":\"\"}},\"type\":\"scatterpolargl\"}],\"scatterternary\":[{\"marker\":{\"colorbar\":{\"outlinewidth\":0,\"ticks\":\"\"}},\"type\":\"scatterternary\"}],\"surface\":[{\"colorbar\":{\"outlinewidth\":0,\"ticks\":\"\"},\"colorscale\":[[0.0,\"#0d0887\"],[0.1111111111111111,\"#46039f\"],[0.2222222222222222,\"#7201a8\"],[0.3333333333333333,\"#9c179e\"],[0.4444444444444444,\"#bd3786\"],[0.5555555555555556,\"#d8576b\"],[0.6666666666666666,\"#ed7953\"],[0.7777777777777778,\"#fb9f3a\"],[0.8888888888888888,\"#fdca26\"],[1.0,\"#f0f921\"]],\"type\":\"surface\"}],\"table\":[{\"cells\":{\"fill\":{\"color\":\"#EBF0F8\"},\"line\":{\"color\":\"white\"}},\"header\":{\"fill\":{\"color\":\"#C8D4E3\"},\"line\":{\"color\":\"white\"}},\"type\":\"table\"}]},\"layout\":{\"annotationdefaults\":{\"arrowcolor\":\"#2a3f5f\",\"arrowhead\":0,\"arrowwidth\":1},\"autotypenumbers\":\"strict\",\"coloraxis\":{\"colorbar\":{\"outlinewidth\":0,\"ticks\":\"\"}},\"colorscale\":{\"diverging\":[[0,\"#8e0152\"],[0.1,\"#c51b7d\"],[0.2,\"#de77ae\"],[0.3,\"#f1b6da\"],[0.4,\"#fde0ef\"],[0.5,\"#f7f7f7\"],[0.6,\"#e6f5d0\"],[0.7,\"#b8e186\"],[0.8,\"#7fbc41\"],[0.9,\"#4d9221\"],[1,\"#276419\"]],\"sequential\":[[0.0,\"#0d0887\"],[0.1111111111111111,\"#46039f\"],[0.2222222222222222,\"#7201a8\"],[0.3333333333333333,\"#9c179e\"],[0.4444444444444444,\"#bd3786\"],[0.5555555555555556,\"#d8576b\"],[0.6666666666666666,\"#ed7953\"],[0.7777777777777778,\"#fb9f3a\"],[0.8888888888888888,\"#fdca26\"],[1.0,\"#f0f921\"]],\"sequentialminus\":[[0.0,\"#0d0887\"],[0.1111111111111111,\"#46039f\"],[0.2222222222222222,\"#7201a8\"],[0.3333333333333333,\"#9c179e\"],[0.4444444444444444,\"#bd3786\"],[0.5555555555555556,\"#d8576b\"],[0.6666666666666666,\"#ed7953\"],[0.7777777777777778,\"#fb9f3a\"],[0.8888888888888888,\"#fdca26\"],[1.0,\"#f0f921\"]]},\"colorway\":[\"#636efa\",\"#EF553B\",\"#00cc96\",\"#ab63fa\",\"#FFA15A\",\"#19d3f3\",\"#FF6692\",\"#B6E880\",\"#FF97FF\",\"#FECB52\"],\"font\":{\"color\":\"#2a3f5f\"},\"geo\":{\"bgcolor\":\"white\",\"lakecolor\":\"white\",\"landcolor\":\"#E5ECF6\",\"showlakes\":true,\"showland\":true,\"subunitcolor\":\"white\"},\"hoverlabel\":{\"align\":\"left\"},\"hovermode\":\"closest\",\"mapbox\":{\"style\":\"light\"},\"paper_bgcolor\":\"white\",\"plot_bgcolor\":\"#E5ECF6\",\"polar\":{\"angularaxis\":{\"gridcolor\":\"white\",\"linecolor\":\"white\",\"ticks\":\"\"},\"bgcolor\":\"#E5ECF6\",\"radialaxis\":{\"gridcolor\":\"white\",\"linecolor\":\"white\",\"ticks\":\"\"}},\"scene\":{\"xaxis\":{\"backgroundcolor\":\"#E5ECF6\",\"gridcolor\":\"white\",\"gridwidth\":2,\"linecolor\":\"white\",\"showbackground\":true,\"ticks\":\"\",\"zerolinecolor\":\"white\"},\"yaxis\":{\"backgroundcolor\":\"#E5ECF6\",\"gridcolor\":\"white\",\"gridwidth\":2,\"linecolor\":\"white\",\"showbackground\":true,\"ticks\":\"\",\"zerolinecolor\":\"white\"},\"zaxis\":{\"backgroundcolor\":\"#E5ECF6\",\"gridcolor\":\"white\",\"gridwidth\":2,\"linecolor\":\"white\",\"showbackground\":true,\"ticks\":\"\",\"zerolinecolor\":\"white\"}},\"shapedefaults\":{\"line\":{\"color\":\"#2a3f5f\"}},\"ternary\":{\"aaxis\":{\"gridcolor\":\"white\",\"linecolor\":\"white\",\"ticks\":\"\"},\"baxis\":{\"gridcolor\":\"white\",\"linecolor\":\"white\",\"ticks\":\"\"},\"bgcolor\":\"#E5ECF6\",\"caxis\":{\"gridcolor\":\"white\",\"linecolor\":\"white\",\"ticks\":\"\"}},\"title\":{\"x\":0.05},\"xaxis\":{\"automargin\":true,\"gridcolor\":\"white\",\"linecolor\":\"white\",\"ticks\":\"\",\"title\":{\"standoff\":15},\"zerolinecolor\":\"white\",\"zerolinewidth\":2},\"yaxis\":{\"automargin\":true,\"gridcolor\":\"white\",\"linecolor\":\"white\",\"ticks\":\"\",\"title\":{\"standoff\":15},\"zerolinecolor\":\"white\",\"zerolinewidth\":2}}},\"title\":{\"text\":\"Fitness usando 9 colores\"},\"xaxis\":{\"title\":{\"text\":\"Generaci\\u00f3n\"}},\"yaxis\":{\"title\":{\"text\":\"Mejor Fitness\"}},\"width\":500,\"height\":400},                        {\"responsive\": true}                    ).then(function(){\n",
              "                            \n",
              "var gd = document.getElementById('7bdf097e-62bf-4827-92a8-37a74b4b444d');\n",
              "var x = new MutationObserver(function (mutations, observer) {{\n",
              "        var display = window.getComputedStyle(gd).display;\n",
              "        if (!display || display === 'none') {{\n",
              "            console.log([gd, 'removed!']);\n",
              "            Plotly.purge(gd);\n",
              "            observer.disconnect();\n",
              "        }}\n",
              "}});\n",
              "\n",
              "// Listen for the removal of the full notebook cells\n",
              "var notebookContainer = gd.closest('#notebook-container');\n",
              "if (notebookContainer) {{\n",
              "    x.observe(notebookContainer, {childList: true});\n",
              "}}\n",
              "\n",
              "// Listen for the clearing of the current output cell\n",
              "var outputEl = gd.closest('.output');\n",
              "if (outputEl) {{\n",
              "    x.observe(outputEl, {childList: true});\n",
              "}}\n",
              "\n",
              "                        })                };                            </script>        </div>\n",
              "</body>\n",
              "</html>"
            ]
          },
          "metadata": {}
        },
        {
          "output_type": "stream",
          "name": "stdout",
          "text": [
            "\n",
            " \n",
            "\n",
            "Generación: 10,   Mejor Fitness: 3,   Individuo: [4, 1, 2, 3, 1, 5, 7, 5, 8, 1, 1, 7, 8, 7, 8, 3, 3, 8, 5, 8]\n",
            "Generación: 20,   Mejor Fitness: 4,   Individuo: [2, 1, 8, 6, 7, 8, 1, 6, 7, 1, 7, 1, 4, 1, 5, 2, 3, 8, 3, 5]\n",
            "Generación: 30,   Mejor Fitness: 3,   Individuo: [5, 1, 2, 3, 3, 2, 1, 1, 6, 4, 7, 6, 8, 2, 8, 8, 6, 4, 7, 5]\n",
            "Generación: 40,   Mejor Fitness: 1,   Individuo: [2, 1, 6, 5, 1, 6, 7, 6, 8, 5, 7, 7, 8, 7, 8, 8, 2, 8, 3, 4]\n",
            "Usando 8 colores\n",
            "Generación: 43,   Mejor Fitness: 0,   Individuo: [2, 3, 6, 5, 1, 6, 2, 6, 8, 1, 3, 7, 8, 3, 8, 8, 2, 8, 4, 5]\n",
            "\n",
            "\n"
          ]
        },
        {
          "output_type": "display_data",
          "data": {
            "text/html": [
              "<html>\n",
              "<head><meta charset=\"utf-8\" /></head>\n",
              "<body>\n",
              "    <div>            <script src=\"https://cdnjs.cloudflare.com/ajax/libs/mathjax/2.7.5/MathJax.js?config=TeX-AMS-MML_SVG\"></script><script type=\"text/javascript\">if (window.MathJax) {MathJax.Hub.Config({SVG: {font: \"STIX-Web\"}});}</script>                <script type=\"text/javascript\">window.PlotlyConfig = {MathJaxConfig: 'local'};</script>\n",
              "        <script src=\"https://cdn.plot.ly/plotly-2.8.3.min.js\"></script>                <div id=\"f77cb087-f35b-45cd-8a0e-cdf99e111a35\" class=\"plotly-graph-div\" style=\"height:400px; width:500px;\"></div>            <script type=\"text/javascript\">                                    window.PLOTLYENV=window.PLOTLYENV || {};                                    if (document.getElementById(\"f77cb087-f35b-45cd-8a0e-cdf99e111a35\")) {                    Plotly.newPlot(                        \"f77cb087-f35b-45cd-8a0e-cdf99e111a35\",                        [{\"x\":[1.0,2.0,3.0,4.0,5.0,6.0,7.0,8.0,9.0,10.0,11.0,12.0,13.0,14.0,15.0,16.0,17.0,18.0,19.0,20.0,21.0,22.0,23.0,24.0,25.0,26.0,27.0,28.0,29.0,30.0,31.0,32.0,33.0,34.0,35.0,36.0,37.0,38.0,39.0,40.0,41.0,42.0,43.0,43.0],\"y\":[6.0,4.0,5.0,4.0,5.0,4.0,5.0,5.0,4.0,3.0,5.0,4.0,4.0,4.0,5.0,4.0,3.0,2.0,4.0,4.0,4.0,3.0,1.0,1.0,1.0,2.0,4.0,2.0,2.0,3.0,3.0,3.0,3.0,4.0,4.0,4.0,2.0,1.0,1.0,1.0,1.0,1.0,0.0,0.0],\"type\":\"scatter\"}],                        {\"template\":{\"data\":{\"bar\":[{\"error_x\":{\"color\":\"#2a3f5f\"},\"error_y\":{\"color\":\"#2a3f5f\"},\"marker\":{\"line\":{\"color\":\"#E5ECF6\",\"width\":0.5},\"pattern\":{\"fillmode\":\"overlay\",\"size\":10,\"solidity\":0.2}},\"type\":\"bar\"}],\"barpolar\":[{\"marker\":{\"line\":{\"color\":\"#E5ECF6\",\"width\":0.5},\"pattern\":{\"fillmode\":\"overlay\",\"size\":10,\"solidity\":0.2}},\"type\":\"barpolar\"}],\"carpet\":[{\"aaxis\":{\"endlinecolor\":\"#2a3f5f\",\"gridcolor\":\"white\",\"linecolor\":\"white\",\"minorgridcolor\":\"white\",\"startlinecolor\":\"#2a3f5f\"},\"baxis\":{\"endlinecolor\":\"#2a3f5f\",\"gridcolor\":\"white\",\"linecolor\":\"white\",\"minorgridcolor\":\"white\",\"startlinecolor\":\"#2a3f5f\"},\"type\":\"carpet\"}],\"choropleth\":[{\"colorbar\":{\"outlinewidth\":0,\"ticks\":\"\"},\"type\":\"choropleth\"}],\"contour\":[{\"colorbar\":{\"outlinewidth\":0,\"ticks\":\"\"},\"colorscale\":[[0.0,\"#0d0887\"],[0.1111111111111111,\"#46039f\"],[0.2222222222222222,\"#7201a8\"],[0.3333333333333333,\"#9c179e\"],[0.4444444444444444,\"#bd3786\"],[0.5555555555555556,\"#d8576b\"],[0.6666666666666666,\"#ed7953\"],[0.7777777777777778,\"#fb9f3a\"],[0.8888888888888888,\"#fdca26\"],[1.0,\"#f0f921\"]],\"type\":\"contour\"}],\"contourcarpet\":[{\"colorbar\":{\"outlinewidth\":0,\"ticks\":\"\"},\"type\":\"contourcarpet\"}],\"heatmap\":[{\"colorbar\":{\"outlinewidth\":0,\"ticks\":\"\"},\"colorscale\":[[0.0,\"#0d0887\"],[0.1111111111111111,\"#46039f\"],[0.2222222222222222,\"#7201a8\"],[0.3333333333333333,\"#9c179e\"],[0.4444444444444444,\"#bd3786\"],[0.5555555555555556,\"#d8576b\"],[0.6666666666666666,\"#ed7953\"],[0.7777777777777778,\"#fb9f3a\"],[0.8888888888888888,\"#fdca26\"],[1.0,\"#f0f921\"]],\"type\":\"heatmap\"}],\"heatmapgl\":[{\"colorbar\":{\"outlinewidth\":0,\"ticks\":\"\"},\"colorscale\":[[0.0,\"#0d0887\"],[0.1111111111111111,\"#46039f\"],[0.2222222222222222,\"#7201a8\"],[0.3333333333333333,\"#9c179e\"],[0.4444444444444444,\"#bd3786\"],[0.5555555555555556,\"#d8576b\"],[0.6666666666666666,\"#ed7953\"],[0.7777777777777778,\"#fb9f3a\"],[0.8888888888888888,\"#fdca26\"],[1.0,\"#f0f921\"]],\"type\":\"heatmapgl\"}],\"histogram\":[{\"marker\":{\"pattern\":{\"fillmode\":\"overlay\",\"size\":10,\"solidity\":0.2}},\"type\":\"histogram\"}],\"histogram2d\":[{\"colorbar\":{\"outlinewidth\":0,\"ticks\":\"\"},\"colorscale\":[[0.0,\"#0d0887\"],[0.1111111111111111,\"#46039f\"],[0.2222222222222222,\"#7201a8\"],[0.3333333333333333,\"#9c179e\"],[0.4444444444444444,\"#bd3786\"],[0.5555555555555556,\"#d8576b\"],[0.6666666666666666,\"#ed7953\"],[0.7777777777777778,\"#fb9f3a\"],[0.8888888888888888,\"#fdca26\"],[1.0,\"#f0f921\"]],\"type\":\"histogram2d\"}],\"histogram2dcontour\":[{\"colorbar\":{\"outlinewidth\":0,\"ticks\":\"\"},\"colorscale\":[[0.0,\"#0d0887\"],[0.1111111111111111,\"#46039f\"],[0.2222222222222222,\"#7201a8\"],[0.3333333333333333,\"#9c179e\"],[0.4444444444444444,\"#bd3786\"],[0.5555555555555556,\"#d8576b\"],[0.6666666666666666,\"#ed7953\"],[0.7777777777777778,\"#fb9f3a\"],[0.8888888888888888,\"#fdca26\"],[1.0,\"#f0f921\"]],\"type\":\"histogram2dcontour\"}],\"mesh3d\":[{\"colorbar\":{\"outlinewidth\":0,\"ticks\":\"\"},\"type\":\"mesh3d\"}],\"parcoords\":[{\"line\":{\"colorbar\":{\"outlinewidth\":0,\"ticks\":\"\"}},\"type\":\"parcoords\"}],\"pie\":[{\"automargin\":true,\"type\":\"pie\"}],\"scatter\":[{\"marker\":{\"colorbar\":{\"outlinewidth\":0,\"ticks\":\"\"}},\"type\":\"scatter\"}],\"scatter3d\":[{\"line\":{\"colorbar\":{\"outlinewidth\":0,\"ticks\":\"\"}},\"marker\":{\"colorbar\":{\"outlinewidth\":0,\"ticks\":\"\"}},\"type\":\"scatter3d\"}],\"scattercarpet\":[{\"marker\":{\"colorbar\":{\"outlinewidth\":0,\"ticks\":\"\"}},\"type\":\"scattercarpet\"}],\"scattergeo\":[{\"marker\":{\"colorbar\":{\"outlinewidth\":0,\"ticks\":\"\"}},\"type\":\"scattergeo\"}],\"scattergl\":[{\"marker\":{\"colorbar\":{\"outlinewidth\":0,\"ticks\":\"\"}},\"type\":\"scattergl\"}],\"scattermapbox\":[{\"marker\":{\"colorbar\":{\"outlinewidth\":0,\"ticks\":\"\"}},\"type\":\"scattermapbox\"}],\"scatterpolar\":[{\"marker\":{\"colorbar\":{\"outlinewidth\":0,\"ticks\":\"\"}},\"type\":\"scatterpolar\"}],\"scatterpolargl\":[{\"marker\":{\"colorbar\":{\"outlinewidth\":0,\"ticks\":\"\"}},\"type\":\"scatterpolargl\"}],\"scatterternary\":[{\"marker\":{\"colorbar\":{\"outlinewidth\":0,\"ticks\":\"\"}},\"type\":\"scatterternary\"}],\"surface\":[{\"colorbar\":{\"outlinewidth\":0,\"ticks\":\"\"},\"colorscale\":[[0.0,\"#0d0887\"],[0.1111111111111111,\"#46039f\"],[0.2222222222222222,\"#7201a8\"],[0.3333333333333333,\"#9c179e\"],[0.4444444444444444,\"#bd3786\"],[0.5555555555555556,\"#d8576b\"],[0.6666666666666666,\"#ed7953\"],[0.7777777777777778,\"#fb9f3a\"],[0.8888888888888888,\"#fdca26\"],[1.0,\"#f0f921\"]],\"type\":\"surface\"}],\"table\":[{\"cells\":{\"fill\":{\"color\":\"#EBF0F8\"},\"line\":{\"color\":\"white\"}},\"header\":{\"fill\":{\"color\":\"#C8D4E3\"},\"line\":{\"color\":\"white\"}},\"type\":\"table\"}]},\"layout\":{\"annotationdefaults\":{\"arrowcolor\":\"#2a3f5f\",\"arrowhead\":0,\"arrowwidth\":1},\"autotypenumbers\":\"strict\",\"coloraxis\":{\"colorbar\":{\"outlinewidth\":0,\"ticks\":\"\"}},\"colorscale\":{\"diverging\":[[0,\"#8e0152\"],[0.1,\"#c51b7d\"],[0.2,\"#de77ae\"],[0.3,\"#f1b6da\"],[0.4,\"#fde0ef\"],[0.5,\"#f7f7f7\"],[0.6,\"#e6f5d0\"],[0.7,\"#b8e186\"],[0.8,\"#7fbc41\"],[0.9,\"#4d9221\"],[1,\"#276419\"]],\"sequential\":[[0.0,\"#0d0887\"],[0.1111111111111111,\"#46039f\"],[0.2222222222222222,\"#7201a8\"],[0.3333333333333333,\"#9c179e\"],[0.4444444444444444,\"#bd3786\"],[0.5555555555555556,\"#d8576b\"],[0.6666666666666666,\"#ed7953\"],[0.7777777777777778,\"#fb9f3a\"],[0.8888888888888888,\"#fdca26\"],[1.0,\"#f0f921\"]],\"sequentialminus\":[[0.0,\"#0d0887\"],[0.1111111111111111,\"#46039f\"],[0.2222222222222222,\"#7201a8\"],[0.3333333333333333,\"#9c179e\"],[0.4444444444444444,\"#bd3786\"],[0.5555555555555556,\"#d8576b\"],[0.6666666666666666,\"#ed7953\"],[0.7777777777777778,\"#fb9f3a\"],[0.8888888888888888,\"#fdca26\"],[1.0,\"#f0f921\"]]},\"colorway\":[\"#636efa\",\"#EF553B\",\"#00cc96\",\"#ab63fa\",\"#FFA15A\",\"#19d3f3\",\"#FF6692\",\"#B6E880\",\"#FF97FF\",\"#FECB52\"],\"font\":{\"color\":\"#2a3f5f\"},\"geo\":{\"bgcolor\":\"white\",\"lakecolor\":\"white\",\"landcolor\":\"#E5ECF6\",\"showlakes\":true,\"showland\":true,\"subunitcolor\":\"white\"},\"hoverlabel\":{\"align\":\"left\"},\"hovermode\":\"closest\",\"mapbox\":{\"style\":\"light\"},\"paper_bgcolor\":\"white\",\"plot_bgcolor\":\"#E5ECF6\",\"polar\":{\"angularaxis\":{\"gridcolor\":\"white\",\"linecolor\":\"white\",\"ticks\":\"\"},\"bgcolor\":\"#E5ECF6\",\"radialaxis\":{\"gridcolor\":\"white\",\"linecolor\":\"white\",\"ticks\":\"\"}},\"scene\":{\"xaxis\":{\"backgroundcolor\":\"#E5ECF6\",\"gridcolor\":\"white\",\"gridwidth\":2,\"linecolor\":\"white\",\"showbackground\":true,\"ticks\":\"\",\"zerolinecolor\":\"white\"},\"yaxis\":{\"backgroundcolor\":\"#E5ECF6\",\"gridcolor\":\"white\",\"gridwidth\":2,\"linecolor\":\"white\",\"showbackground\":true,\"ticks\":\"\",\"zerolinecolor\":\"white\"},\"zaxis\":{\"backgroundcolor\":\"#E5ECF6\",\"gridcolor\":\"white\",\"gridwidth\":2,\"linecolor\":\"white\",\"showbackground\":true,\"ticks\":\"\",\"zerolinecolor\":\"white\"}},\"shapedefaults\":{\"line\":{\"color\":\"#2a3f5f\"}},\"ternary\":{\"aaxis\":{\"gridcolor\":\"white\",\"linecolor\":\"white\",\"ticks\":\"\"},\"baxis\":{\"gridcolor\":\"white\",\"linecolor\":\"white\",\"ticks\":\"\"},\"bgcolor\":\"#E5ECF6\",\"caxis\":{\"gridcolor\":\"white\",\"linecolor\":\"white\",\"ticks\":\"\"}},\"title\":{\"x\":0.05},\"xaxis\":{\"automargin\":true,\"gridcolor\":\"white\",\"linecolor\":\"white\",\"ticks\":\"\",\"title\":{\"standoff\":15},\"zerolinecolor\":\"white\",\"zerolinewidth\":2},\"yaxis\":{\"automargin\":true,\"gridcolor\":\"white\",\"linecolor\":\"white\",\"ticks\":\"\",\"title\":{\"standoff\":15},\"zerolinecolor\":\"white\",\"zerolinewidth\":2}}},\"title\":{\"text\":\"Fitness usando 8 colores\"},\"xaxis\":{\"title\":{\"text\":\"Generaci\\u00f3n\"}},\"yaxis\":{\"title\":{\"text\":\"Mejor Fitness\"}},\"width\":500,\"height\":400},                        {\"responsive\": true}                    ).then(function(){\n",
              "                            \n",
              "var gd = document.getElementById('f77cb087-f35b-45cd-8a0e-cdf99e111a35');\n",
              "var x = new MutationObserver(function (mutations, observer) {{\n",
              "        var display = window.getComputedStyle(gd).display;\n",
              "        if (!display || display === 'none') {{\n",
              "            console.log([gd, 'removed!']);\n",
              "            Plotly.purge(gd);\n",
              "            observer.disconnect();\n",
              "        }}\n",
              "}});\n",
              "\n",
              "// Listen for the removal of the full notebook cells\n",
              "var notebookContainer = gd.closest('#notebook-container');\n",
              "if (notebookContainer) {{\n",
              "    x.observe(notebookContainer, {childList: true});\n",
              "}}\n",
              "\n",
              "// Listen for the clearing of the current output cell\n",
              "var outputEl = gd.closest('.output');\n",
              "if (outputEl) {{\n",
              "    x.observe(outputEl, {childList: true});\n",
              "}}\n",
              "\n",
              "                        })                };                            </script>        </div>\n",
              "</body>\n",
              "</html>"
            ]
          },
          "metadata": {}
        },
        {
          "output_type": "stream",
          "name": "stdout",
          "text": [
            "\n",
            " \n",
            "\n",
            "Generación: 10,   Mejor Fitness: 7,   Individuo: [7, 1, 2, 4, 1, 7, 1, 2, 6, 3, 6, 3, 7, 4, 5, 6, 3, 4, 7, 3]\n",
            "Generación: 20,   Mejor Fitness: 5,   Individuo: [6, 7, 4, 5, 2, 7, 3, 3, 4, 2, 3, 3, 5, 7, 1, 6, 3, 4, 6, 2]\n",
            "Generación: 30,   Mejor Fitness: 4,   Individuo: [6, 2, 5, 3, 3, 2, 1, 4, 4, 3, 7, 3, 5, 7, 5, 4, 1, 5, 7, 6]\n",
            "Generación: 40,   Mejor Fitness: 4,   Individuo: [1, 2, 5, 6, 6, 2, 5, 2, 4, 3, 7, 6, 6, 7, 4, 4, 1, 5, 7, 3]\n",
            "Generación: 50,   Mejor Fitness: 3,   Individuo: [7, 2, 5, 3, 3, 7, 2, 1, 4, 6, 2, 3, 5, 2, 4, 4, 1, 4, 7, 1]\n",
            "Generación: 60,   Mejor Fitness: 0,   Individuo: [1, 2, 5, 3, 3, 7, 2, 5, 4, 2, 2, 3, 5, 7, 4, 4, 1, 4, 7, 6]\n",
            "Usando 7 colores\n",
            "Generación: 60,   Mejor Fitness: 0,   Individuo: [1, 2, 5, 3, 3, 7, 2, 5, 4, 2, 2, 3, 5, 7, 4, 4, 1, 4, 7, 6]\n",
            "\n",
            "\n"
          ]
        },
        {
          "output_type": "display_data",
          "data": {
            "text/html": [
              "<html>\n",
              "<head><meta charset=\"utf-8\" /></head>\n",
              "<body>\n",
              "    <div>            <script src=\"https://cdnjs.cloudflare.com/ajax/libs/mathjax/2.7.5/MathJax.js?config=TeX-AMS-MML_SVG\"></script><script type=\"text/javascript\">if (window.MathJax) {MathJax.Hub.Config({SVG: {font: \"STIX-Web\"}});}</script>                <script type=\"text/javascript\">window.PlotlyConfig = {MathJaxConfig: 'local'};</script>\n",
              "        <script src=\"https://cdn.plot.ly/plotly-2.8.3.min.js\"></script>                <div id=\"d0ec5043-ded6-4614-afa8-1fb71f81739f\" class=\"plotly-graph-div\" style=\"height:400px; width:500px;\"></div>            <script type=\"text/javascript\">                                    window.PLOTLYENV=window.PLOTLYENV || {};                                    if (document.getElementById(\"d0ec5043-ded6-4614-afa8-1fb71f81739f\")) {                    Plotly.newPlot(                        \"d0ec5043-ded6-4614-afa8-1fb71f81739f\",                        [{\"x\":[1.0,2.0,3.0,4.0,5.0,6.0,7.0,8.0,9.0,10.0,11.0,12.0,13.0,14.0,15.0,16.0,17.0,18.0,19.0,20.0,21.0,22.0,23.0,24.0,25.0,26.0,27.0,28.0,29.0,30.0,31.0,32.0,33.0,34.0,35.0,36.0,37.0,38.0,39.0,40.0,41.0,42.0,43.0,44.0,45.0,46.0,47.0,48.0,49.0,50.0,51.0,52.0,53.0,54.0,55.0,56.0,57.0,58.0,59.0,60.0,60.0],\"y\":[6.0,7.0,6.0,7.0,7.0,5.0,6.0,6.0,5.0,7.0,5.0,5.0,5.0,6.0,6.0,7.0,4.0,6.0,4.0,5.0,5.0,6.0,6.0,4.0,6.0,5.0,4.0,5.0,4.0,4.0,5.0,5.0,5.0,5.0,4.0,4.0,5.0,4.0,3.0,4.0,4.0,4.0,4.0,2.0,4.0,3.0,1.0,2.0,2.0,3.0,2.0,2.0,2.0,2.0,1.0,1.0,1.0,1.0,1.0,0.0,0.0],\"type\":\"scatter\"}],                        {\"template\":{\"data\":{\"bar\":[{\"error_x\":{\"color\":\"#2a3f5f\"},\"error_y\":{\"color\":\"#2a3f5f\"},\"marker\":{\"line\":{\"color\":\"#E5ECF6\",\"width\":0.5},\"pattern\":{\"fillmode\":\"overlay\",\"size\":10,\"solidity\":0.2}},\"type\":\"bar\"}],\"barpolar\":[{\"marker\":{\"line\":{\"color\":\"#E5ECF6\",\"width\":0.5},\"pattern\":{\"fillmode\":\"overlay\",\"size\":10,\"solidity\":0.2}},\"type\":\"barpolar\"}],\"carpet\":[{\"aaxis\":{\"endlinecolor\":\"#2a3f5f\",\"gridcolor\":\"white\",\"linecolor\":\"white\",\"minorgridcolor\":\"white\",\"startlinecolor\":\"#2a3f5f\"},\"baxis\":{\"endlinecolor\":\"#2a3f5f\",\"gridcolor\":\"white\",\"linecolor\":\"white\",\"minorgridcolor\":\"white\",\"startlinecolor\":\"#2a3f5f\"},\"type\":\"carpet\"}],\"choropleth\":[{\"colorbar\":{\"outlinewidth\":0,\"ticks\":\"\"},\"type\":\"choropleth\"}],\"contour\":[{\"colorbar\":{\"outlinewidth\":0,\"ticks\":\"\"},\"colorscale\":[[0.0,\"#0d0887\"],[0.1111111111111111,\"#46039f\"],[0.2222222222222222,\"#7201a8\"],[0.3333333333333333,\"#9c179e\"],[0.4444444444444444,\"#bd3786\"],[0.5555555555555556,\"#d8576b\"],[0.6666666666666666,\"#ed7953\"],[0.7777777777777778,\"#fb9f3a\"],[0.8888888888888888,\"#fdca26\"],[1.0,\"#f0f921\"]],\"type\":\"contour\"}],\"contourcarpet\":[{\"colorbar\":{\"outlinewidth\":0,\"ticks\":\"\"},\"type\":\"contourcarpet\"}],\"heatmap\":[{\"colorbar\":{\"outlinewidth\":0,\"ticks\":\"\"},\"colorscale\":[[0.0,\"#0d0887\"],[0.1111111111111111,\"#46039f\"],[0.2222222222222222,\"#7201a8\"],[0.3333333333333333,\"#9c179e\"],[0.4444444444444444,\"#bd3786\"],[0.5555555555555556,\"#d8576b\"],[0.6666666666666666,\"#ed7953\"],[0.7777777777777778,\"#fb9f3a\"],[0.8888888888888888,\"#fdca26\"],[1.0,\"#f0f921\"]],\"type\":\"heatmap\"}],\"heatmapgl\":[{\"colorbar\":{\"outlinewidth\":0,\"ticks\":\"\"},\"colorscale\":[[0.0,\"#0d0887\"],[0.1111111111111111,\"#46039f\"],[0.2222222222222222,\"#7201a8\"],[0.3333333333333333,\"#9c179e\"],[0.4444444444444444,\"#bd3786\"],[0.5555555555555556,\"#d8576b\"],[0.6666666666666666,\"#ed7953\"],[0.7777777777777778,\"#fb9f3a\"],[0.8888888888888888,\"#fdca26\"],[1.0,\"#f0f921\"]],\"type\":\"heatmapgl\"}],\"histogram\":[{\"marker\":{\"pattern\":{\"fillmode\":\"overlay\",\"size\":10,\"solidity\":0.2}},\"type\":\"histogram\"}],\"histogram2d\":[{\"colorbar\":{\"outlinewidth\":0,\"ticks\":\"\"},\"colorscale\":[[0.0,\"#0d0887\"],[0.1111111111111111,\"#46039f\"],[0.2222222222222222,\"#7201a8\"],[0.3333333333333333,\"#9c179e\"],[0.4444444444444444,\"#bd3786\"],[0.5555555555555556,\"#d8576b\"],[0.6666666666666666,\"#ed7953\"],[0.7777777777777778,\"#fb9f3a\"],[0.8888888888888888,\"#fdca26\"],[1.0,\"#f0f921\"]],\"type\":\"histogram2d\"}],\"histogram2dcontour\":[{\"colorbar\":{\"outlinewidth\":0,\"ticks\":\"\"},\"colorscale\":[[0.0,\"#0d0887\"],[0.1111111111111111,\"#46039f\"],[0.2222222222222222,\"#7201a8\"],[0.3333333333333333,\"#9c179e\"],[0.4444444444444444,\"#bd3786\"],[0.5555555555555556,\"#d8576b\"],[0.6666666666666666,\"#ed7953\"],[0.7777777777777778,\"#fb9f3a\"],[0.8888888888888888,\"#fdca26\"],[1.0,\"#f0f921\"]],\"type\":\"histogram2dcontour\"}],\"mesh3d\":[{\"colorbar\":{\"outlinewidth\":0,\"ticks\":\"\"},\"type\":\"mesh3d\"}],\"parcoords\":[{\"line\":{\"colorbar\":{\"outlinewidth\":0,\"ticks\":\"\"}},\"type\":\"parcoords\"}],\"pie\":[{\"automargin\":true,\"type\":\"pie\"}],\"scatter\":[{\"marker\":{\"colorbar\":{\"outlinewidth\":0,\"ticks\":\"\"}},\"type\":\"scatter\"}],\"scatter3d\":[{\"line\":{\"colorbar\":{\"outlinewidth\":0,\"ticks\":\"\"}},\"marker\":{\"colorbar\":{\"outlinewidth\":0,\"ticks\":\"\"}},\"type\":\"scatter3d\"}],\"scattercarpet\":[{\"marker\":{\"colorbar\":{\"outlinewidth\":0,\"ticks\":\"\"}},\"type\":\"scattercarpet\"}],\"scattergeo\":[{\"marker\":{\"colorbar\":{\"outlinewidth\":0,\"ticks\":\"\"}},\"type\":\"scattergeo\"}],\"scattergl\":[{\"marker\":{\"colorbar\":{\"outlinewidth\":0,\"ticks\":\"\"}},\"type\":\"scattergl\"}],\"scattermapbox\":[{\"marker\":{\"colorbar\":{\"outlinewidth\":0,\"ticks\":\"\"}},\"type\":\"scattermapbox\"}],\"scatterpolar\":[{\"marker\":{\"colorbar\":{\"outlinewidth\":0,\"ticks\":\"\"}},\"type\":\"scatterpolar\"}],\"scatterpolargl\":[{\"marker\":{\"colorbar\":{\"outlinewidth\":0,\"ticks\":\"\"}},\"type\":\"scatterpolargl\"}],\"scatterternary\":[{\"marker\":{\"colorbar\":{\"outlinewidth\":0,\"ticks\":\"\"}},\"type\":\"scatterternary\"}],\"surface\":[{\"colorbar\":{\"outlinewidth\":0,\"ticks\":\"\"},\"colorscale\":[[0.0,\"#0d0887\"],[0.1111111111111111,\"#46039f\"],[0.2222222222222222,\"#7201a8\"],[0.3333333333333333,\"#9c179e\"],[0.4444444444444444,\"#bd3786\"],[0.5555555555555556,\"#d8576b\"],[0.6666666666666666,\"#ed7953\"],[0.7777777777777778,\"#fb9f3a\"],[0.8888888888888888,\"#fdca26\"],[1.0,\"#f0f921\"]],\"type\":\"surface\"}],\"table\":[{\"cells\":{\"fill\":{\"color\":\"#EBF0F8\"},\"line\":{\"color\":\"white\"}},\"header\":{\"fill\":{\"color\":\"#C8D4E3\"},\"line\":{\"color\":\"white\"}},\"type\":\"table\"}]},\"layout\":{\"annotationdefaults\":{\"arrowcolor\":\"#2a3f5f\",\"arrowhead\":0,\"arrowwidth\":1},\"autotypenumbers\":\"strict\",\"coloraxis\":{\"colorbar\":{\"outlinewidth\":0,\"ticks\":\"\"}},\"colorscale\":{\"diverging\":[[0,\"#8e0152\"],[0.1,\"#c51b7d\"],[0.2,\"#de77ae\"],[0.3,\"#f1b6da\"],[0.4,\"#fde0ef\"],[0.5,\"#f7f7f7\"],[0.6,\"#e6f5d0\"],[0.7,\"#b8e186\"],[0.8,\"#7fbc41\"],[0.9,\"#4d9221\"],[1,\"#276419\"]],\"sequential\":[[0.0,\"#0d0887\"],[0.1111111111111111,\"#46039f\"],[0.2222222222222222,\"#7201a8\"],[0.3333333333333333,\"#9c179e\"],[0.4444444444444444,\"#bd3786\"],[0.5555555555555556,\"#d8576b\"],[0.6666666666666666,\"#ed7953\"],[0.7777777777777778,\"#fb9f3a\"],[0.8888888888888888,\"#fdca26\"],[1.0,\"#f0f921\"]],\"sequentialminus\":[[0.0,\"#0d0887\"],[0.1111111111111111,\"#46039f\"],[0.2222222222222222,\"#7201a8\"],[0.3333333333333333,\"#9c179e\"],[0.4444444444444444,\"#bd3786\"],[0.5555555555555556,\"#d8576b\"],[0.6666666666666666,\"#ed7953\"],[0.7777777777777778,\"#fb9f3a\"],[0.8888888888888888,\"#fdca26\"],[1.0,\"#f0f921\"]]},\"colorway\":[\"#636efa\",\"#EF553B\",\"#00cc96\",\"#ab63fa\",\"#FFA15A\",\"#19d3f3\",\"#FF6692\",\"#B6E880\",\"#FF97FF\",\"#FECB52\"],\"font\":{\"color\":\"#2a3f5f\"},\"geo\":{\"bgcolor\":\"white\",\"lakecolor\":\"white\",\"landcolor\":\"#E5ECF6\",\"showlakes\":true,\"showland\":true,\"subunitcolor\":\"white\"},\"hoverlabel\":{\"align\":\"left\"},\"hovermode\":\"closest\",\"mapbox\":{\"style\":\"light\"},\"paper_bgcolor\":\"white\",\"plot_bgcolor\":\"#E5ECF6\",\"polar\":{\"angularaxis\":{\"gridcolor\":\"white\",\"linecolor\":\"white\",\"ticks\":\"\"},\"bgcolor\":\"#E5ECF6\",\"radialaxis\":{\"gridcolor\":\"white\",\"linecolor\":\"white\",\"ticks\":\"\"}},\"scene\":{\"xaxis\":{\"backgroundcolor\":\"#E5ECF6\",\"gridcolor\":\"white\",\"gridwidth\":2,\"linecolor\":\"white\",\"showbackground\":true,\"ticks\":\"\",\"zerolinecolor\":\"white\"},\"yaxis\":{\"backgroundcolor\":\"#E5ECF6\",\"gridcolor\":\"white\",\"gridwidth\":2,\"linecolor\":\"white\",\"showbackground\":true,\"ticks\":\"\",\"zerolinecolor\":\"white\"},\"zaxis\":{\"backgroundcolor\":\"#E5ECF6\",\"gridcolor\":\"white\",\"gridwidth\":2,\"linecolor\":\"white\",\"showbackground\":true,\"ticks\":\"\",\"zerolinecolor\":\"white\"}},\"shapedefaults\":{\"line\":{\"color\":\"#2a3f5f\"}},\"ternary\":{\"aaxis\":{\"gridcolor\":\"white\",\"linecolor\":\"white\",\"ticks\":\"\"},\"baxis\":{\"gridcolor\":\"white\",\"linecolor\":\"white\",\"ticks\":\"\"},\"bgcolor\":\"#E5ECF6\",\"caxis\":{\"gridcolor\":\"white\",\"linecolor\":\"white\",\"ticks\":\"\"}},\"title\":{\"x\":0.05},\"xaxis\":{\"automargin\":true,\"gridcolor\":\"white\",\"linecolor\":\"white\",\"ticks\":\"\",\"title\":{\"standoff\":15},\"zerolinecolor\":\"white\",\"zerolinewidth\":2},\"yaxis\":{\"automargin\":true,\"gridcolor\":\"white\",\"linecolor\":\"white\",\"ticks\":\"\",\"title\":{\"standoff\":15},\"zerolinecolor\":\"white\",\"zerolinewidth\":2}}},\"title\":{\"text\":\"Fitness usando 7 colores\"},\"xaxis\":{\"title\":{\"text\":\"Generaci\\u00f3n\"}},\"yaxis\":{\"title\":{\"text\":\"Mejor Fitness\"}},\"width\":500,\"height\":400},                        {\"responsive\": true}                    ).then(function(){\n",
              "                            \n",
              "var gd = document.getElementById('d0ec5043-ded6-4614-afa8-1fb71f81739f');\n",
              "var x = new MutationObserver(function (mutations, observer) {{\n",
              "        var display = window.getComputedStyle(gd).display;\n",
              "        if (!display || display === 'none') {{\n",
              "            console.log([gd, 'removed!']);\n",
              "            Plotly.purge(gd);\n",
              "            observer.disconnect();\n",
              "        }}\n",
              "}});\n",
              "\n",
              "// Listen for the removal of the full notebook cells\n",
              "var notebookContainer = gd.closest('#notebook-container');\n",
              "if (notebookContainer) {{\n",
              "    x.observe(notebookContainer, {childList: true});\n",
              "}}\n",
              "\n",
              "// Listen for the clearing of the current output cell\n",
              "var outputEl = gd.closest('.output');\n",
              "if (outputEl) {{\n",
              "    x.observe(outputEl, {childList: true});\n",
              "}}\n",
              "\n",
              "                        })                };                            </script>        </div>\n",
              "</body>\n",
              "</html>"
            ]
          },
          "metadata": {}
        },
        {
          "output_type": "stream",
          "name": "stdout",
          "text": [
            "\n",
            " \n",
            "\n",
            "Generación: 10,   Mejor Fitness: 6,   Individuo: [5, 6, 1, 2, 4, 1, 1, 1, 3, 6, 4, 4, 6, 1, 6, 3, 2, 3, 3, 5]\n",
            "Generación: 20,   Mejor Fitness: 6,   Individuo: [5, 6, 1, 2, 4, 3, 1, 1, 3, 6, 4, 1, 3, 2, 3, 3, 2, 4, 3, 5]\n",
            "Generación: 30,   Mejor Fitness: 5,   Individuo: [2, 6, 1, 2, 4, 1, 6, 5, 1, 4, 4, 2, 5, 5, 3, 6, 2, 3, 4, 3]\n",
            "Generación: 40,   Mejor Fitness: 3,   Individuo: [5, 6, 1, 2, 4, 1, 4, 1, 3, 6, 4, 5, 3, 1, 3, 3, 2, 3, 3, 6]\n",
            "Generación: 50,   Mejor Fitness: 0,   Individuo: [6, 4, 1, 2, 4, 1, 6, 5, 1, 4, 4, 4, 1, 5, 3, 3, 2, 3, 3, 6]\n",
            "Usando 6 colores\n",
            "Generación: 50,   Mejor Fitness: 0,   Individuo: [6, 4, 1, 2, 4, 1, 6, 5, 1, 4, 4, 4, 1, 5, 3, 3, 2, 3, 3, 6]\n",
            "\n",
            "\n"
          ]
        },
        {
          "output_type": "display_data",
          "data": {
            "text/html": [
              "<html>\n",
              "<head><meta charset=\"utf-8\" /></head>\n",
              "<body>\n",
              "    <div>            <script src=\"https://cdnjs.cloudflare.com/ajax/libs/mathjax/2.7.5/MathJax.js?config=TeX-AMS-MML_SVG\"></script><script type=\"text/javascript\">if (window.MathJax) {MathJax.Hub.Config({SVG: {font: \"STIX-Web\"}});}</script>                <script type=\"text/javascript\">window.PlotlyConfig = {MathJaxConfig: 'local'};</script>\n",
              "        <script src=\"https://cdn.plot.ly/plotly-2.8.3.min.js\"></script>                <div id=\"95acc23f-28eb-487b-9cc4-22f00614d7fe\" class=\"plotly-graph-div\" style=\"height:400px; width:500px;\"></div>            <script type=\"text/javascript\">                                    window.PLOTLYENV=window.PLOTLYENV || {};                                    if (document.getElementById(\"95acc23f-28eb-487b-9cc4-22f00614d7fe\")) {                    Plotly.newPlot(                        \"95acc23f-28eb-487b-9cc4-22f00614d7fe\",                        [{\"x\":[1.0,2.0,3.0,4.0,5.0,6.0,7.0,8.0,9.0,10.0,11.0,12.0,13.0,14.0,15.0,16.0,17.0,18.0,19.0,20.0,21.0,22.0,23.0,24.0,25.0,26.0,27.0,28.0,29.0,30.0,31.0,32.0,33.0,34.0,35.0,36.0,37.0,38.0,39.0,40.0,41.0,42.0,43.0,44.0,45.0,46.0,47.0,48.0,49.0,50.0,50.0],\"y\":[5.0,8.0,7.0,7.0,8.0,7.0,7.0,8.0,8.0,6.0,7.0,4.0,6.0,5.0,7.0,7.0,8.0,7.0,7.0,6.0,6.0,6.0,7.0,6.0,6.0,5.0,6.0,6.0,6.0,5.0,4.0,5.0,3.0,6.0,4.0,5.0,5.0,4.0,3.0,3.0,3.0,3.0,3.0,3.0,3.0,3.0,1.0,2.0,1.0,0.0,0.0],\"type\":\"scatter\"}],                        {\"template\":{\"data\":{\"bar\":[{\"error_x\":{\"color\":\"#2a3f5f\"},\"error_y\":{\"color\":\"#2a3f5f\"},\"marker\":{\"line\":{\"color\":\"#E5ECF6\",\"width\":0.5},\"pattern\":{\"fillmode\":\"overlay\",\"size\":10,\"solidity\":0.2}},\"type\":\"bar\"}],\"barpolar\":[{\"marker\":{\"line\":{\"color\":\"#E5ECF6\",\"width\":0.5},\"pattern\":{\"fillmode\":\"overlay\",\"size\":10,\"solidity\":0.2}},\"type\":\"barpolar\"}],\"carpet\":[{\"aaxis\":{\"endlinecolor\":\"#2a3f5f\",\"gridcolor\":\"white\",\"linecolor\":\"white\",\"minorgridcolor\":\"white\",\"startlinecolor\":\"#2a3f5f\"},\"baxis\":{\"endlinecolor\":\"#2a3f5f\",\"gridcolor\":\"white\",\"linecolor\":\"white\",\"minorgridcolor\":\"white\",\"startlinecolor\":\"#2a3f5f\"},\"type\":\"carpet\"}],\"choropleth\":[{\"colorbar\":{\"outlinewidth\":0,\"ticks\":\"\"},\"type\":\"choropleth\"}],\"contour\":[{\"colorbar\":{\"outlinewidth\":0,\"ticks\":\"\"},\"colorscale\":[[0.0,\"#0d0887\"],[0.1111111111111111,\"#46039f\"],[0.2222222222222222,\"#7201a8\"],[0.3333333333333333,\"#9c179e\"],[0.4444444444444444,\"#bd3786\"],[0.5555555555555556,\"#d8576b\"],[0.6666666666666666,\"#ed7953\"],[0.7777777777777778,\"#fb9f3a\"],[0.8888888888888888,\"#fdca26\"],[1.0,\"#f0f921\"]],\"type\":\"contour\"}],\"contourcarpet\":[{\"colorbar\":{\"outlinewidth\":0,\"ticks\":\"\"},\"type\":\"contourcarpet\"}],\"heatmap\":[{\"colorbar\":{\"outlinewidth\":0,\"ticks\":\"\"},\"colorscale\":[[0.0,\"#0d0887\"],[0.1111111111111111,\"#46039f\"],[0.2222222222222222,\"#7201a8\"],[0.3333333333333333,\"#9c179e\"],[0.4444444444444444,\"#bd3786\"],[0.5555555555555556,\"#d8576b\"],[0.6666666666666666,\"#ed7953\"],[0.7777777777777778,\"#fb9f3a\"],[0.8888888888888888,\"#fdca26\"],[1.0,\"#f0f921\"]],\"type\":\"heatmap\"}],\"heatmapgl\":[{\"colorbar\":{\"outlinewidth\":0,\"ticks\":\"\"},\"colorscale\":[[0.0,\"#0d0887\"],[0.1111111111111111,\"#46039f\"],[0.2222222222222222,\"#7201a8\"],[0.3333333333333333,\"#9c179e\"],[0.4444444444444444,\"#bd3786\"],[0.5555555555555556,\"#d8576b\"],[0.6666666666666666,\"#ed7953\"],[0.7777777777777778,\"#fb9f3a\"],[0.8888888888888888,\"#fdca26\"],[1.0,\"#f0f921\"]],\"type\":\"heatmapgl\"}],\"histogram\":[{\"marker\":{\"pattern\":{\"fillmode\":\"overlay\",\"size\":10,\"solidity\":0.2}},\"type\":\"histogram\"}],\"histogram2d\":[{\"colorbar\":{\"outlinewidth\":0,\"ticks\":\"\"},\"colorscale\":[[0.0,\"#0d0887\"],[0.1111111111111111,\"#46039f\"],[0.2222222222222222,\"#7201a8\"],[0.3333333333333333,\"#9c179e\"],[0.4444444444444444,\"#bd3786\"],[0.5555555555555556,\"#d8576b\"],[0.6666666666666666,\"#ed7953\"],[0.7777777777777778,\"#fb9f3a\"],[0.8888888888888888,\"#fdca26\"],[1.0,\"#f0f921\"]],\"type\":\"histogram2d\"}],\"histogram2dcontour\":[{\"colorbar\":{\"outlinewidth\":0,\"ticks\":\"\"},\"colorscale\":[[0.0,\"#0d0887\"],[0.1111111111111111,\"#46039f\"],[0.2222222222222222,\"#7201a8\"],[0.3333333333333333,\"#9c179e\"],[0.4444444444444444,\"#bd3786\"],[0.5555555555555556,\"#d8576b\"],[0.6666666666666666,\"#ed7953\"],[0.7777777777777778,\"#fb9f3a\"],[0.8888888888888888,\"#fdca26\"],[1.0,\"#f0f921\"]],\"type\":\"histogram2dcontour\"}],\"mesh3d\":[{\"colorbar\":{\"outlinewidth\":0,\"ticks\":\"\"},\"type\":\"mesh3d\"}],\"parcoords\":[{\"line\":{\"colorbar\":{\"outlinewidth\":0,\"ticks\":\"\"}},\"type\":\"parcoords\"}],\"pie\":[{\"automargin\":true,\"type\":\"pie\"}],\"scatter\":[{\"marker\":{\"colorbar\":{\"outlinewidth\":0,\"ticks\":\"\"}},\"type\":\"scatter\"}],\"scatter3d\":[{\"line\":{\"colorbar\":{\"outlinewidth\":0,\"ticks\":\"\"}},\"marker\":{\"colorbar\":{\"outlinewidth\":0,\"ticks\":\"\"}},\"type\":\"scatter3d\"}],\"scattercarpet\":[{\"marker\":{\"colorbar\":{\"outlinewidth\":0,\"ticks\":\"\"}},\"type\":\"scattercarpet\"}],\"scattergeo\":[{\"marker\":{\"colorbar\":{\"outlinewidth\":0,\"ticks\":\"\"}},\"type\":\"scattergeo\"}],\"scattergl\":[{\"marker\":{\"colorbar\":{\"outlinewidth\":0,\"ticks\":\"\"}},\"type\":\"scattergl\"}],\"scattermapbox\":[{\"marker\":{\"colorbar\":{\"outlinewidth\":0,\"ticks\":\"\"}},\"type\":\"scattermapbox\"}],\"scatterpolar\":[{\"marker\":{\"colorbar\":{\"outlinewidth\":0,\"ticks\":\"\"}},\"type\":\"scatterpolar\"}],\"scatterpolargl\":[{\"marker\":{\"colorbar\":{\"outlinewidth\":0,\"ticks\":\"\"}},\"type\":\"scatterpolargl\"}],\"scatterternary\":[{\"marker\":{\"colorbar\":{\"outlinewidth\":0,\"ticks\":\"\"}},\"type\":\"scatterternary\"}],\"surface\":[{\"colorbar\":{\"outlinewidth\":0,\"ticks\":\"\"},\"colorscale\":[[0.0,\"#0d0887\"],[0.1111111111111111,\"#46039f\"],[0.2222222222222222,\"#7201a8\"],[0.3333333333333333,\"#9c179e\"],[0.4444444444444444,\"#bd3786\"],[0.5555555555555556,\"#d8576b\"],[0.6666666666666666,\"#ed7953\"],[0.7777777777777778,\"#fb9f3a\"],[0.8888888888888888,\"#fdca26\"],[1.0,\"#f0f921\"]],\"type\":\"surface\"}],\"table\":[{\"cells\":{\"fill\":{\"color\":\"#EBF0F8\"},\"line\":{\"color\":\"white\"}},\"header\":{\"fill\":{\"color\":\"#C8D4E3\"},\"line\":{\"color\":\"white\"}},\"type\":\"table\"}]},\"layout\":{\"annotationdefaults\":{\"arrowcolor\":\"#2a3f5f\",\"arrowhead\":0,\"arrowwidth\":1},\"autotypenumbers\":\"strict\",\"coloraxis\":{\"colorbar\":{\"outlinewidth\":0,\"ticks\":\"\"}},\"colorscale\":{\"diverging\":[[0,\"#8e0152\"],[0.1,\"#c51b7d\"],[0.2,\"#de77ae\"],[0.3,\"#f1b6da\"],[0.4,\"#fde0ef\"],[0.5,\"#f7f7f7\"],[0.6,\"#e6f5d0\"],[0.7,\"#b8e186\"],[0.8,\"#7fbc41\"],[0.9,\"#4d9221\"],[1,\"#276419\"]],\"sequential\":[[0.0,\"#0d0887\"],[0.1111111111111111,\"#46039f\"],[0.2222222222222222,\"#7201a8\"],[0.3333333333333333,\"#9c179e\"],[0.4444444444444444,\"#bd3786\"],[0.5555555555555556,\"#d8576b\"],[0.6666666666666666,\"#ed7953\"],[0.7777777777777778,\"#fb9f3a\"],[0.8888888888888888,\"#fdca26\"],[1.0,\"#f0f921\"]],\"sequentialminus\":[[0.0,\"#0d0887\"],[0.1111111111111111,\"#46039f\"],[0.2222222222222222,\"#7201a8\"],[0.3333333333333333,\"#9c179e\"],[0.4444444444444444,\"#bd3786\"],[0.5555555555555556,\"#d8576b\"],[0.6666666666666666,\"#ed7953\"],[0.7777777777777778,\"#fb9f3a\"],[0.8888888888888888,\"#fdca26\"],[1.0,\"#f0f921\"]]},\"colorway\":[\"#636efa\",\"#EF553B\",\"#00cc96\",\"#ab63fa\",\"#FFA15A\",\"#19d3f3\",\"#FF6692\",\"#B6E880\",\"#FF97FF\",\"#FECB52\"],\"font\":{\"color\":\"#2a3f5f\"},\"geo\":{\"bgcolor\":\"white\",\"lakecolor\":\"white\",\"landcolor\":\"#E5ECF6\",\"showlakes\":true,\"showland\":true,\"subunitcolor\":\"white\"},\"hoverlabel\":{\"align\":\"left\"},\"hovermode\":\"closest\",\"mapbox\":{\"style\":\"light\"},\"paper_bgcolor\":\"white\",\"plot_bgcolor\":\"#E5ECF6\",\"polar\":{\"angularaxis\":{\"gridcolor\":\"white\",\"linecolor\":\"white\",\"ticks\":\"\"},\"bgcolor\":\"#E5ECF6\",\"radialaxis\":{\"gridcolor\":\"white\",\"linecolor\":\"white\",\"ticks\":\"\"}},\"scene\":{\"xaxis\":{\"backgroundcolor\":\"#E5ECF6\",\"gridcolor\":\"white\",\"gridwidth\":2,\"linecolor\":\"white\",\"showbackground\":true,\"ticks\":\"\",\"zerolinecolor\":\"white\"},\"yaxis\":{\"backgroundcolor\":\"#E5ECF6\",\"gridcolor\":\"white\",\"gridwidth\":2,\"linecolor\":\"white\",\"showbackground\":true,\"ticks\":\"\",\"zerolinecolor\":\"white\"},\"zaxis\":{\"backgroundcolor\":\"#E5ECF6\",\"gridcolor\":\"white\",\"gridwidth\":2,\"linecolor\":\"white\",\"showbackground\":true,\"ticks\":\"\",\"zerolinecolor\":\"white\"}},\"shapedefaults\":{\"line\":{\"color\":\"#2a3f5f\"}},\"ternary\":{\"aaxis\":{\"gridcolor\":\"white\",\"linecolor\":\"white\",\"ticks\":\"\"},\"baxis\":{\"gridcolor\":\"white\",\"linecolor\":\"white\",\"ticks\":\"\"},\"bgcolor\":\"#E5ECF6\",\"caxis\":{\"gridcolor\":\"white\",\"linecolor\":\"white\",\"ticks\":\"\"}},\"title\":{\"x\":0.05},\"xaxis\":{\"automargin\":true,\"gridcolor\":\"white\",\"linecolor\":\"white\",\"ticks\":\"\",\"title\":{\"standoff\":15},\"zerolinecolor\":\"white\",\"zerolinewidth\":2},\"yaxis\":{\"automargin\":true,\"gridcolor\":\"white\",\"linecolor\":\"white\",\"ticks\":\"\",\"title\":{\"standoff\":15},\"zerolinecolor\":\"white\",\"zerolinewidth\":2}}},\"title\":{\"text\":\"Fitness usando 6 colores\"},\"xaxis\":{\"title\":{\"text\":\"Generaci\\u00f3n\"}},\"yaxis\":{\"title\":{\"text\":\"Mejor Fitness\"}},\"width\":500,\"height\":400},                        {\"responsive\": true}                    ).then(function(){\n",
              "                            \n",
              "var gd = document.getElementById('95acc23f-28eb-487b-9cc4-22f00614d7fe');\n",
              "var x = new MutationObserver(function (mutations, observer) {{\n",
              "        var display = window.getComputedStyle(gd).display;\n",
              "        if (!display || display === 'none') {{\n",
              "            console.log([gd, 'removed!']);\n",
              "            Plotly.purge(gd);\n",
              "            observer.disconnect();\n",
              "        }}\n",
              "}});\n",
              "\n",
              "// Listen for the removal of the full notebook cells\n",
              "var notebookContainer = gd.closest('#notebook-container');\n",
              "if (notebookContainer) {{\n",
              "    x.observe(notebookContainer, {childList: true});\n",
              "}}\n",
              "\n",
              "// Listen for the clearing of the current output cell\n",
              "var outputEl = gd.closest('.output');\n",
              "if (outputEl) {{\n",
              "    x.observe(outputEl, {childList: true});\n",
              "}}\n",
              "\n",
              "                        })                };                            </script>        </div>\n",
              "</body>\n",
              "</html>"
            ]
          },
          "metadata": {}
        },
        {
          "output_type": "stream",
          "name": "stdout",
          "text": [
            "\n",
            " \n",
            "\n",
            "Generación: 10,   Mejor Fitness: 9,   Individuo: [4, 2, 5, 5, 1, 4, 2, 2, 3, 2, 5, 2, 4, 5, 3, 3, 3, 1, 3, 4]\n",
            "Generación: 20,   Mejor Fitness: 7,   Individuo: [1, 2, 5, 1, 2, 5, 4, 2, 3, 2, 5, 2, 3, 4, 3, 3, 1, 3, 1, 4]\n",
            "Generación: 30,   Mejor Fitness: 10,   Individuo: [4, 2, 3, 5, 5, 4, 1, 3, 2, 5, 2, 2, 4, 5, 3, 5, 1, 3, 1, 4]\n",
            "Generación: 40,   Mejor Fitness: 9,   Individuo: [1, 2, 5, 5, 5, 2, 1, 4, 2, 1, 2, 2, 4, 5, 3, 3, 1, 3, 3, 4]\n",
            "Generación: 50,   Mejor Fitness: 6,   Individuo: [3, 2, 4, 5, 2, 4, 1, 5, 4, 2, 2, 2, 4, 5, 3, 1, 1, 3, 5, 3]\n",
            "Generación: 60,   Mejor Fitness: 6,   Individuo: [4, 2, 3, 5, 2, 4, 2, 5, 3, 2, 2, 5, 1, 5, 1, 1, 1, 1, 1, 4]\n",
            "Generación: 70,   Mejor Fitness: 2,   Individuo: [3, 2, 4, 5, 2, 4, 3, 5, 4, 2, 2, 2, 4, 5, 1, 1, 1, 4, 1, 3]\n",
            "Generación: 80,   Mejor Fitness: 2,   Individuo: [3, 2, 4, 5, 2, 4, 3, 5, 4, 2, 2, 2, 4, 5, 1, 1, 1, 4, 1, 3]\n",
            "Generación: 90,   Mejor Fitness: 2,   Individuo: [3, 2, 4, 5, 2, 4, 3, 5, 4, 2, 2, 2, 5, 5, 1, 1, 1, 4, 1, 3]\n",
            "Generación: 100,   Mejor Fitness: 2,   Individuo: [3, 2, 4, 5, 2, 4, 3, 5, 4, 2, 2, 2, 4, 5, 1, 1, 1, 4, 1, 3]\n",
            "Generación: 110,   Mejor Fitness: 2,   Individuo: [3, 2, 4, 5, 2, 4, 3, 5, 4, 2, 2, 5, 4, 5, 1, 1, 1, 4, 1, 3]\n",
            "Generación: 120,   Mejor Fitness: 2,   Individuo: [3, 2, 4, 5, 2, 4, 3, 5, 4, 2, 2, 2, 5, 5, 1, 1, 1, 4, 1, 3]\n",
            "Generación: 130,   Mejor Fitness: 2,   Individuo: [3, 2, 4, 5, 2, 4, 3, 5, 4, 2, 2, 5, 4, 5, 1, 1, 1, 4, 1, 3]\n",
            "Generación: 140,   Mejor Fitness: 2,   Individuo: [3, 2, 4, 5, 2, 4, 3, 5, 4, 2, 2, 2, 1, 5, 1, 1, 3, 4, 1, 3]\n",
            "Generación: 150,   Mejor Fitness: 2,   Individuo: [3, 2, 4, 5, 2, 4, 3, 5, 4, 2, 2, 2, 4, 5, 1, 1, 3, 4, 1, 3]\n",
            "Generación: 160,   Mejor Fitness: 2,   Individuo: [3, 2, 4, 5, 2, 4, 3, 5, 4, 2, 2, 2, 5, 5, 1, 1, 3, 4, 1, 3]\n",
            "Generación: 170,   Mejor Fitness: 2,   Individuo: [3, 2, 4, 5, 2, 4, 3, 5, 4, 2, 2, 2, 1, 5, 1, 1, 3, 4, 1, 3]\n",
            "Generación: 180,   Mejor Fitness: 2,   Individuo: [3, 2, 4, 5, 2, 4, 3, 5, 4, 2, 2, 2, 4, 5, 1, 1, 3, 4, 1, 3]\n",
            "Generación: 190,   Mejor Fitness: 2,   Individuo: [3, 2, 4, 5, 2, 4, 3, 5, 4, 2, 2, 2, 1, 5, 1, 1, 3, 4, 1, 3]\n",
            "Generación: 200,   Mejor Fitness: 2,   Individuo: [3, 2, 4, 5, 2, 4, 3, 5, 4, 2, 2, 2, 5, 5, 1, 1, 3, 4, 1, 3]\n",
            "Generación: 210,   Mejor Fitness: 2,   Individuo: [3, 2, 4, 5, 2, 4, 3, 5, 4, 2, 2, 5, 1, 5, 1, 1, 3, 4, 1, 3]\n",
            "Generación: 220,   Mejor Fitness: 2,   Individuo: [3, 2, 4, 5, 2, 4, 3, 5, 4, 2, 2, 5, 4, 5, 1, 1, 3, 4, 1, 3]\n",
            "Generación: 230,   Mejor Fitness: 2,   Individuo: [3, 2, 4, 5, 2, 4, 3, 5, 4, 2, 2, 2, 1, 5, 1, 1, 3, 1, 1, 3]\n",
            "Generación: 240,   Mejor Fitness: 2,   Individuo: [3, 2, 4, 5, 2, 4, 3, 5, 4, 2, 2, 2, 4, 5, 1, 1, 3, 4, 1, 3]\n",
            "Generación: 250,   Mejor Fitness: 2,   Individuo: [3, 2, 4, 5, 2, 4, 3, 5, 4, 2, 2, 2, 4, 5, 1, 1, 3, 1, 1, 3]\n",
            "Generación: 260,   Mejor Fitness: 2,   Individuo: [3, 2, 4, 5, 2, 4, 3, 5, 4, 2, 2, 2, 4, 5, 1, 1, 3, 4, 1, 3]\n",
            "Generación: 270,   Mejor Fitness: 2,   Individuo: [3, 2, 4, 5, 2, 4, 3, 5, 4, 2, 2, 5, 4, 5, 1, 1, 1, 4, 1, 3]\n",
            "Generación: 280,   Mejor Fitness: 2,   Individuo: [3, 2, 4, 5, 2, 4, 3, 5, 4, 2, 2, 2, 4, 5, 1, 1, 3, 4, 1, 3]\n",
            "Generación: 290,   Mejor Fitness: 2,   Individuo: [3, 2, 4, 5, 2, 4, 3, 5, 4, 2, 2, 2, 4, 5, 1, 1, 3, 4, 1, 3]\n",
            "Generación: 300,   Mejor Fitness: 2,   Individuo: [3, 2, 4, 5, 2, 4, 3, 5, 4, 2, 2, 2, 4, 5, 1, 1, 3, 4, 1, 3]\n",
            "Generación: 310,   Mejor Fitness: 2,   Individuo: [3, 2, 4, 5, 2, 4, 3, 5, 4, 2, 2, 2, 4, 5, 1, 1, 3, 4, 1, 3]\n",
            "Generación: 320,   Mejor Fitness: 2,   Individuo: [3, 2, 4, 5, 2, 4, 3, 5, 4, 2, 2, 2, 4, 5, 1, 1, 3, 4, 1, 3]\n",
            "Generación: 330,   Mejor Fitness: 2,   Individuo: [3, 2, 4, 5, 2, 4, 3, 5, 4, 2, 2, 2, 4, 5, 1, 1, 3, 4, 1, 3]\n",
            "Generación: 340,   Mejor Fitness: 2,   Individuo: [3, 2, 4, 5, 2, 4, 3, 5, 4, 2, 2, 2, 4, 5, 1, 1, 3, 4, 1, 3]\n",
            "Generación: 350,   Mejor Fitness: 2,   Individuo: [3, 2, 4, 5, 2, 4, 3, 5, 4, 2, 2, 2, 5, 5, 1, 1, 3, 4, 1, 3]\n",
            "Generación: 360,   Mejor Fitness: 2,   Individuo: [3, 2, 4, 5, 2, 4, 3, 5, 4, 2, 2, 5, 4, 5, 1, 1, 3, 1, 1, 3]\n",
            "Generación: 370,   Mejor Fitness: 2,   Individuo: [3, 2, 4, 5, 2, 4, 3, 5, 4, 2, 2, 2, 4, 5, 1, 1, 3, 4, 1, 3]\n",
            "Generación: 380,   Mejor Fitness: 2,   Individuo: [3, 2, 4, 5, 2, 4, 3, 5, 4, 2, 2, 2, 4, 5, 1, 1, 3, 4, 1, 3]\n",
            "Generación: 390,   Mejor Fitness: 2,   Individuo: [3, 2, 4, 5, 2, 4, 3, 5, 4, 2, 2, 2, 1, 5, 1, 1, 3, 4, 1, 3]\n",
            "Generación: 400,   Mejor Fitness: 2,   Individuo: [3, 2, 4, 5, 2, 4, 3, 5, 4, 2, 2, 2, 4, 5, 1, 1, 3, 4, 1, 3]\n",
            "Generación: 410,   Mejor Fitness: 2,   Individuo: [3, 2, 4, 5, 2, 4, 3, 5, 4, 2, 2, 2, 4, 5, 1, 1, 3, 4, 1, 3]\n",
            "Generación: 420,   Mejor Fitness: 2,   Individuo: [3, 2, 4, 5, 2, 4, 3, 5, 4, 2, 2, 2, 4, 5, 1, 1, 3, 4, 1, 3]\n",
            "Generación: 430,   Mejor Fitness: 2,   Individuo: [3, 2, 4, 5, 2, 4, 3, 5, 4, 2, 2, 2, 5, 5, 1, 1, 3, 4, 1, 3]\n",
            "Generación: 440,   Mejor Fitness: 2,   Individuo: [3, 2, 4, 5, 2, 4, 3, 5, 4, 2, 2, 2, 5, 5, 1, 1, 3, 4, 1, 3]\n",
            "Generación: 450,   Mejor Fitness: 2,   Individuo: [3, 2, 4, 5, 2, 4, 3, 5, 4, 2, 2, 2, 4, 5, 1, 1, 3, 4, 1, 3]\n",
            "Generación: 460,   Mejor Fitness: 2,   Individuo: [3, 2, 4, 5, 2, 4, 3, 5, 4, 2, 2, 2, 5, 5, 1, 1, 3, 4, 1, 3]\n",
            "Generación: 470,   Mejor Fitness: 2,   Individuo: [3, 2, 4, 5, 2, 4, 3, 5, 4, 2, 2, 2, 5, 5, 1, 1, 3, 4, 1, 3]\n",
            "Generación: 480,   Mejor Fitness: 2,   Individuo: [3, 2, 4, 5, 2, 4, 3, 5, 4, 2, 2, 2, 4, 5, 1, 1, 3, 4, 1, 3]\n",
            "Generación: 490,   Mejor Fitness: 2,   Individuo: [3, 2, 4, 5, 2, 4, 3, 5, 4, 2, 2, 2, 1, 5, 1, 1, 3, 4, 1, 3]\n",
            "Generación: 500,   Mejor Fitness: 2,   Individuo: [3, 2, 4, 5, 2, 4, 3, 5, 4, 2, 2, 2, 1, 5, 1, 1, 3, 4, 1, 3]\n",
            "Generación: 510,   Mejor Fitness: 2,   Individuo: [3, 2, 4, 5, 2, 4, 3, 5, 4, 2, 2, 2, 1, 5, 1, 1, 3, 4, 1, 3]\n",
            "Generación: 520,   Mejor Fitness: 2,   Individuo: [3, 2, 4, 5, 2, 4, 3, 5, 4, 2, 2, 5, 1, 5, 1, 1, 3, 4, 1, 3]\n",
            "Generación: 530,   Mejor Fitness: 2,   Individuo: [3, 2, 4, 5, 2, 4, 3, 5, 4, 2, 2, 2, 1, 5, 1, 1, 3, 4, 1, 3]\n",
            "Generación: 540,   Mejor Fitness: 2,   Individuo: [3, 2, 4, 5, 2, 4, 3, 5, 4, 2, 2, 2, 1, 5, 1, 1, 3, 4, 1, 3]\n",
            "Generación: 550,   Mejor Fitness: 2,   Individuo: [3, 2, 4, 5, 2, 4, 3, 5, 4, 2, 2, 2, 1, 5, 1, 1, 3, 4, 1, 3]\n",
            "Generación: 560,   Mejor Fitness: 2,   Individuo: [3, 2, 4, 5, 2, 4, 3, 5, 4, 2, 2, 5, 1, 5, 1, 1, 3, 4, 1, 3]\n",
            "Generación: 570,   Mejor Fitness: 2,   Individuo: [3, 2, 4, 5, 2, 4, 3, 5, 4, 2, 2, 2, 1, 5, 1, 1, 3, 4, 1, 3]\n",
            "Generación: 580,   Mejor Fitness: 2,   Individuo: [3, 2, 4, 5, 2, 4, 3, 5, 4, 2, 2, 2, 1, 5, 1, 1, 3, 4, 1, 3]\n",
            "Generación: 590,   Mejor Fitness: 2,   Individuo: [3, 2, 4, 5, 2, 4, 3, 5, 4, 2, 2, 2, 1, 5, 1, 1, 3, 4, 1, 3]\n",
            "Generación: 600,   Mejor Fitness: 2,   Individuo: [3, 2, 4, 5, 2, 4, 3, 5, 4, 2, 2, 2, 1, 5, 1, 1, 3, 4, 1, 3]\n",
            "Generación: 610,   Mejor Fitness: 2,   Individuo: [3, 2, 4, 5, 2, 4, 3, 5, 4, 2, 2, 2, 1, 5, 1, 1, 3, 4, 1, 3]\n",
            "Generación: 620,   Mejor Fitness: 2,   Individuo: [3, 2, 4, 5, 2, 4, 3, 5, 4, 2, 2, 2, 1, 5, 1, 1, 3, 4, 1, 3]\n",
            "Generación: 630,   Mejor Fitness: 2,   Individuo: [3, 2, 4, 5, 2, 4, 3, 5, 4, 2, 2, 2, 1, 5, 1, 1, 3, 4, 1, 3]\n",
            "Generación: 640,   Mejor Fitness: 2,   Individuo: [3, 2, 4, 5, 2, 4, 3, 5, 4, 2, 2, 2, 1, 5, 1, 1, 3, 4, 1, 3]\n",
            "Generación: 650,   Mejor Fitness: 2,   Individuo: [3, 2, 4, 5, 2, 4, 3, 5, 4, 2, 2, 2, 1, 5, 1, 1, 3, 4, 1, 3]\n",
            "Generación: 660,   Mejor Fitness: 2,   Individuo: [3, 2, 4, 5, 2, 4, 3, 5, 4, 2, 2, 2, 1, 5, 1, 1, 3, 4, 1, 3]\n",
            "Generación: 670,   Mejor Fitness: 2,   Individuo: [3, 2, 4, 5, 2, 4, 3, 5, 4, 2, 2, 2, 1, 5, 1, 1, 3, 4, 1, 3]\n",
            "Generación: 680,   Mejor Fitness: 2,   Individuo: [3, 2, 4, 5, 2, 4, 3, 5, 4, 2, 2, 5, 1, 5, 1, 1, 3, 4, 1, 3]\n",
            "Generación: 690,   Mejor Fitness: 2,   Individuo: [3, 2, 4, 5, 2, 4, 3, 5, 4, 2, 2, 2, 5, 5, 1, 1, 3, 4, 1, 3]\n",
            "Generación: 700,   Mejor Fitness: 2,   Individuo: [3, 2, 4, 5, 2, 4, 3, 5, 4, 2, 2, 5, 1, 5, 1, 1, 3, 4, 1, 3]\n",
            "Generación: 710,   Mejor Fitness: 2,   Individuo: [3, 2, 4, 5, 2, 4, 3, 5, 4, 2, 2, 5, 1, 5, 1, 1, 3, 4, 1, 3]\n",
            "Generación: 720,   Mejor Fitness: 2,   Individuo: [3, 2, 4, 5, 2, 4, 3, 5, 4, 2, 2, 5, 1, 5, 1, 1, 3, 4, 1, 3]\n",
            "Generación: 730,   Mejor Fitness: 2,   Individuo: [3, 2, 4, 5, 2, 4, 3, 5, 4, 2, 2, 5, 1, 5, 1, 1, 3, 4, 1, 3]\n",
            "Generación: 740,   Mejor Fitness: 2,   Individuo: [3, 2, 4, 5, 2, 4, 3, 5, 4, 2, 2, 5, 1, 5, 1, 1, 3, 4, 1, 3]\n",
            "Generación: 750,   Mejor Fitness: 2,   Individuo: [3, 2, 4, 5, 2, 4, 3, 5, 4, 2, 2, 5, 1, 5, 1, 1, 3, 4, 1, 3]\n",
            "Generación: 760,   Mejor Fitness: 2,   Individuo: [3, 2, 4, 5, 2, 4, 3, 5, 4, 2, 2, 2, 1, 5, 1, 1, 3, 4, 1, 3]\n",
            "Generación: 770,   Mejor Fitness: 2,   Individuo: [3, 2, 4, 5, 2, 4, 3, 5, 4, 2, 2, 5, 1, 5, 1, 1, 3, 4, 1, 3]\n",
            "Generación: 780,   Mejor Fitness: 2,   Individuo: [3, 2, 4, 5, 2, 4, 3, 5, 4, 2, 2, 5, 1, 5, 1, 1, 3, 1, 1, 3]\n",
            "Generación: 790,   Mejor Fitness: 2,   Individuo: [3, 2, 4, 5, 2, 4, 3, 5, 4, 2, 2, 5, 1, 5, 1, 1, 3, 4, 1, 3]\n",
            "Generación: 800,   Mejor Fitness: 2,   Individuo: [3, 2, 4, 5, 2, 4, 3, 5, 4, 2, 2, 2, 1, 5, 1, 1, 3, 4, 1, 3]\n",
            "Generación: 810,   Mejor Fitness: 2,   Individuo: [3, 2, 4, 5, 2, 4, 3, 5, 4, 2, 2, 5, 1, 5, 1, 1, 3, 4, 1, 3]\n",
            "Generación: 820,   Mejor Fitness: 2,   Individuo: [3, 2, 4, 5, 2, 4, 3, 5, 4, 2, 2, 5, 1, 5, 1, 1, 3, 4, 1, 3]\n",
            "Generación: 830,   Mejor Fitness: 2,   Individuo: [3, 2, 4, 5, 2, 4, 3, 5, 4, 2, 2, 5, 1, 5, 1, 1, 3, 1, 1, 3]\n",
            "Generación: 840,   Mejor Fitness: 2,   Individuo: [3, 2, 4, 5, 2, 4, 3, 5, 4, 2, 2, 5, 1, 5, 1, 1, 3, 1, 1, 3]\n",
            "Generación: 850,   Mejor Fitness: 2,   Individuo: [3, 2, 4, 5, 2, 4, 3, 5, 4, 2, 2, 5, 4, 5, 1, 1, 3, 1, 1, 3]\n",
            "Generación: 860,   Mejor Fitness: 2,   Individuo: [3, 2, 4, 5, 2, 4, 3, 5, 4, 2, 2, 5, 4, 5, 1, 1, 3, 1, 1, 3]\n",
            "Generación: 870,   Mejor Fitness: 2,   Individuo: [3, 2, 4, 5, 2, 4, 3, 5, 4, 2, 2, 5, 4, 5, 1, 1, 3, 1, 1, 3]\n",
            "Generación: 880,   Mejor Fitness: 2,   Individuo: [3, 2, 4, 5, 2, 4, 3, 5, 4, 2, 2, 5, 1, 5, 1, 1, 3, 4, 1, 3]\n",
            "Generación: 890,   Mejor Fitness: 2,   Individuo: [3, 2, 4, 5, 2, 4, 3, 5, 4, 2, 2, 5, 1, 5, 1, 1, 3, 4, 1, 3]\n",
            "Generación: 900,   Mejor Fitness: 2,   Individuo: [3, 2, 4, 5, 2, 4, 3, 5, 4, 2, 2, 5, 4, 5, 1, 1, 1, 4, 1, 3]\n",
            "Generación: 910,   Mejor Fitness: 2,   Individuo: [3, 2, 4, 5, 2, 4, 3, 5, 4, 2, 2, 5, 1, 5, 1, 1, 3, 1, 1, 3]\n",
            "Generación: 920,   Mejor Fitness: 2,   Individuo: [3, 2, 4, 5, 2, 4, 3, 5, 4, 2, 2, 2, 1, 5, 1, 1, 3, 4, 1, 3]\n",
            "Generación: 930,   Mejor Fitness: 2,   Individuo: [3, 2, 4, 5, 2, 4, 3, 5, 4, 2, 2, 5, 1, 5, 1, 1, 3, 4, 1, 3]\n",
            "Generación: 940,   Mejor Fitness: 2,   Individuo: [3, 2, 4, 5, 2, 4, 3, 5, 4, 2, 2, 5, 1, 5, 1, 1, 3, 4, 1, 3]\n",
            "Generación: 950,   Mejor Fitness: 2,   Individuo: [3, 2, 4, 5, 2, 4, 3, 5, 4, 2, 2, 5, 4, 5, 1, 1, 3, 4, 1, 3]\n",
            "Generación: 960,   Mejor Fitness: 2,   Individuo: [3, 2, 4, 5, 2, 4, 3, 5, 4, 2, 2, 5, 1, 5, 1, 1, 3, 1, 1, 3]\n",
            "Generación: 970,   Mejor Fitness: 2,   Individuo: [3, 2, 4, 5, 2, 4, 3, 5, 4, 2, 2, 2, 1, 5, 1, 1, 3, 1, 1, 3]\n",
            "Generación: 980,   Mejor Fitness: 2,   Individuo: [3, 2, 4, 5, 2, 4, 3, 5, 4, 2, 2, 2, 1, 5, 1, 1, 3, 1, 1, 3]\n",
            "Generación: 990,   Mejor Fitness: 2,   Individuo: [3, 2, 4, 5, 2, 4, 3, 5, 4, 2, 2, 5, 1, 5, 1, 1, 3, 1, 1, 3]\n",
            "Generación: 1000,   Mejor Fitness: 2,   Individuo: [3, 2, 4, 5, 2, 4, 3, 5, 4, 2, 2, 2, 1, 5, 1, 1, 3, 1, 1, 3]\n",
            "Generación: 1010,   Mejor Fitness: 2,   Individuo: [3, 2, 4, 5, 2, 4, 3, 5, 4, 2, 2, 2, 1, 5, 1, 1, 3, 4, 1, 3]\n",
            "Generación: 1020,   Mejor Fitness: 2,   Individuo: [3, 2, 4, 5, 2, 4, 3, 5, 4, 2, 2, 5, 1, 5, 1, 1, 3, 4, 1, 3]\n",
            "Generación: 1030,   Mejor Fitness: 2,   Individuo: [3, 2, 4, 5, 2, 4, 3, 5, 4, 2, 2, 2, 1, 5, 1, 1, 3, 4, 1, 3]\n",
            "Generación: 1040,   Mejor Fitness: 2,   Individuo: [3, 2, 4, 5, 2, 4, 3, 5, 4, 2, 2, 2, 1, 5, 1, 1, 3, 4, 1, 3]\n",
            "Generación: 1050,   Mejor Fitness: 2,   Individuo: [3, 2, 4, 5, 2, 4, 3, 5, 4, 2, 2, 2, 1, 5, 1, 1, 3, 4, 1, 3]\n",
            "Generación: 1060,   Mejor Fitness: 2,   Individuo: [3, 2, 4, 5, 2, 4, 3, 5, 4, 2, 2, 2, 1, 5, 1, 1, 3, 1, 1, 3]\n",
            "Generación: 1070,   Mejor Fitness: 2,   Individuo: [3, 2, 4, 5, 2, 4, 3, 5, 4, 2, 2, 2, 4, 5, 1, 1, 3, 4, 1, 3]\n",
            "Generación: 1080,   Mejor Fitness: 2,   Individuo: [3, 2, 4, 5, 2, 4, 3, 5, 4, 2, 2, 2, 4, 5, 1, 1, 3, 4, 1, 3]\n",
            "Generación: 1090,   Mejor Fitness: 2,   Individuo: [3, 2, 4, 5, 2, 4, 3, 5, 4, 2, 2, 2, 1, 5, 1, 1, 3, 1, 1, 3]\n",
            "Generación: 1100,   Mejor Fitness: 2,   Individuo: [3, 2, 4, 5, 2, 4, 3, 5, 4, 2, 2, 2, 1, 5, 1, 1, 3, 4, 1, 3]\n",
            "Generación: 1110,   Mejor Fitness: 2,   Individuo: [3, 2, 4, 5, 2, 4, 3, 5, 4, 2, 2, 2, 1, 5, 1, 1, 3, 1, 1, 3]\n",
            "Generación: 1120,   Mejor Fitness: 2,   Individuo: [3, 2, 4, 5, 2, 4, 3, 5, 4, 2, 2, 2, 1, 5, 1, 1, 3, 4, 1, 3]\n",
            "Generación: 1130,   Mejor Fitness: 2,   Individuo: [3, 2, 4, 5, 2, 4, 3, 5, 4, 2, 2, 2, 1, 5, 1, 1, 3, 4, 1, 3]\n",
            "Generación: 1140,   Mejor Fitness: 2,   Individuo: [3, 2, 4, 5, 2, 4, 3, 5, 4, 2, 2, 2, 1, 5, 1, 1, 3, 1, 1, 3]\n",
            "Generación: 1150,   Mejor Fitness: 2,   Individuo: [3, 2, 4, 5, 2, 4, 3, 5, 4, 2, 2, 2, 5, 5, 1, 1, 3, 4, 1, 3]\n",
            "Generación: 1160,   Mejor Fitness: 2,   Individuo: [3, 2, 4, 5, 2, 4, 3, 5, 4, 2, 2, 2, 4, 5, 1, 1, 3, 1, 1, 3]\n",
            "Generación: 1170,   Mejor Fitness: 2,   Individuo: [3, 2, 4, 5, 2, 4, 3, 5, 4, 2, 2, 2, 5, 5, 1, 1, 3, 1, 1, 3]\n",
            "Generación: 1180,   Mejor Fitness: 2,   Individuo: [3, 2, 4, 5, 2, 4, 3, 5, 4, 2, 2, 2, 1, 5, 1, 1, 3, 1, 1, 3]\n",
            "Generación: 1190,   Mejor Fitness: 2,   Individuo: [3, 2, 4, 5, 2, 4, 3, 5, 4, 2, 2, 2, 4, 5, 1, 1, 3, 4, 1, 3]\n",
            "Generación: 1200,   Mejor Fitness: 2,   Individuo: [3, 2, 4, 5, 2, 4, 3, 5, 4, 2, 2, 2, 1, 5, 1, 1, 3, 4, 1, 3]\n",
            "Usando 5 colores\n",
            "Generación: 1200,   Mejor Fitness: 2,   Individuo: [3, 2, 4, 5, 2, 4, 3, 5, 4, 2, 2, 2, 1, 5, 1, 1, 3, 4, 1, 3]\n",
            "\n",
            "\n",
            "El número cromático de este grafo es 6\n"
          ]
        }
      ]
    },
    {
      "cell_type": "code",
      "source": [
        "# Colores finales\n",
        "final_colors = hall_Fame[-2]\n",
        "\n",
        "enunc_Mejor_Ind = 'El mejor individuo fue {} \\n por lo que se procede a asignar sus colores a los grafos'\n",
        "print(enunc_Mejor_Ind.format(final_colors))"
      ],
      "metadata": {
        "colab": {
          "base_uri": "https://localhost:8080/"
        },
        "id": "latPFQ5nmCIl",
        "outputId": "1d718fd7-b9ba-481c-87b1-51253710eb20"
      },
      "execution_count": 18,
      "outputs": [
        {
          "output_type": "stream",
          "name": "stdout",
          "text": [
            "El mejor individuo fue [6, 4, 1, 2, 4, 1, 6, 5, 1, 4, 4, 4, 1, 5, 3, 3, 2, 3, 3, 6] \n",
            " por lo que se procede a asignar sus colores a los grafos\n"
          ]
        }
      ]
    },
    {
      "cell_type": "code",
      "source": [
        "# Creación aleatoria de los colores\n",
        "col = []\n",
        "for ii in range(cromatic_num):\n",
        "  col.append('#{}{}{}'.format(random.randint(0,9), random.randint(0,9), random.randint(0,9)))\n",
        "\n",
        "\n",
        "colores = []\n",
        "for ii in range(len(final_colors)):\n",
        "  colores.append(col[final_colors[ii]-1])"
      ],
      "metadata": {
        "id": "DHeMmosYnO8N"
      },
      "execution_count": 19,
      "outputs": []
    },
    {
      "cell_type": "code",
      "source": [
        "node_trace = go.Scatter(\n",
        "    x=[],\n",
        "    y=[],\n",
        "    text=[],\n",
        "    mode='markers+text',\n",
        "    hoverinfo='text',\n",
        "    # Aquí va el color de los nodos\n",
        "    marker=dict(\n",
        "        showscale=False,\n",
        "        reversescale=False,\n",
        "        color=colores,\n",
        "        size=37,\n",
        "        colorbar=dict(\n",
        "            thickness=1,\n",
        "            title='Node Connections',\n",
        "            xanchor='left',\n",
        "            titleside='right'\n",
        "        ),\n",
        "        line=dict(width=0)))\n",
        "for node in G.nodes():\n",
        "    x, y = G.nodes[node]['pos']\n",
        "    node_trace['x'] += tuple([x])\n",
        "    node_trace['y'] += tuple([y])\n",
        "\n",
        "for node, adjacencies in enumerate(G.adjacency()):\n",
        "    node_trace['marker']['color'] += tuple([len(adjacencies[1])])\n",
        "    node_info = adjacencies[0]\n",
        "    node_trace['text'] += tuple([node_info])"
      ],
      "metadata": {
        "id": "CY6u27lNnny3"
      },
      "execution_count": 20,
      "outputs": []
    },
    {
      "cell_type": "code",
      "source": [
        "# Graficamos finalmente el grafo con el mínimo de colores posible\n",
        "title = \"Grafo coloreado con el mínimo posible: {} colores ({} nodos)\".format(cromatic_num,n)\n",
        "fig = go.Figure(data=[edge_trace, node_trace],\n",
        "            layout=go.Layout(\n",
        "            title=title, width=700, height=600,\n",
        "            titlefont=dict(size=16),\n",
        "            showlegend=False,\n",
        "            hovermode='closest',\n",
        "            margin=dict(b=21, l=5, r=5, t=40),\n",
        "            xaxis=dict(showgrid=False, zeroline=False,\n",
        "                       showticklabels=False, mirror=True),\n",
        "            yaxis=dict(showgrid=False, zeroline=False,\n",
        "showticklabels=False, mirror=True)))\n",
        "fig.show()"
      ],
      "metadata": {
        "colab": {
          "base_uri": "https://localhost:8080/",
          "height": 617
        },
        "id": "Qqbd4sbYsZVh",
        "outputId": "4b227ba1-e1d0-453d-8d9a-bc33629d7e4f"
      },
      "execution_count": 21,
      "outputs": [
        {
          "output_type": "display_data",
          "data": {
            "text/html": [
              "<html>\n",
              "<head><meta charset=\"utf-8\" /></head>\n",
              "<body>\n",
              "    <div>            <script src=\"https://cdnjs.cloudflare.com/ajax/libs/mathjax/2.7.5/MathJax.js?config=TeX-AMS-MML_SVG\"></script><script type=\"text/javascript\">if (window.MathJax) {MathJax.Hub.Config({SVG: {font: \"STIX-Web\"}});}</script>                <script type=\"text/javascript\">window.PlotlyConfig = {MathJaxConfig: 'local'};</script>\n",
              "        <script src=\"https://cdn.plot.ly/plotly-2.8.3.min.js\"></script>                <div id=\"ba48b4ae-e946-4c56-b83d-ba0031e0dcdd\" class=\"plotly-graph-div\" style=\"height:600px; width:700px;\"></div>            <script type=\"text/javascript\">                                    window.PLOTLYENV=window.PLOTLYENV || {};                                    if (document.getElementById(\"ba48b4ae-e946-4c56-b83d-ba0031e0dcdd\")) {                    Plotly.newPlot(                        \"ba48b4ae-e946-4c56-b83d-ba0031e0dcdd\",                        [{\"hoverinfo\":\"none\",\"line\":{\"color\":\"#888\",\"width\":0.5},\"mode\":\"lines\",\"x\":[0.9999999882774899,0.9510565289413768,null,0.9999999882774899,0.8090169934023742,null,0.9999999882774899,0.587785237752862,null,0.9999999882774899,0.30901697025596997,null,0.9999999882774899,-0.5877852345742114,null,0.9999999882774899,-0.8090169902237235,null,0.9999999882774899,-0.9510564661580821,null,0.9999999882774899,-0.9999999850988393,null,0.9999999882774899,-0.5877850557602794,null,0.9999999882774899,-0.3090171160889292,null,0.9999999882774899,1.3514205841015913e-08,null,0.9999999882774899,0.5877850589389301,null,0.9510565289413768,0.8090169934023742,null,0.9510565289413768,0.587785237752862,null,0.9510565289413768,-0.5877852345742114,null,0.9510565289413768,-0.8090169306190795,null,0.9510565289413768,-0.3090171160889292,null,0.9510565289413768,1.3514205841015913e-08,null,0.9510565289413768,0.3090171192675799,null,0.9510565289413768,0.5877850589389301,null,0.9510565289413768,0.8090169337977302,null,0.8090169934023742,0.587785237752862,null,0.8090169934023742,0.30901697025596997,null,0.8090169934023742,-0.9510564661580821,null,0.8090169934023742,-0.9510565257627261,null,0.8090169934023742,-0.5877850557602794,null,0.8090169934023742,-0.3090171160889292,null,0.8090169934023742,1.3514205841015913e-08,null,0.8090169934023742,0.3090171192675799,null,0.8090169934023742,0.8090169337977302,null,0.8090169934023742,0.9510565289413768,null,0.587785237752862,-4.212206234360422e-08,null,0.587785237752862,-0.3090170266819632,null,0.587785237752862,-0.5877852345742114,null,0.587785237752862,-0.8090169902237235,null,0.587785237752862,-0.9510564661580821,null,0.587785237752862,-0.9999999850988393,null,0.587785237752862,-0.3090171160889292,null,0.587785237752862,1.3514205841015913e-08,null,0.587785237752862,0.5877850589389301,null,0.587785237752862,0.8090169337977302,null,0.30901697025596997,-4.212206234360422e-08,null,0.30901697025596997,-0.3090170266819632,null,0.30901697025596997,-0.5877852345742114,null,0.30901697025596997,-0.8090169902237235,null,0.30901697025596997,-0.8090169306190795,null,0.30901697025596997,-0.5877850557602794,null,0.30901697025596997,-0.3090171160889292,null,0.30901697025596997,0.3090171192675799,null,0.30901697025596997,0.8090169337977302,null,0.30901697025596997,0.9510565289413768,null,-4.212206234360422e-08,-0.3090170266819632,null,-4.212206234360422e-08,-0.9510564661580821,null,-4.212206234360422e-08,-0.9999999850988393,null,-4.212206234360422e-08,-0.9510565257627261,null,-4.212206234360422e-08,-0.3090171160889292,null,-4.212206234360422e-08,1.3514205841015913e-08,null,-4.212206234360422e-08,0.3090171192675799,null,-4.212206234360422e-08,0.9510565289413768,null,-0.3090170266819632,-0.8090169902237235,null,-0.3090170266819632,-0.8090169306190795,null,-0.3090170266819632,-0.3090171160889292,null,-0.3090170266819632,1.3514205841015913e-08,null,-0.3090170266819632,0.5877850589389301,null,-0.3090170266819632,0.8090169337977302,null,-0.5877852345742114,-0.8090169902237235,null,-0.5877852345742114,-0.9510564661580821,null,-0.5877852345742114,-0.9999999850988393,null,-0.5877852345742114,-0.3090171160889292,null,-0.5877852345742114,1.3514205841015913e-08,null,-0.5877852345742114,0.3090171192675799,null,-0.5877852345742114,0.5877850589389301,null,-0.5877852345742114,0.8090169337977302,null,-0.5877852345742114,0.9510565289413768,null,-0.8090169902237235,-0.9510564661580821,null,-0.8090169902237235,-0.5877850557602794,null,-0.8090169902237235,0.3090171192675799,null,-0.8090169902237235,0.8090169337977302,null,-0.8090169902237235,0.9510565289413768,null,-0.9510564661580821,-0.8090169306190795,null,-0.9510564661580821,-0.5877850557602794,null,-0.9510564661580821,0.3090171192675799,null,-0.9510564661580821,0.8090169337977302,null,-0.9999999850988393,-0.8090169306190795,null,-0.9999999850988393,-0.3090171160889292,null,-0.9999999850988393,1.3514205841015913e-08,null,-0.9999999850988393,0.3090171192675799,null,-0.9999999850988393,0.5877850589389301,null,-0.9999999850988393,0.9510565289413768,null,-0.9510565257627261,-0.8090169306190795,null,-0.9510565257627261,0.5877850589389301,null,-0.9510565257627261,0.8090169337977302,null,-0.9510565257627261,0.9510565289413768,null,-0.8090169306190795,0.3090171192675799,null,-0.5877850557602794,-0.3090171160889292,null,-0.5877850557602794,1.3514205841015913e-08,null,-0.5877850557602794,0.3090171192675799,null,-0.5877850557602794,0.5877850589389301,null,-0.5877850557602794,0.9510565289413768,null,-0.3090171160889292,0.3090171192675799,null,1.3514205841015913e-08,0.9510565289413768,null,0.3090171192675799,0.5877850589389301,null,0.3090171192675799,0.9510565289413768,null,0.8090169337977302,0.9510565289413768,null],\"y\":[1.3311835367777423e-08,0.30901701178080193,null,1.3311835367777423e-08,0.587785249475372,null,1.3311835367777423e-08,0.8090170051248842,null,1.3311835367777423e-08,0.9510565406638868,null,1.3311835367777423e-08,0.8090170051248842,null,1.3311835367777423e-08,0.587785249475372,null,1.3311835367777423e-08,0.30901704158312393,null,1.3311835367777423e-08,-7.411094004194081e-08,null,1.3311835367777423e-08,-0.8090170977105015,null,1.3311835367777423e-08,-0.9510564544355722,null,1.3311835367777423e-08,-0.9999999733763293,null,1.3311835367777423e-08,-0.8090170977105015,null,0.30901701178080193,0.587785249475372,null,0.30901701178080193,0.8090170051248842,null,0.30901701178080193,0.8090170051248842,null,0.30901701178080193,-0.5877852824563453,null,0.30901701178080193,-0.9510564544355722,null,0.30901701178080193,-0.9999999733763293,null,0.30901701178080193,-0.9510564544355722,null,0.30901701178080193,-0.8090170977105015,null,0.30901701178080193,-0.5877852824563453,null,0.587785249475372,0.8090170051248842,null,0.587785249475372,0.9510565406638868,null,0.587785249475372,0.30901704158312393,null,0.587785249475372,-0.3090169553548092,null,0.587785249475372,-0.8090170977105015,null,0.587785249475372,-0.9510564544355722,null,0.587785249475372,-0.9999999733763293,null,0.587785249475372,-0.9510564544355722,null,0.587785249475372,-0.5877852824563453,null,0.587785249475372,-0.3090169255524872,null,0.8090170051248842,1.0,null,0.8090170051248842,0.9510564810592429,null,0.8090170051248842,0.8090170051248842,null,0.8090170051248842,0.587785249475372,null,0.8090170051248842,0.30901704158312393,null,0.8090170051248842,-7.411094004194081e-08,null,0.8090170051248842,-0.9510564544355722,null,0.8090170051248842,-0.9999999733763293,null,0.8090170051248842,-0.8090170977105015,null,0.8090170051248842,-0.5877852824563453,null,0.9510565406638868,1.0,null,0.9510565406638868,0.9510564810592429,null,0.9510565406638868,0.8090170051248842,null,0.9510565406638868,0.587785249475372,null,0.9510565406638868,-0.5877852824563453,null,0.9510565406638868,-0.8090170977105015,null,0.9510565406638868,-0.9510564544355722,null,0.9510565406638868,-0.9510564544355722,null,0.9510565406638868,-0.5877852824563453,null,0.9510565406638868,-0.3090169255524872,null,1.0,0.9510564810592429,null,1.0,0.30901704158312393,null,1.0,-7.411094004194081e-08,null,1.0,-0.3090169553548092,null,1.0,-0.9510564544355722,null,1.0,-0.9999999733763293,null,1.0,-0.9510564544355722,null,1.0,-0.3090169255524872,null,0.9510564810592429,0.587785249475372,null,0.9510564810592429,-0.5877852824563453,null,0.9510564810592429,-0.9510564544355722,null,0.9510564810592429,-0.9999999733763293,null,0.9510564810592429,-0.8090170977105015,null,0.9510564810592429,-0.5877852824563453,null,0.8090170051248842,0.587785249475372,null,0.8090170051248842,0.30901704158312393,null,0.8090170051248842,-7.411094004194081e-08,null,0.8090170051248842,-0.9510564544355722,null,0.8090170051248842,-0.9999999733763293,null,0.8090170051248842,-0.9510564544355722,null,0.8090170051248842,-0.8090170977105015,null,0.8090170051248842,-0.5877852824563453,null,0.8090170051248842,-0.3090169255524872,null,0.587785249475372,0.30901704158312393,null,0.587785249475372,-0.8090170977105015,null,0.587785249475372,-0.9510564544355722,null,0.587785249475372,-0.5877852824563453,null,0.587785249475372,-0.3090169255524872,null,0.30901704158312393,-0.5877852824563453,null,0.30901704158312393,-0.8090170977105015,null,0.30901704158312393,-0.9510564544355722,null,0.30901704158312393,-0.5877852824563453,null,-7.411094004194081e-08,-0.5877852824563453,null,-7.411094004194081e-08,-0.9510564544355722,null,-7.411094004194081e-08,-0.9999999733763293,null,-7.411094004194081e-08,-0.9510564544355722,null,-7.411094004194081e-08,-0.8090170977105015,null,-7.411094004194081e-08,-0.3090169255524872,null,-0.3090169553548092,-0.5877852824563453,null,-0.3090169553548092,-0.8090170977105015,null,-0.3090169553548092,-0.5877852824563453,null,-0.3090169553548092,-0.3090169255524872,null,-0.5877852824563453,-0.9510564544355722,null,-0.8090170977105015,-0.9510564544355722,null,-0.8090170977105015,-0.9999999733763293,null,-0.8090170977105015,-0.9510564544355722,null,-0.8090170977105015,-0.8090170977105015,null,-0.8090170977105015,-0.3090169255524872,null,-0.9510564544355722,-0.9510564544355722,null,-0.9999999733763293,-0.3090169255524872,null,-0.9510564544355722,-0.8090170977105015,null,-0.9510564544355722,-0.3090169255524872,null,-0.5877852824563453,-0.3090169255524872,null],\"type\":\"scatter\"},{\"hoverinfo\":\"text\",\"marker\":{\"color\":[\"#158\",\"#414\",\"#908\",\"#762\",\"#414\",\"#908\",\"#158\",\"#909\",\"#908\",\"#414\",\"#414\",\"#414\",\"#908\",\"#909\",\"#721\",\"#721\",\"#762\",\"#721\",\"#721\",\"#158\",12,10,12,13,12,10,9,13,10,10,10,6,7,10,11,10,13,9,10,11],\"colorbar\":{\"thickness\":1,\"title\":{\"side\":\"right\",\"text\":\"Node Connections\"},\"xanchor\":\"left\"},\"line\":{\"width\":0},\"reversescale\":false,\"showscale\":false,\"size\":37},\"mode\":\"markers+text\",\"text\":[\"0\",\"1\",\"2\",\"3\",\"4\",\"5\",\"6\",\"7\",\"8\",\"9\",\"10\",\"11\",\"12\",\"13\",\"14\",\"15\",\"16\",\"17\",\"18\",\"19\"],\"x\":[0.9999999882774899,0.9510565289413768,0.8090169934023742,0.587785237752862,0.30901697025596997,-4.212206234360422e-08,-0.3090170266819632,-0.5877852345742114,-0.8090169902237235,-0.9510564661580821,-0.9999999850988393,-0.9510565257627261,-0.8090169306190795,-0.5877850557602794,-0.3090171160889292,1.3514205841015913e-08,0.3090171192675799,0.5877850589389301,0.8090169337977302,0.9510565289413768],\"y\":[1.3311835367777423e-08,0.30901701178080193,0.587785249475372,0.8090170051248842,0.9510565406638868,1.0,0.9510564810592429,0.8090170051248842,0.587785249475372,0.30901704158312393,-7.411094004194081e-08,-0.3090169553548092,-0.5877852824563453,-0.8090170977105015,-0.9510564544355722,-0.9999999733763293,-0.9510564544355722,-0.8090170977105015,-0.5877852824563453,-0.3090169255524872],\"type\":\"scatter\"}],                        {\"height\":600,\"hovermode\":\"closest\",\"margin\":{\"b\":21,\"l\":5,\"r\":5,\"t\":40},\"showlegend\":false,\"title\":{\"font\":{\"size\":16},\"text\":\"Grafo coloreado con el m\\u00ednimo posible: 6 colores (20 nodos)\"},\"width\":700,\"xaxis\":{\"mirror\":true,\"showgrid\":false,\"showticklabels\":false,\"zeroline\":false},\"yaxis\":{\"mirror\":true,\"showgrid\":false,\"showticklabels\":false,\"zeroline\":false},\"template\":{\"data\":{\"bar\":[{\"error_x\":{\"color\":\"#2a3f5f\"},\"error_y\":{\"color\":\"#2a3f5f\"},\"marker\":{\"line\":{\"color\":\"#E5ECF6\",\"width\":0.5},\"pattern\":{\"fillmode\":\"overlay\",\"size\":10,\"solidity\":0.2}},\"type\":\"bar\"}],\"barpolar\":[{\"marker\":{\"line\":{\"color\":\"#E5ECF6\",\"width\":0.5},\"pattern\":{\"fillmode\":\"overlay\",\"size\":10,\"solidity\":0.2}},\"type\":\"barpolar\"}],\"carpet\":[{\"aaxis\":{\"endlinecolor\":\"#2a3f5f\",\"gridcolor\":\"white\",\"linecolor\":\"white\",\"minorgridcolor\":\"white\",\"startlinecolor\":\"#2a3f5f\"},\"baxis\":{\"endlinecolor\":\"#2a3f5f\",\"gridcolor\":\"white\",\"linecolor\":\"white\",\"minorgridcolor\":\"white\",\"startlinecolor\":\"#2a3f5f\"},\"type\":\"carpet\"}],\"choropleth\":[{\"colorbar\":{\"outlinewidth\":0,\"ticks\":\"\"},\"type\":\"choropleth\"}],\"contour\":[{\"colorbar\":{\"outlinewidth\":0,\"ticks\":\"\"},\"colorscale\":[[0.0,\"#0d0887\"],[0.1111111111111111,\"#46039f\"],[0.2222222222222222,\"#7201a8\"],[0.3333333333333333,\"#9c179e\"],[0.4444444444444444,\"#bd3786\"],[0.5555555555555556,\"#d8576b\"],[0.6666666666666666,\"#ed7953\"],[0.7777777777777778,\"#fb9f3a\"],[0.8888888888888888,\"#fdca26\"],[1.0,\"#f0f921\"]],\"type\":\"contour\"}],\"contourcarpet\":[{\"colorbar\":{\"outlinewidth\":0,\"ticks\":\"\"},\"type\":\"contourcarpet\"}],\"heatmap\":[{\"colorbar\":{\"outlinewidth\":0,\"ticks\":\"\"},\"colorscale\":[[0.0,\"#0d0887\"],[0.1111111111111111,\"#46039f\"],[0.2222222222222222,\"#7201a8\"],[0.3333333333333333,\"#9c179e\"],[0.4444444444444444,\"#bd3786\"],[0.5555555555555556,\"#d8576b\"],[0.6666666666666666,\"#ed7953\"],[0.7777777777777778,\"#fb9f3a\"],[0.8888888888888888,\"#fdca26\"],[1.0,\"#f0f921\"]],\"type\":\"heatmap\"}],\"heatmapgl\":[{\"colorbar\":{\"outlinewidth\":0,\"ticks\":\"\"},\"colorscale\":[[0.0,\"#0d0887\"],[0.1111111111111111,\"#46039f\"],[0.2222222222222222,\"#7201a8\"],[0.3333333333333333,\"#9c179e\"],[0.4444444444444444,\"#bd3786\"],[0.5555555555555556,\"#d8576b\"],[0.6666666666666666,\"#ed7953\"],[0.7777777777777778,\"#fb9f3a\"],[0.8888888888888888,\"#fdca26\"],[1.0,\"#f0f921\"]],\"type\":\"heatmapgl\"}],\"histogram\":[{\"marker\":{\"pattern\":{\"fillmode\":\"overlay\",\"size\":10,\"solidity\":0.2}},\"type\":\"histogram\"}],\"histogram2d\":[{\"colorbar\":{\"outlinewidth\":0,\"ticks\":\"\"},\"colorscale\":[[0.0,\"#0d0887\"],[0.1111111111111111,\"#46039f\"],[0.2222222222222222,\"#7201a8\"],[0.3333333333333333,\"#9c179e\"],[0.4444444444444444,\"#bd3786\"],[0.5555555555555556,\"#d8576b\"],[0.6666666666666666,\"#ed7953\"],[0.7777777777777778,\"#fb9f3a\"],[0.8888888888888888,\"#fdca26\"],[1.0,\"#f0f921\"]],\"type\":\"histogram2d\"}],\"histogram2dcontour\":[{\"colorbar\":{\"outlinewidth\":0,\"ticks\":\"\"},\"colorscale\":[[0.0,\"#0d0887\"],[0.1111111111111111,\"#46039f\"],[0.2222222222222222,\"#7201a8\"],[0.3333333333333333,\"#9c179e\"],[0.4444444444444444,\"#bd3786\"],[0.5555555555555556,\"#d8576b\"],[0.6666666666666666,\"#ed7953\"],[0.7777777777777778,\"#fb9f3a\"],[0.8888888888888888,\"#fdca26\"],[1.0,\"#f0f921\"]],\"type\":\"histogram2dcontour\"}],\"mesh3d\":[{\"colorbar\":{\"outlinewidth\":0,\"ticks\":\"\"},\"type\":\"mesh3d\"}],\"parcoords\":[{\"line\":{\"colorbar\":{\"outlinewidth\":0,\"ticks\":\"\"}},\"type\":\"parcoords\"}],\"pie\":[{\"automargin\":true,\"type\":\"pie\"}],\"scatter\":[{\"marker\":{\"colorbar\":{\"outlinewidth\":0,\"ticks\":\"\"}},\"type\":\"scatter\"}],\"scatter3d\":[{\"line\":{\"colorbar\":{\"outlinewidth\":0,\"ticks\":\"\"}},\"marker\":{\"colorbar\":{\"outlinewidth\":0,\"ticks\":\"\"}},\"type\":\"scatter3d\"}],\"scattercarpet\":[{\"marker\":{\"colorbar\":{\"outlinewidth\":0,\"ticks\":\"\"}},\"type\":\"scattercarpet\"}],\"scattergeo\":[{\"marker\":{\"colorbar\":{\"outlinewidth\":0,\"ticks\":\"\"}},\"type\":\"scattergeo\"}],\"scattergl\":[{\"marker\":{\"colorbar\":{\"outlinewidth\":0,\"ticks\":\"\"}},\"type\":\"scattergl\"}],\"scattermapbox\":[{\"marker\":{\"colorbar\":{\"outlinewidth\":0,\"ticks\":\"\"}},\"type\":\"scattermapbox\"}],\"scatterpolar\":[{\"marker\":{\"colorbar\":{\"outlinewidth\":0,\"ticks\":\"\"}},\"type\":\"scatterpolar\"}],\"scatterpolargl\":[{\"marker\":{\"colorbar\":{\"outlinewidth\":0,\"ticks\":\"\"}},\"type\":\"scatterpolargl\"}],\"scatterternary\":[{\"marker\":{\"colorbar\":{\"outlinewidth\":0,\"ticks\":\"\"}},\"type\":\"scatterternary\"}],\"surface\":[{\"colorbar\":{\"outlinewidth\":0,\"ticks\":\"\"},\"colorscale\":[[0.0,\"#0d0887\"],[0.1111111111111111,\"#46039f\"],[0.2222222222222222,\"#7201a8\"],[0.3333333333333333,\"#9c179e\"],[0.4444444444444444,\"#bd3786\"],[0.5555555555555556,\"#d8576b\"],[0.6666666666666666,\"#ed7953\"],[0.7777777777777778,\"#fb9f3a\"],[0.8888888888888888,\"#fdca26\"],[1.0,\"#f0f921\"]],\"type\":\"surface\"}],\"table\":[{\"cells\":{\"fill\":{\"color\":\"#EBF0F8\"},\"line\":{\"color\":\"white\"}},\"header\":{\"fill\":{\"color\":\"#C8D4E3\"},\"line\":{\"color\":\"white\"}},\"type\":\"table\"}]},\"layout\":{\"annotationdefaults\":{\"arrowcolor\":\"#2a3f5f\",\"arrowhead\":0,\"arrowwidth\":1},\"autotypenumbers\":\"strict\",\"coloraxis\":{\"colorbar\":{\"outlinewidth\":0,\"ticks\":\"\"}},\"colorscale\":{\"diverging\":[[0,\"#8e0152\"],[0.1,\"#c51b7d\"],[0.2,\"#de77ae\"],[0.3,\"#f1b6da\"],[0.4,\"#fde0ef\"],[0.5,\"#f7f7f7\"],[0.6,\"#e6f5d0\"],[0.7,\"#b8e186\"],[0.8,\"#7fbc41\"],[0.9,\"#4d9221\"],[1,\"#276419\"]],\"sequential\":[[0.0,\"#0d0887\"],[0.1111111111111111,\"#46039f\"],[0.2222222222222222,\"#7201a8\"],[0.3333333333333333,\"#9c179e\"],[0.4444444444444444,\"#bd3786\"],[0.5555555555555556,\"#d8576b\"],[0.6666666666666666,\"#ed7953\"],[0.7777777777777778,\"#fb9f3a\"],[0.8888888888888888,\"#fdca26\"],[1.0,\"#f0f921\"]],\"sequentialminus\":[[0.0,\"#0d0887\"],[0.1111111111111111,\"#46039f\"],[0.2222222222222222,\"#7201a8\"],[0.3333333333333333,\"#9c179e\"],[0.4444444444444444,\"#bd3786\"],[0.5555555555555556,\"#d8576b\"],[0.6666666666666666,\"#ed7953\"],[0.7777777777777778,\"#fb9f3a\"],[0.8888888888888888,\"#fdca26\"],[1.0,\"#f0f921\"]]},\"colorway\":[\"#636efa\",\"#EF553B\",\"#00cc96\",\"#ab63fa\",\"#FFA15A\",\"#19d3f3\",\"#FF6692\",\"#B6E880\",\"#FF97FF\",\"#FECB52\"],\"font\":{\"color\":\"#2a3f5f\"},\"geo\":{\"bgcolor\":\"white\",\"lakecolor\":\"white\",\"landcolor\":\"#E5ECF6\",\"showlakes\":true,\"showland\":true,\"subunitcolor\":\"white\"},\"hoverlabel\":{\"align\":\"left\"},\"hovermode\":\"closest\",\"mapbox\":{\"style\":\"light\"},\"paper_bgcolor\":\"white\",\"plot_bgcolor\":\"#E5ECF6\",\"polar\":{\"angularaxis\":{\"gridcolor\":\"white\",\"linecolor\":\"white\",\"ticks\":\"\"},\"bgcolor\":\"#E5ECF6\",\"radialaxis\":{\"gridcolor\":\"white\",\"linecolor\":\"white\",\"ticks\":\"\"}},\"scene\":{\"xaxis\":{\"backgroundcolor\":\"#E5ECF6\",\"gridcolor\":\"white\",\"gridwidth\":2,\"linecolor\":\"white\",\"showbackground\":true,\"ticks\":\"\",\"zerolinecolor\":\"white\"},\"yaxis\":{\"backgroundcolor\":\"#E5ECF6\",\"gridcolor\":\"white\",\"gridwidth\":2,\"linecolor\":\"white\",\"showbackground\":true,\"ticks\":\"\",\"zerolinecolor\":\"white\"},\"zaxis\":{\"backgroundcolor\":\"#E5ECF6\",\"gridcolor\":\"white\",\"gridwidth\":2,\"linecolor\":\"white\",\"showbackground\":true,\"ticks\":\"\",\"zerolinecolor\":\"white\"}},\"shapedefaults\":{\"line\":{\"color\":\"#2a3f5f\"}},\"ternary\":{\"aaxis\":{\"gridcolor\":\"white\",\"linecolor\":\"white\",\"ticks\":\"\"},\"baxis\":{\"gridcolor\":\"white\",\"linecolor\":\"white\",\"ticks\":\"\"},\"bgcolor\":\"#E5ECF6\",\"caxis\":{\"gridcolor\":\"white\",\"linecolor\":\"white\",\"ticks\":\"\"}},\"title\":{\"x\":0.05},\"xaxis\":{\"automargin\":true,\"gridcolor\":\"white\",\"linecolor\":\"white\",\"ticks\":\"\",\"title\":{\"standoff\":15},\"zerolinecolor\":\"white\",\"zerolinewidth\":2},\"yaxis\":{\"automargin\":true,\"gridcolor\":\"white\",\"linecolor\":\"white\",\"ticks\":\"\",\"title\":{\"standoff\":15},\"zerolinecolor\":\"white\",\"zerolinewidth\":2}}}},                        {\"responsive\": true}                    ).then(function(){\n",
              "                            \n",
              "var gd = document.getElementById('ba48b4ae-e946-4c56-b83d-ba0031e0dcdd');\n",
              "var x = new MutationObserver(function (mutations, observer) {{\n",
              "        var display = window.getComputedStyle(gd).display;\n",
              "        if (!display || display === 'none') {{\n",
              "            console.log([gd, 'removed!']);\n",
              "            Plotly.purge(gd);\n",
              "            observer.disconnect();\n",
              "        }}\n",
              "}});\n",
              "\n",
              "// Listen for the removal of the full notebook cells\n",
              "var notebookContainer = gd.closest('#notebook-container');\n",
              "if (notebookContainer) {{\n",
              "    x.observe(notebookContainer, {childList: true});\n",
              "}}\n",
              "\n",
              "// Listen for the clearing of the current output cell\n",
              "var outputEl = gd.closest('.output');\n",
              "if (outputEl) {{\n",
              "    x.observe(outputEl, {childList: true});\n",
              "}}\n",
              "\n",
              "                        })                };                            </script>        </div>\n",
              "</body>\n",
              "</html>"
            ]
          },
          "metadata": {}
        }
      ]
    }
  ]
}